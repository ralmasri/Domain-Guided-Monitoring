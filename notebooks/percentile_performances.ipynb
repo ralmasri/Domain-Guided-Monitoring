{
 "cells": [
  {
   "cell_type": "code",
   "execution_count": null,
   "metadata": {},
   "outputs": [],
   "source": [
    "import sys \n",
    "import os\n",
    "module_path = os.path.abspath(os.path.join('../'))\n",
    "if module_path not in sys.path:\n",
    "    sys.path.append(module_path)"
   ]
  },
  {
   "cell_type": "code",
   "execution_count": null,
   "metadata": {},
   "outputs": [],
   "source": [
    "import pandas as pd\n",
    "from pathlib import Path\n",
    "from utils.mlflow_query import MlflowHelper\n",
    "from utils.percentiles import calculate_values_per_percentiles, calculate_accuracies_per_percentiles, plot_accuracies_per_percentiles"
   ]
  },
  {
   "cell_type": "code",
   "execution_count": null,
   "metadata": {},
   "outputs": [],
   "source": [
    "mlflow_helper = MlflowHelper(pkl_file=Path(\"mlflow_run_df.pkl\"), \n",
    "    local_mlflow_dir_prefix='/home/i40/almasrirz/Domain-Guided-Monitoring/mlruns/', \n",
    "    experiment_id=\"831333387297563441\")\n",
    "mlflow_helper.query_runs(pkl_file=Path(\"mlflow_run_df.pkl\"))"
   ]
  },
  {
   "cell_type": "code",
   "execution_count": null,
   "metadata": {},
   "outputs": [],
   "source": [
    "percentile_names=[\n",
    "    'avg_input_frequencies_percentile', \n",
    "    'median_input_frequencies_percentile', \n",
    "    'min_input_frequencies_percentile', \n",
    "    'p10_input_frequencies_percentile', \n",
    "    'unknown_inputs_percentile', \n",
    "    'output_frequency_percentile',\n",
    "    'avg_input_frequencies_range', \n",
    "    'median_input_frequencies_range', \n",
    "    'min_input_frequencies_range', \n",
    "    'p10_input_frequencies_range', \n",
    "    'unknown_inputs_range', \n",
    "    \"unclustered_inputs_percentile\",\n",
    "    \"unclustered_inputs_perc_percentile\",\n",
    "    \"clustered_inputs_percentile\",\n",
    "    \"clustered_inputs_perc_percentile\",\n",
    "    \"single_clustered_inputs_percentile\",\n",
    "    \"single_clustered_inputs_perc_percentile\",\n",
    "    \"single_clustered_inputs_clusterperc_percentile\",\n",
    "    \"multi_clustered_inputs_percentile\",\n",
    "    \"multi_clustered_inputs_perc_percentile\",\n",
    "    \"multi_clustered_inputs_clusterperc_percentile\",\n",
    "    \"avg_cluster_input_frequency_percentile\",\n",
    "    \"median_cluster_input_frequency_percentile\",\n",
    "    \"unclustered_inputs_range\",\n",
    "    \"unclustered_inputs_perc_range\",\n",
    "    \"clustered_inputs_range\",\n",
    "    \"clustered_inputs_perc_range\",\n",
    "    \"single_clustered_inputs_range\",\n",
    "    \"single_clustered_inputs_perc_range\",\n",
    "    \"single_clustered_inputs_clusterperc_range\",\n",
    "    \"multi_clustered_inputs_range\",\n",
    "    \"multi_clustered_inputs_perc_range\",\n",
    "    \"multi_clustered_inputs_clusterperc_range\",\n",
    "    \"avg_cluster_input_frequency_range\",\n",
    "    \"median_cluster_input_frequency_range\",\n",
    "]"
   ]
  },
  {
   "cell_type": "markdown",
   "metadata": {},
   "source": [
    "# Overall accuracy per percentiles"
   ]
  },
  {
   "cell_type": "code",
   "execution_count": null,
   "metadata": {},
   "outputs": [],
   "source": [
    "# relevant_huawei_run_df = mlflow_helper.huawei_run_df(include_noise=False, include_refinements=False)\n",
    "# huawei_value_df = calculate_values_per_percentiles(\n",
    "#     relevant_run_df=relevant_huawei_run_df, \n",
    "#     num_percentiles=10,\n",
    "#     percentile_names=[\n",
    "#         (percentile_name, percentile_name.replace(\"_range\", \"\").replace(\"_percentile\", \"\"))\n",
    "#         for percentile_name in percentile_names\n",
    "#         if not \"output_frequency\" in percentile_name\n",
    "#         and percentile_name.endswith(\"_percentile\")\n",
    "#     ],\n",
    "#     cluster_threshold=0.5,\n",
    "#     local_mlflow_dir=mlflow_helper.local_mlflow_dir)"
   ]
  },
  {
   "cell_type": "code",
   "execution_count": null,
   "metadata": {},
   "outputs": [],
   "source": [
    "rel_df_huawei_1 = mlflow_helper.huawei_run_df(include_noise=False, include_refinements=False, valid_x_columns=[\"fine_log_cluster_template\"])\n",
    "accuracy_df_1 = calculate_accuracies_per_percentiles(\n",
    "   relevant_run_df=rel_df_huawei_1, k=5, num_percentiles=10, num_input_percentiles=10,\n",
    "   percentile_names=percentile_names,\n",
    "   local_mlflow_dir=mlflow_helper.local_mlflow_dir)\n",
    "accuracy_df_1.to_csv(\"accuracy_df_1.csv\")\n",
    "accuracy_df_huawei_1 = pd.read_csv(\"accuracy_df_1.csv\")"
   ]
  },
  {
   "cell_type": "code",
   "execution_count": null,
   "metadata": {},
   "outputs": [],
   "source": [
    "relevant_huawei_run_df = mlflow_helper.huawei_run_df(include_noise=False, include_refinements=False)\n",
    "# huawei_accuracy_df = calculate_accuracies_per_percentiles(\n",
    "#     relevant_run_df=relevant_huawei_run_df, k=5, num_percentiles=10, num_input_percentiles=10,\n",
    "#     percentile_names=percentile_names,\n",
    "#     local_mlflow_dir=mlflow_helper.local_mlflow_dir)"
   ]
  },
  {
   "cell_type": "code",
   "execution_count": null,
   "metadata": {},
   "outputs": [],
   "source": [
    "plot_accuracies_per_percentiles(\n",
    "    relevant_run_df=relevant_huawei_run_df, \n",
    "    accuracy_df=accuracy_df_huawei_1[\n",
    "        accuracy_df_huawei_1[\"type\"].apply(lambda x: x in [\n",
    "            \"clustered_inputs_perc_percentile\",\n",
    "            \"single_clustered_inputs_perc_percentile\",\n",
    "            \"multi_clustered_inputs_perc_percentile\"\n",
    "        ])    \n",
    "    ],\n",
    "    show_plot=True,\n",
    "    share_y=True\n",
    ")"
   ]
  },
  {
   "cell_type": "markdown",
   "metadata": {},
   "source": [
    "# Accuracy@ for different input granularities"
   ]
  },
  {
   "cell_type": "code",
   "execution_count": null,
   "metadata": {},
   "outputs": [],
   "source": [
    "merged_df = pd.merge(\n",
    "    relevant_mimic_run_df2[\n",
    "        relevant_mimic_run_df2[\"data_params_ModelConfigbase_hidden_embeddings_trainable\"] == \"False\"\n",
    "    ], mimic_accuracy_df2[\n",
    "        mimic_accuracy_df2[\"type\"] == \"output_frequency_percentile\"\n",
    "    ], left_on=\"info_run_id\", right_on=\"run_id\")\n",
    "sns.catplot(\n",
    "    data=merged_df,\n",
    "    x=\"data_tags_model_type\",\n",
    "    order=[\"simple\", \"gram\", \"text\", \"causal\"],\n",
    "    y=\"accuracy\",\n",
    "    kind=\"box\",\n",
    "    row=\"percentile\",\n",
    "    col=\"data_params_SequenceConfigx_sequence_column_name\",\n",
    "    col_order=[\"level_0\", \"level_1\", \"level_2\"],\n",
    "    sharey=\"row\",\n",
    ").set_titles(\"Percentile: {row_name}, X = {col_name}\").set_axis_labels(\n",
    "    \"\", \"accuracy\"\n",
    ")\n",
    "plt.show()"
   ]
  },
  {
   "cell_type": "code",
   "execution_count": null,
   "metadata": {},
   "outputs": [],
   "source": [
    "plot_accuracies_per_percentiles(\n",
    "    relevant_run_df=relevant_mimic_run_df2[\n",
    "        relevant_mimic_run_df2[\"data_params_ModelConfigbase_hidden_embeddings_trainable\"] == \"False\"\n",
    "    ], \n",
    "    accuracy_df=mimic_accuracy_df2[\n",
    "        (mimic_accuracy_df2[\"type\"] == \"output_frequency_percentile\")\n",
    "        & (mimic_accuracy_df2[\"percentile\"].astype(int) > -1)\n",
    "    ],\n",
    "    comparison_column=\"data_params_SequenceConfigx_sequence_column_name\",\n",
    "    comparison_column_order=[\"level_0\", \"level_1\", \"level_2\"],\n",
    "    show_plot=True,\n",
    "    share_y=True)"
   ]
  },
  {
   "cell_type": "code",
   "execution_count": null,
   "metadata": {},
   "outputs": [],
   "source": [
    "grouped_df = (\n",
    "    pd.merge(\n",
    "        relevant_mimic_run_df2[relevant_mimic_run_df2['data_tags_model_type'] != 'causal2'], \n",
    "        mimic_accuracy_df2[mimic_accuracy_df2['type'] == 'avg_input_frequencies_percentile'], left_on=\"info_run_id\", right_on=\"run_id\")\n",
    "    .groupby(\n",
    "        [\n",
    "            \"data_tags_model_type\",\n",
    "            \"data_params_ModelConfigbase_hidden_embeddings_trainable\",\n",
    "            \"data_params_SequenceConfigx_sequence_column_name\",\n",
    "            \"info_run_id\",\n",
    "            \"type\",\n",
    "            \"percentile\",\n",
    "        ],\n",
    "        as_index=False,\n",
    "    )\n",
    "    .agg({\"accuracy\": max,})\n",
    ")\n",
    "g = sns.relplot(\n",
    "    data=grouped_df,\n",
    "    x=\"percentile\",\n",
    "    y=\"accuracy\",\n",
    "    row=\"type\",\n",
    "    col=\"data_tags_model_type\",\n",
    "    hue=\"data_params_SequenceConfigx_sequence_column_name\",\n",
    "    style=\"data_params_ModelConfigbase_hidden_embeddings_trainable\",\n",
    "    kind=\"line\",\n",
    "    palette=None,\n",
    ")\n",
    "g.set_titles(\"Type: {row_name}, Model: {col_name}\").set_axis_labels(\n",
    "    \"\", \"accuracy\"\n",
    ")\n",
    "for ax in g.axes.flatten():\n",
    "    ax.tick_params(labelbottom=True)\n",
    "plt.show()"
   ]
  },
  {
   "cell_type": "code",
   "execution_count": null,
   "metadata": {},
   "outputs": [],
   "source": [
    "relevant_huawei_run_df2 = mlflow_helper.huawei_run_df(include_noise=False, include_refinements=False, \n",
    "    valid_x_columns=[\"fine_log_cluster_template\", \"coarse_log_cluster_template\"])\n",
    "huawei_accuracy_df2 = calculate_accuracies_per_percentiles(\n",
    "    relevant_run_df=relevant_huawei_run_df2, \n",
    "    k=5, num_percentiles=10, num_input_percentiles=10,\n",
    "    percentile_names=percentile_names,\n",
    "    local_mlflow_dir=mlflow_helper.local_mlflow_dir)"
   ]
  },
  {
   "cell_type": "code",
   "execution_count": null,
   "metadata": {},
   "outputs": [],
   "source": [
    "plot_accuracies_per_percentiles(\n",
    "    show_plot=False,\n",
    "    relevant_run_df=relevant_huawei_run_df2[relevant_huawei_run_df2[\"data_params_ModelConfigbase_hidden_embeddings_trainable\"] == \"False\"], \n",
    "    accuracy_df=huawei_accuracy_df2[(huawei_accuracy_df2[\"type\"] == \"avg_input_frequencies_percentile\") | (huawei_accuracy_df2[\"type\"] == \"unknown_inputs_percentile\")],\n",
    "    comparison_column=\"data_params_SequenceConfigx_sequence_column_name\",\n",
    "    comparison_column_order=[\"log_cluster_template\", \"coarse_log_cluster_template\"],\n",
    "    share_y=True)"
   ]
  },
  {
   "cell_type": "code",
   "execution_count": null,
   "metadata": {},
   "outputs": [],
   "source": [
    "grouped_df = (\n",
    "    pd.merge(\n",
    "        relevant_huawei_run_df2[relevant_huawei_run_df2['data_tags_model_type'] != 'causal2'], \n",
    "        huawei_accuracy_df2[(huawei_accuracy_df2[\"type\"] == \"avg_input_frequencies_percentile\") | (huawei_accuracy_df2[\"type\"] == \"unknown_inputs_percentile\")],\n",
    "        left_on=\"info_run_id\", right_on=\"run_id\")\n",
    "    .groupby(\n",
    "        [\n",
    "            \"data_tags_model_type\",\n",
    "            \"data_params_ModelConfigbase_hidden_embeddings_trainable\",\n",
    "            \"data_params_SequenceConfigx_sequence_column_name\",\n",
    "            \"info_run_id\",\n",
    "            \"type\",\n",
    "            \"percentile\",\n",
    "        ],\n",
    "        as_index=False,\n",
    "    )\n",
    "    .agg({\"accuracy\": max,})\n",
    ")\n",
    "g = sns.relplot(\n",
    "    data=grouped_df,\n",
    "    x=\"percentile\",\n",
    "    y=\"accuracy\",\n",
    "    row=\"type\",\n",
    "    col=\"data_tags_model_type\",\n",
    "    hue=\"data_params_SequenceConfigx_sequence_column_name\",\n",
    "    style=\"data_params_ModelConfigbase_hidden_embeddings_trainable\",\n",
    "    kind=\"line\",\n",
    "    palette=None,\n",
    ")\n",
    "g.set_titles(\"Type: {row_name}, Model: {col_name}\").set_axis_labels(\n",
    "    \"\", \"accuracy\"\n",
    ")\n",
    "for ax in g.axes.flatten():\n",
    "    ax.tick_params(labelbottom=True)\n",
    "plt.show()"
   ]
  },
  {
   "cell_type": "code",
   "execution_count": null,
   "metadata": {},
   "outputs": [],
   "source": [
    "relevant_mimic_run_df.to_pickle(\"percentile_relevant_mimic_run_df.pkl\")\n",
    "relevant_huawei_run_df.to_pickle(\"percentile_relevant_huawei_run_df.pkl\")\n",
    "relevant_mimic_run_df2.to_pickle(\"percentile_relevant_mimic_run_df2.pkl\")\n",
    "relevant_huawei_run_df2.to_pickle(\"percentile_relevant_huawei_run_df2.pkl\")\n",
    "\n",
    "mimic_accuracy_df.to_pickle(\"percentile_mimic_accuracy_df.pkl\")\n",
    "mimic_accuracy_df2.to_pickle(\"percentile_mimic_accuracy_df2.pkl\")\n",
    "huawei_accuracy_df.to_pickle(\"percentile_huawei_accuracy_df.pkl\")\n",
    "huawei_accuracy_df2.to_pickle(\"percentile_huawei_accuracy_df2.pkl\")"
   ]
  },
  {
   "cell_type": "code",
   "execution_count": null,
   "metadata": {},
   "outputs": [],
   "source": [
    "relevant_mimic_run_df = pd.read_pickle(\"percentile_relevant_mimic_run_df.pkl\")\n",
    "relevant_huawei_run_df = pd.read_pickle(\"percentile_relevant_huawei_run_df.pkl\")\n",
    "relevant_mimic_run_df2 = pd.read_pickle(\"percentile_relevant_mimic_run_df2.pkl\")\n",
    "relevant_huawei_run_df2 = pd.read_pickle(\"percentile_relevant_huawei_run_df2.pkl\")\n",
    "\n",
    "mimic_accuracy_df = pd.read_pickle(\"percentile_mimic_accuracy_df.pkl\")\n",
    "mimic_accuracy_df2 = pd.read_pickle(\"percentile_mimic_accuracy_df2.pkl\")\n",
    "huawei_accuracy_df = pd.read_pickle(\"percentile_huawei_accuracy_df.pkl\")\n",
    "huawei_accuracy_df2 = pd.read_pickle(\"percentile_huawei_accuracy_df2.pkl\")"
   ]
  }
 ],
 "metadata": {
  "kernelspec": {
   "display_name": "Python 3.8.13 ('base': conda)",
   "language": "python",
   "name": "python3"
  },
  "language_info": {
   "codemirror_mode": {
    "name": "ipython",
    "version": 3
   },
   "file_extension": ".py",
   "mimetype": "text/x-python",
   "name": "python",
   "nbconvert_exporter": "python",
   "pygments_lexer": "ipython3",
   "version": "3.8.13 (default, Mar 28 2022, 11:38:47) \n[GCC 7.5.0]"
  },
  "orig_nbformat": 4,
  "vscode": {
   "interpreter": {
    "hash": "f132c1a3901662f6981b0e0a4184ecfac745a723098982c71b46c6572655eef3"
   }
  }
 },
 "nbformat": 4,
 "nbformat_minor": 2
}
