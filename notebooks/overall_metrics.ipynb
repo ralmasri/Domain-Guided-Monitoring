{
 "cells": [
  {
   "cell_type": "code",
   "execution_count": null,
   "metadata": {},
   "outputs": [],
   "source": [
    "import sys \n",
    "import os\n",
    "module_path = os.path.abspath(os.path.join('../'))\n",
    "if module_path not in sys.path:\n",
    "    sys.path.append(module_path)\n",
    "import pandas as pd\n",
    "import matplotlib.pyplot as plt\n",
    "import seaborn as sns\n",
    "from pathlib import Path\n",
    "from utils.mlflow_query import MlflowHelper"
   ]
  },
  {
   "cell_type": "code",
   "execution_count": null,
   "metadata": {},
   "outputs": [],
   "source": [
    "mlflow_helper = MlflowHelper(pkl_file=Path(\"mlflow_run_df.pkl\"), \n",
    "    local_mlflow_dir_prefix='/home/i40/almasrirz/Domain-Guided-Monitoring/mlruns/', \n",
    "    experiment_id=\"831333387297563441\")\n",
    "mlflow_helper.query_runs(pkl_file=Path(\"mlflow_run_df.pkl\"))"
   ]
  },
  {
   "cell_type": "code",
   "execution_count": null,
   "metadata": {},
   "outputs": [],
   "source": [
    "def plot_metrics_over_epochs(metric_df, metric_names, \n",
    "    column_feature_name='data_tags_model_type', \n",
    "    row_feature_name='data_tags_sequence_type',\n",
    "    hue_feature_name='data_params_ModelConfighidden_embedding_initializer',\n",
    "    style_feature_name='data_params_ModelConfigbase_hidden_embeddings_trainable',\n",
    "    titles=\"{row_name}, {col_name}\",\n",
    "):\n",
    "    for metric_name in metric_names:\n",
    "        g = sns.relplot(\n",
    "            data=metric_df, x=\"epoch\", y=metric_name,\n",
    "            col=column_feature_name, row=row_feature_name, \n",
    "            hue=hue_feature_name, style=style_feature_name, \n",
    "            units='info_run_id', estimator=None,\n",
    "            kind=\"line\", facet_kws={'sharey':False},\n",
    "        )\n",
    "        g.set_titles(titles)\n",
    "        g.savefig(\"epochs_{}.png\".format(metric_name))\n",
    "\n",
    "def plot_best_metric_strip(metric_df, metric_names, feature_names,\n",
    "    x_feature_name='data_tags_model_type', \n",
    "    x_order=['simple', 'causal_heuristic',], #'causal_score'],\n",
    "    row_feature_name='data_tags_sequence_type',\n",
    "    hue_feature_name='data_params_ModelConfighidden_embedding_initializer',\n",
    "    column_feature_name='data_params_ModelConfigbase_hidden_embeddings_trainable',\n",
    "    titles=\"{row_name}, Trainable: {col_name}\",\n",
    "):\n",
    "    grouped_df = metric_df.groupby(feature_names, as_index=False).agg({\n",
    "        metric_name:max for metric_name in metric_names\n",
    "    })\n",
    "    for metric_name in metric_names:\n",
    "        g = sns.catplot(\n",
    "            data=grouped_df, y=metric_name, \n",
    "            x=x_feature_name, order=x_order, row=row_feature_name, \n",
    "            hue=hue_feature_name, col=column_feature_name,\n",
    "            kind=\"strip\", sharey='row',\n",
    "        )\n",
    "        g.set_titles(titles).set_axis_labels('', metric_name)\n",
    "        for ax in g.axes.flatten():\n",
    "            ax.tick_params(labelbottom=True)\n",
    "\n",
    "        g.savefig(\"strip_{}.png\".format(metric_name))\n",
    "\n",
    "def plot_best_metric_bar(metric_df, metric_names,\n",
    "    x_feature_name='data_tags_model_type', \n",
    "    x_order=['simple', 'causal_heuristic', 'causal_score'],\n",
    "    row_feature_name='data_tags_sequence_type',\n",
    "    hue_feature_name='data_params_ModelConfighidden_embedding_initializer',\n",
    "    col_feature_name='data_params_ModelConfigbase_hidden_embeddings_trainable',\n",
    "    titles=\"{row_name}, Trainable: {col_name}\",\n",
    "    palette=None,\n",
    "    dodge=True,\n",
    "    col_order=None,\n",
    "):\n",
    "    for metric_name in metric_names:\n",
    "        g = sns.catplot(\n",
    "            data=metric_df, x=x_feature_name, y=metric_name, order=x_order,\n",
    "            row=row_feature_name, hue=hue_feature_name, col=col_feature_name, col_order=col_order,\n",
    "            kind=\"box\", sharey='row', palette=palette, dodge=dodge,\n",
    "        )\n",
    "        g.set_titles(titles).set_axis_labels('', metric_name)\n",
    "        for ax in g.axes.flatten():\n",
    "            ax.tick_params(labelbottom=True)\n",
    "        g.savefig(\"bar_{}.png\".format(metric_name))\n"
   ]
  },
  {
   "cell_type": "code",
   "execution_count": null,
   "metadata": {},
   "outputs": [],
   "source": [
    "df = mlflow_helper.huawei_run_df(include_noise=False, include_refinements=False, risk_prediction=False, include_drain_hierarchy=True)\n",
    "df = mlflow_helper.load_best_metrics_for_ids(set(df[\"info_run_id\"]))\n",
    "g = sns.catplot(\n",
    "    data=df, \n",
    "    x=\"data_tags_model_type\",\n",
    "    y='epoch', \n",
    "    order=[\"simple\", \"causal_heuristic\", \"causal_score\"],\n",
    "    #col=\"data_params_ModelConfigbase_hidden_embeddings_trainable\",\n",
    "    #col_order=[\"False\", \"True\"],\n",
    "    kind=\"box\", \n",
    "    palette='Set2', \n",
    "    #color=\"#19b39c\",\n",
    "    #dodge=False,\n",
    ").set_axis_labels('', \"Epochs until convergence\")#.set_titles(\"Embeddings trainable: {col_name}\")\n",
    "plt.tight_layout()\n",
    "# plt.savefig(\"huawei_epochs_nontrainable.png\", dpi=100)\n",
    "plt.show()"
   ]
  },
  {
   "cell_type": "code",
   "execution_count": null,
   "metadata": {},
   "outputs": [],
   "source": [
    "df = mlflow_helper.huawei_run_df(include_noise=False, include_refinements=False, risk_prediction=False, include_drain_hierarchy=True)\n",
    "df = mlflow_helper.load_training_times_for_ids(set(df[\"info_run_id\"]))\n",
    "g = sns.catplot(\n",
    "    data=df\n",
    "    , x=\"data_tags_model_type\",\n",
    "    y='total_duration', \n",
    "    order=[\"simple\", \"causal_heuristic\", \"causal_score\"],\n",
    "    #col_order=[\"False\", \"True\"],\n",
    "    kind=\"box\", \n",
    "    palette='Set2', \n",
    "    #color=\"#19b39c\",\n",
    "    #dodge=False,\n",
    ").set_axis_labels('', \"Total training duration [ms]\")#.set_titles(\"Embeddings trainable: {col_name}\")\n",
    "plt.tight_layout()\n",
    "plt.savefig(\"huawei_total_duration_nontrainable.png\", dpi=100)\n",
    "plt.show()"
   ]
  },
  {
   "cell_type": "code",
   "execution_count": null,
   "metadata": {},
   "outputs": [],
   "source": [
    "df[\"avg_per_epoch_conv\"] = df[\"avg_per_epoch\"] / (1000)\n",
    "df.groupby(by=\"data_tags_model_type\")[\"avg_per_epoch_conv\"].describe()"
   ]
  },
  {
   "cell_type": "code",
   "execution_count": null,
   "metadata": {},
   "outputs": [],
   "source": [
    "df = mlflow_helper.huawei_run_df(\n",
    "    include_noise=False, \n",
    "    include_refinements=False, \n",
    "    risk_prediction=False,\n",
    "    include_drain_hierarchy=True,\n",
    "    valid_x_columns=[\"fine_log_cluster_template\", \"coarse_log_cluster_template\"])\n",
    "\n",
    "df = mlflow_helper.load_best_metrics_for_ids(set(df[\"info_run_id\"]))\n",
    "df[\"data_params_SequenceConfigx_sequence_column_name\"] = df[\"data_params_SequenceConfigx_sequence_column_name\"].apply(lambda x: {\n",
    "    \"log_cluster_template\": \"fine_log_cluster_template\",\n",
    "}.get(x, x))\n",
    "df[\"baseline\"] = df[\"data_tags_model_type\"] == \"simple\"\n",
    "\n",
    "g = sns.catplot(\n",
    "    data=df[\n",
    "        df[\"data_tags_model_type\"].apply(lambda x: x == \"simple\")\n",
    "    ], x=\"data_params_SequenceConfigx_sequence_column_name\", y='val_top_5_categorical_accuracy_history_best', \n",
    "    order=[\"fine_log_cluster_template\"],\n",
    "    # order=[\"fine_log_cluster_template\", \"coarse_log_cluster_template\"],\n",
    "    kind=\"box\", palette='Set2',\n",
    "    dodge=False,\n",
    ").set_axis_labels('', \"val_top_5_categorical_accuracy\")\n",
    "plt.show()"
   ]
  },
  {
   "cell_type": "code",
   "execution_count": null,
   "metadata": {},
   "outputs": [],
   "source": [
    "huawei_df = mlflow_helper.huawei_run_df(include_noise=False, include_refinements=False, risk_prediction=False)\n",
    "huawei_df = mlflow_helper.load_best_metrics_for_ids(set(huawei_df[\"info_run_id\"]))"
   ]
  },
  {
   "cell_type": "code",
   "execution_count": null,
   "metadata": {},
   "outputs": [],
   "source": [
    "plot_best_metric_bar(huawei_df, ['val_top_5_categorical_accuracy_history_best', 'val_top_10_categorical_accuracy_history_best', 'epoch'], \n",
    "    hue_feature_name=None, \n",
    "    col_feature_name='data_params_ModelConfigbase_hidden_embeddings_trainable',\n",
    "    row_feature_name=None,\n",
    "    x_order=[\"simple\", \"causal_score\", \"causal_heuristic\"],\n",
    "    titles=\"Embeddings Trainable: {col_name}\")\n",
    "plt.show()"
   ]
  },
  {
   "cell_type": "code",
   "execution_count": null,
   "metadata": {},
   "outputs": [],
   "source": [
    "huawei_df = mlflow_helper.huawei_run_df(\n",
    "    include_noise=False, include_refinements=False, risk_prediction=False, include_drain_hierarchy=True,\n",
    "    valid_x_columns=[\"log_cluster_template\", \"fine_log_cluster_template\", \"coarse_log_cluster_template\", \"attention_log_cluster_template_90\"])\n",
    "huawei_df = mlflow_helper.load_best_metrics_for_ids(set(huawei_df[\"info_run_id\"]))"
   ]
  },
  {
   "cell_type": "code",
   "execution_count": null,
   "metadata": {},
   "outputs": [],
   "source": [
    "plot_best_metric_bar(huawei_df, ['val_top_5_categorical_accuracy_history_best', 'epoch'], \n",
    "    hue_feature_name=None, \n",
    "    col_feature_name='data_params_SequenceConfigx_sequence_column_name',\n",
    "    row_feature_name='data_params_ModelConfigbase_hidden_embeddings_trainable',\n",
    "    col_order=[\"fine_log_cluster_template\"],\n",
    "    x_order=[\"simple\", \"causal_score\", \"causal_heuristic\"],\n",
    "    titles=\"Level: {col_name}, Embeddings Trainable: {row_name}\")\n",
    "plt.show()"
   ]
  },
  {
   "cell_type": "code",
   "execution_count": null,
   "metadata": {},
   "outputs": [],
   "source": [
    "huawei_df = mlflow_helper.huawei_run_df(include_noise=False, include_refinements=False, risk_prediction=False)\n",
    "huawei_df = mlflow_helper.load_metric_history_for_ids(set(huawei_df[\"info_run_id\"]))"
   ]
  },
  {
   "cell_type": "code",
   "execution_count": null,
   "metadata": {},
   "outputs": [],
   "source": [
    "huawei_df = mlflow_helper.huawei_run_df(include_noise=False, include_refinements=False, risk_prediction=False)\n",
    "huawei_df = mlflow_helper.load_best_metrics_for_ids(set(huawei_df[\"info_run_id\"]))"
   ]
  },
  {
   "cell_type": "code",
   "execution_count": null,
   "metadata": {},
   "outputs": [],
   "source": [
    "prediction_df = pd.read_csv(mlflow_helper.local_mlflow_dir + str(huawei_df[\"info_run_id\"].iloc[0]) + \"/artifacts/prediction_output.csv\")\n",
    "prediction_df"
   ]
  },
  {
   "cell_type": "code",
   "execution_count": null,
   "metadata": {},
   "outputs": [],
   "source": [
    "prediction_df['input'].apply(lambda x: 1 if \"exception\" in x.lower() else 0).sum()"
   ]
  },
  {
   "cell_type": "code",
   "execution_count": null,
   "metadata": {},
   "outputs": [],
   "source": [
    "huawei_df[['epoch', 'data_tags_model_type']]"
   ]
  },
  {
   "cell_type": "code",
   "execution_count": null,
   "metadata": {},
   "outputs": [],
   "source": [
    "plot_best_metric_bar(huawei_df, ['epoch'], \n",
    "    hue_feature_name=None, \n",
    "    col_feature_name='data_params_ModelConfigbase_hidden_embeddings_trainable',\n",
    "    row_feature_name=None,\n",
    "    x_order=[\"simple\", \"causal_score\", \"causal_heuristic\"],\n",
    "    titles=\"Embeddings Trainable: {col_name}\")\n",
    "plt.show()"
   ]
  },
  {
   "cell_type": "markdown",
   "metadata": {},
   "source": [
    "# NOISE"
   ]
  },
  {
   "cell_type": "code",
   "execution_count": null,
   "metadata": {},
   "outputs": [],
   "source": [
    "mimic_noise_df = mlflow_helper.mimic_run_df(include_noise=True)\n",
    "mimic_noise_df = mlflow_helper.load_best_metrics_for_ids(set(mimic_noise_df[\"info_run_id\"]))\n",
    "mimic_noise_df['data_tags_noise_type'] = mimic_noise_df['data_tags_noise_type'].fillna('').astype(str).apply(lambda x: x + '_threshold0.0' if len(str(x)) <= len('added0.0_removed0.1') and len(x) > 0 else x)\n",
    "mimic_noise_df['data_tags_noise_type'] = mimic_noise_df['data_tags_noise_type'].apply(lambda x: 'no_noise' if len(x) == 0  or x == 'nan' else x)"
   ]
  },
  {
   "cell_type": "code",
   "execution_count": null,
   "metadata": {},
   "outputs": [],
   "source": [
    "mimic_noise_df = mimic_noise_df[mimic_noise_df['data_tags_model_type'].apply(lambda x: x in ['hierarchy', 'gram', 'causal', 'text'])].copy().reset_index(drop=True)\n",
    "mimic_noise_df = mimic_noise_df[mimic_noise_df['data_tags_noise_type'].str.endswith('_threshold0.0') | mimic_noise_df['data_tags_noise_type'].str.endswith('no_noise')].copy().reset_index(drop=True)\n",
    "mimic_noise_df['noise'] = mimic_noise_df['data_tags_noise_type'].apply(\n",
    "    lambda x: float(x[len('added'):len('added0.0')]) - float(x[len('added0.0_removed'):len('added0.0_removed0.0')]) if not (x == 'no_noise') else 0.0\n",
    ")\n",
    "mimic_noise_df['Knowledge Graph'] = mimic_noise_df['noise'].apply(lambda x: 'Original' if x == 0.0 else 'Noisy')\n",
    "mimic_noise_df[\"Domain Knowledge\"] = mimic_noise_df[\"data_tags_model_type\"].apply(lambda x: {\n",
    "    \"gram\": \"hierarchy\",\n",
    "}.get(x, x))\n",
    "\n",
    "g = sns.catplot(\n",
    "    data=mimic_noise_df[\n",
    "        mimic_noise_df[\"data_params_ModelConfigbase_hidden_embeddings_trainable\"] == \"False\"\n",
    "    ], x=\"noise\", y='val_top_20_categorical_accuracy_history_best', \n",
    "    col=\"Domain Knowledge\",\n",
    "    col_order=[\"hierarchy\", \"causal\", \"text\"],\n",
    "    kind=\"box\", palette='Set2',\n",
    "    hue=\"Knowledge Graph\", dodge=False,\n",
    "    hue_order=[\"Noisy\", \"Original\"],\n",
    ").set_axis_labels('Degree of Noise', \"val_top_20_categorical_accuracy\").set_titles(\"Domain Knowledge: {col_name}\")\n",
    "\n",
    "#plt.tight_layout()\n",
    "plt.savefig(\"noise.png\", dpi=100, bbox_inches=\"tight\")\n",
    "plt.show()"
   ]
  }
 ],
 "metadata": {
  "kernelspec": {
   "display_name": "Python 3.8.13 ('base': conda)",
   "language": "python",
   "name": "python3"
  },
  "language_info": {
   "codemirror_mode": {
    "name": "ipython",
    "version": 3
   },
   "file_extension": ".py",
   "mimetype": "text/x-python",
   "name": "python",
   "nbconvert_exporter": "python",
   "pygments_lexer": "ipython3",
   "version": "3.8.13"
  },
  "orig_nbformat": 2,
  "vscode": {
   "interpreter": {
    "hash": "f132c1a3901662f6981b0e0a4184ecfac745a723098982c71b46c6572655eef3"
   }
  }
 },
 "nbformat": 4,
 "nbformat_minor": 2
}
