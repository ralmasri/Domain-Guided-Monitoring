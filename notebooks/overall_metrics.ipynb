{
 "cells": [
  {
   "cell_type": "code",
   "execution_count": 1,
   "metadata": {},
   "outputs": [],
   "source": [
    "import sys \n",
    "import os\n",
    "module_path = os.path.abspath(os.path.join('../'))\n",
    "if module_path not in sys.path:\n",
    "    sys.path.append(module_path)\n",
    "import pandas as pd\n",
    "import matplotlib.pyplot as plt\n",
    "import seaborn as sns\n",
    "from pathlib import Path\n",
    "from utils.mlflow_query import MlflowHelper"
   ]
  },
  {
   "cell_type": "code",
   "execution_count": 2,
   "metadata": {},
   "outputs": [
    {
     "name": "stderr",
     "output_type": "stream",
     "text": [
      "Querying data per run...: 100%|██████████| 6/6 [00:01<00:00,  4.94it/s]\n"
     ]
    }
   ],
   "source": [
    "mlflow_helper = MlflowHelper(pkl_file=Path(\"mlflow_run_df.pkl\"), local_mlflow_dir_prefix='../../mlruns/')\n",
    "mlflow_helper.query_runs(pkl_file=Path(\"mlflow_run_df.pkl\"), filter_string= \"tags.test = '1'\")"
   ]
  },
  {
   "cell_type": "code",
   "execution_count": 3,
   "metadata": {},
   "outputs": [],
   "source": [
    "def plot_metrics_over_epochs(metric_df, metric_names, \n",
    "    column_feature_name='data_tags_model_type', \n",
    "    row_feature_name='data_tags_sequence_type',\n",
    "    hue_feature_name='data_params_ModelConfighidden_embedding_initializer',\n",
    "    style_feature_name='data_params_ModelConfigbase_hidden_embeddings_trainable',\n",
    "    titles=\"{row_name}, {col_name}\",\n",
    "):\n",
    "    for metric_name in metric_names:\n",
    "        g = sns.relplot(\n",
    "            data=metric_df, x=\"epoch\", y=metric_name,\n",
    "            col=column_feature_name, row=row_feature_name, \n",
    "            hue=hue_feature_name, style=style_feature_name, \n",
    "            units='info_run_id', estimator=None,\n",
    "            kind=\"line\", facet_kws={'sharey':False},\n",
    "        )\n",
    "        g.set_titles(titles)\n",
    "        g.savefig(\"epochs_{}.png\".format(metric_name))\n",
    "\n",
    "def plot_best_metric_strip(metric_df, metric_names, feature_names,\n",
    "    x_feature_name='data_tags_model_type', \n",
    "    x_order=['simple', 'causal_heuristic',], #'causal_score'],\n",
    "    row_feature_name='data_tags_sequence_type',\n",
    "    hue_feature_name='data_params_ModelConfighidden_embedding_initializer',\n",
    "    column_feature_name='data_params_ModelConfigbase_hidden_embeddings_trainable',\n",
    "    titles=\"{row_name}, Trainable: {col_name}\",\n",
    "):\n",
    "    grouped_df = metric_df.groupby(feature_names, as_index=False).agg({\n",
    "        metric_name:max for metric_name in metric_names\n",
    "    })\n",
    "    for metric_name in metric_names:\n",
    "        g = sns.catplot(\n",
    "            data=grouped_df, y=metric_name, \n",
    "            x=x_feature_name, order=x_order, row=row_feature_name, \n",
    "            hue=hue_feature_name, col=column_feature_name,\n",
    "            kind=\"strip\", sharey='row',\n",
    "        )\n",
    "        g.set_titles(titles).set_axis_labels('', metric_name)\n",
    "        for ax in g.axes.flatten():\n",
    "            ax.tick_params(labelbottom=True)\n",
    "\n",
    "        g.savefig(\"strip_{}.png\".format(metric_name))\n",
    "\n",
    "def plot_best_metric_bar(metric_df, metric_names,\n",
    "    x_feature_name='data_tags_model_type', \n",
    "    x_order=['simple', 'causal_heuristic',], #'causal_score'],\n",
    "    row_feature_name='data_tags_sequence_type',\n",
    "    hue_feature_name='data_params_ModelConfighidden_embedding_initializer',\n",
    "    col_feature_name='data_params_ModelConfigbase_hidden_embeddings_trainable',\n",
    "    titles=\"{row_name}, Trainable: {col_name}\",\n",
    "    palette=None,\n",
    "    dodge=True,\n",
    "    col_order=None,\n",
    "):\n",
    "    for metric_name in metric_names:\n",
    "        g = sns.catplot(\n",
    "            data=metric_df, x=x_feature_name, y=metric_name, order=x_order,\n",
    "            row=row_feature_name, hue=hue_feature_name, col=col_feature_name, col_order=col_order,\n",
    "            kind=\"box\", sharey='row', palette=palette, dodge=dodge,\n",
    "        )\n",
    "        g.set_titles(titles).set_axis_labels('', metric_name)\n",
    "        for ax in g.axes.flatten():\n",
    "            ax.tick_params(labelbottom=True)\n",
    "        g.savefig(\"bar_{}.png\".format(metric_name))\n"
   ]
  },
  {
   "cell_type": "code",
   "execution_count": 4,
   "metadata": {},
   "outputs": [
    {
     "name": "stderr",
     "output_type": "stream",
     "text": [
      "Querying metrics for runs: 100%|██████████| 6/6 [00:02<00:00,  2.68it/s]\n"
     ]
    },
    {
     "data": {
      "image/png": "[encoded data removed]",
      "text/plain": [
       "<Figure size 360x360 with 1 Axes>"
      ]
     },
     "metadata": {
      "needs_background": "light"
     },
     "output_type": "display_data"
    }
   ],
   "source": [
    "df = mlflow_helper.huawei_run_df(include_noise=False, include_refinements=False, risk_prediction=False, include_drain_hierarchy=True)\n",
    "df = mlflow_helper.load_best_metrics_for_ids(set(df[\"info_run_id\"]))\n",
    "g = sns.catplot(\n",
    "    data=df, \n",
    "    x=\"data_tags_model_type\",\n",
    "    y='epoch', \n",
    "    order=[\"simple\", \"causal_heuristic\", \"causal_score\"],\n",
    "    #col=\"data_params_ModelConfigbase_hidden_embeddings_trainable\",\n",
    "    #col_order=[\"False\", \"True\"],\n",
    "    kind=\"box\", \n",
    "    palette='Set2', \n",
    "    #color=\"#19b39c\",\n",
    "    #dodge=False,\n",
    ").set_axis_labels('', \"Epochs until convergence\")#.set_titles(\"Embeddings trainable: {col_name}\")\n",
    "plt.tight_layout()\n",
    "# plt.savefig(\"huawei_epochs_nontrainable.png\", dpi=100)\n",
    "plt.show()"
   ]
  },
  {
   "cell_type": "code",
   "execution_count": 5,
   "metadata": {},
   "outputs": [
    {
     "name": "stderr",
     "output_type": "stream",
     "text": [
      "Querying metrics for runs: 100%|██████████| 6/6 [00:02<00:00,  2.58it/s]\n"
     ]
    },
    {
     "data": {
      "image/png": "[encoded data removed]",
      "text/plain": [
       "<Figure size 360x360 with 1 Axes>"
      ]
     },
     "metadata": {
      "needs_background": "light"
     },
     "output_type": "display_data"
    }
   ],
   "source": [
    "df = mlflow_helper.huawei_run_df(include_noise=False, include_refinements=False, risk_prediction=False, include_drain_hierarchy=True)\n",
    "df = mlflow_helper.load_training_times_for_ids(set(df[\"info_run_id\"]))\n",
    "g = sns.catplot(\n",
    "    data=df\n",
    "    , x=\"data_tags_model_type\",\n",
    "    y='total_duration', \n",
    "    order=[\"simple\", \"causal_heuristic\", \"causal_score\"],\n",
    "    #col_order=[\"False\", \"True\"],\n",
    "    kind=\"box\", \n",
    "    palette='Set2', \n",
    "    #color=\"#19b39c\",\n",
    "    #dodge=False,\n",
    ").set_axis_labels('', \"Total training duration [ms]\")#.set_titles(\"Embeddings trainable: {col_name}\")\n",
    "plt.tight_layout()\n",
    "plt.savefig(\"huawei_total_duration_nontrainable.png\", dpi=100)\n",
    "plt.show()"
   ]
  },
  {
   "cell_type": "code",
   "execution_count": 6,
   "metadata": {},
   "outputs": [
    {
     "data": {
      "text/html": [
       "<div>\n",
       "<style scoped>\n",
       "    .dataframe tbody tr th:only-of-type {\n",
       "        vertical-align: middle;\n",
       "    }\n",
       "\n",
       "    .dataframe tbody tr th {\n",
       "        vertical-align: top;\n",
       "    }\n",
       "\n",
       "    .dataframe thead th {\n",
       "        text-align: right;\n",
       "    }\n",
       "</style>\n",
       "<table border=\"1\" class=\"dataframe\">\n",
       "  <thead>\n",
       "    <tr style=\"text-align: right;\">\n",
       "      <th></th>\n",
       "      <th>count</th>\n",
       "      <th>mean</th>\n",
       "      <th>std</th>\n",
       "      <th>min</th>\n",
       "      <th>25%</th>\n",
       "      <th>50%</th>\n",
       "      <th>75%</th>\n",
       "      <th>max</th>\n",
       "    </tr>\n",
       "    <tr>\n",
       "      <th>data_tags_model_type</th>\n",
       "      <th></th>\n",
       "      <th></th>\n",
       "      <th></th>\n",
       "      <th></th>\n",
       "      <th></th>\n",
       "      <th></th>\n",
       "      <th></th>\n",
       "      <th></th>\n",
       "    </tr>\n",
       "  </thead>\n",
       "  <tbody>\n",
       "    <tr>\n",
       "      <th>causal_heuristic</th>\n",
       "      <td>2.0</td>\n",
       "      <td>4.700900</td>\n",
       "      <td>0.975913</td>\n",
       "      <td>4.010825</td>\n",
       "      <td>4.355862</td>\n",
       "      <td>4.700900</td>\n",
       "      <td>5.045937</td>\n",
       "      <td>5.390975</td>\n",
       "    </tr>\n",
       "    <tr>\n",
       "      <th>causal_score</th>\n",
       "      <td>2.0</td>\n",
       "      <td>4.460175</td>\n",
       "      <td>0.992035</td>\n",
       "      <td>3.758700</td>\n",
       "      <td>4.109438</td>\n",
       "      <td>4.460175</td>\n",
       "      <td>4.810912</td>\n",
       "      <td>5.161650</td>\n",
       "    </tr>\n",
       "    <tr>\n",
       "      <th>simple</th>\n",
       "      <td>2.0</td>\n",
       "      <td>5.394188</td>\n",
       "      <td>0.351167</td>\n",
       "      <td>5.145875</td>\n",
       "      <td>5.270031</td>\n",
       "      <td>5.394188</td>\n",
       "      <td>5.518344</td>\n",
       "      <td>5.642500</td>\n",
       "    </tr>\n",
       "  </tbody>\n",
       "</table>\n",
       "</div>"
      ],
      "text/plain": [
       "                      count      mean       std       min       25%       50%  \\\n",
       "data_tags_model_type                                                            \n",
       "causal_heuristic        2.0  4.700900  0.975913  4.010825  4.355862  4.700900   \n",
       "causal_score            2.0  4.460175  0.992035  3.758700  4.109438  4.460175   \n",
       "simple                  2.0  5.394188  0.351167  5.145875  5.270031  5.394188   \n",
       "\n",
       "                           75%       max  \n",
       "data_tags_model_type                      \n",
       "causal_heuristic      5.045937  5.390975  \n",
       "causal_score          4.810912  5.161650  \n",
       "simple                5.518344  5.642500  "
      ]
     },
     "execution_count": 6,
     "metadata": {},
     "output_type": "execute_result"
    }
   ],
   "source": [
    "df[\"avg_per_epoch_conv\"] = df[\"avg_per_epoch\"] / (1000)\n",
    "df.groupby(by=\"data_tags_model_type\")[\"avg_per_epoch_conv\"].describe()"
   ]
  },
  {
   "cell_type": "code",
   "execution_count": 7,
   "metadata": {},
   "outputs": [
    {
     "name": "stderr",
     "output_type": "stream",
     "text": [
      "Querying metrics for runs: 100%|██████████| 6/6 [00:02<00:00,  2.72it/s]\n"
     ]
    },
    {
     "data": {
      "image/png": "[encoded data removed]",
      "text/plain": [
       "<Figure size 360x360 with 1 Axes>"
      ]
     },
     "metadata": {
      "needs_background": "light"
     },
     "output_type": "display_data"
    }
   ],
   "source": [
    "df = mlflow_helper.huawei_run_df(\n",
    "    include_noise=False, \n",
    "    include_refinements=False, \n",
    "    risk_prediction=False,\n",
    "    include_drain_hierarchy=True,\n",
    "    valid_x_columns=[\"fine_log_cluster_template\", \"coarse_log_cluster_template\"])\n",
    "\n",
    "df = mlflow_helper.load_best_metrics_for_ids(set(df[\"info_run_id\"]))\n",
    "df[\"data_params_SequenceConfigx_sequence_column_name\"] = df[\"data_params_SequenceConfigx_sequence_column_name\"].apply(lambda x: {\n",
    "    \"log_cluster_template\": \"fine_log_cluster_template\",\n",
    "}.get(x, x))\n",
    "df[\"baseline\"] = df[\"data_tags_model_type\"] == \"simple\"\n",
    "\n",
    "g = sns.catplot(\n",
    "    data=df[\n",
    "        df[\"data_tags_model_type\"].apply(lambda x: x == \"simple\")\n",
    "    ], x=\"data_params_SequenceConfigx_sequence_column_name\", y='val_top_5_categorical_accuracy_history_best', \n",
    "    order=[\"fine_log_cluster_template\", \"coarse_log_cluster_template\"],\n",
    "    kind=\"box\", palette='Set2',\n",
    "    dodge=False,\n",
    ").set_axis_labels('', \"val_top_5_categorical_accuracy\")\n",
    "plt.show()"
   ]
  },
  {
   "cell_type": "code",
   "execution_count": 8,
   "metadata": {},
   "outputs": [
    {
     "name": "stderr",
     "output_type": "stream",
     "text": [
      "Querying metrics for runs: 100%|██████████| 6/6 [00:01<00:00,  3.28it/s]\n"
     ]
    }
   ],
   "source": [
    "huawei_df = mlflow_helper.huawei_run_df(include_noise=False, include_refinements=False, risk_prediction=False)\n",
    "huawei_df = mlflow_helper.load_best_metrics_for_ids(set(huawei_df[\"info_run_id\"]))"
   ]
  },
  {
   "cell_type": "code",
   "execution_count": 10,
   "metadata": {},
   "outputs": [
    {
     "data": {
      "image/png": "[encoded data removed]",
      "text/plain": [
       "<Figure size 360x360 with 1 Axes>"
      ]
     },
     "metadata": {
      "needs_background": "light"
     },
     "output_type": "display_data"
    },
    {
     "data": {
      "image/png": "[encoded data removed]",
      "text/plain": [
       "<Figure size 360x360 with 1 Axes>"
      ]
     },
     "metadata": {
      "needs_background": "light"
     },
     "output_type": "display_data"
    },
    {
     "data": {
      "image/png": "[encoded data removed]",
      "text/plain": [
       "<Figure size 360x360 with 1 Axes>"
      ]
     },
     "metadata": {
      "needs_background": "light"
     },
     "output_type": "display_data"
    }
   ],
   "source": [
    "plot_best_metric_bar(huawei_df, ['val_top_5_categorical_accuracy_history_best', 'val_top_10_categorical_accuracy_history_best', 'epoch'], \n",
    "    hue_feature_name=None, \n",
    "    col_feature_name='data_params_ModelConfigbase_hidden_embeddings_trainable',\n",
    "    row_feature_name=None,\n",
    "    x_order=[\"simple\", \"causal_score\", \"causal_heuristic\"],\n",
    "    titles=\"Embeddings Trainable: {col_name}\")\n",
    "plt.show()"
   ]
  },
  {
   "cell_type": "code",
   "execution_count": 15,
   "metadata": {},
   "outputs": [
    {
     "name": "stderr",
     "output_type": "stream",
     "text": [
      "Querying metrics for runs: 100%|██████████| 6/6 [00:02<00:00,  2.35it/s]\n"
     ]
    }
   ],
   "source": [
    "huawei_df = mlflow_helper.huawei_run_df(\n",
    "    include_noise=False, include_refinements=False, risk_prediction=False, include_drain_hierarchy=True,\n",
    "    valid_x_columns=[\"log_cluster_template\", \"fine_log_cluster_template\", \"coarse_log_cluster_template\", \"attention_log_cluster_template_90\"])\n",
    "huawei_df = mlflow_helper.load_best_metrics_for_ids(set(huawei_df[\"info_run_id\"]))"
   ]
  },
  {
   "cell_type": "code",
   "execution_count": 13,
   "metadata": {},
   "outputs": [
    {
     "data": {
      "image/png": "[encoded data removed]",
      "text/plain": [
       "<Figure size 720x360 with 2 Axes>"
      ]
     },
     "metadata": {
      "needs_background": "light"
     },
     "output_type": "display_data"
    },
    {
     "data": {
      "image/png": "[encoded data removed]",
      "text/plain": [
       "<Figure size 720x360 with 2 Axes>"
      ]
     },
     "metadata": {
      "needs_background": "light"
     },
     "output_type": "display_data"
    }
   ],
   "source": [
    "plot_best_metric_bar(huawei_df, ['val_top_5_categorical_accuracy_history_best', 'epoch'], \n",
    "    hue_feature_name=None, \n",
    "    col_feature_name='data_params_SequenceConfigx_sequence_column_name',\n",
    "    row_feature_name='data_params_ModelConfigbase_hidden_embeddings_trainable',\n",
    "    col_order=[\"fine_log_cluster_template\", \"coarse_log_cluster_template\"],\n",
    "    x_order=[\"simple\", \"causal_score\", \"causal_heuristic\"],\n",
    "    titles=\"Level: {col_name}, Embeddings Trainable: {row_name}\")\n",
    "plt.show()"
   ]
  },
  {
   "cell_type": "code",
   "execution_count": 16,
   "metadata": {},
   "outputs": [
    {
     "name": "stderr",
     "output_type": "stream",
     "text": [
      "Querying metrics for runs: 100%|██████████| 6/6 [00:02<00:00,  2.81it/s]\n"
     ]
    }
   ],
   "source": [
    "huawei_df = mlflow_helper.huawei_run_df(include_noise=False, include_refinements=False, risk_prediction=False)\n",
    "huawei_df = mlflow_helper.load_metric_history_for_ids(set(huawei_df[\"info_run_id\"]))"
   ]
  },
  {
   "cell_type": "code",
   "execution_count": 19,
   "metadata": {},
   "outputs": [
    {
     "name": "stderr",
     "output_type": "stream",
     "text": [
      "Querying metrics for runs: 100%|██████████| 6/6 [00:03<00:00,  1.94it/s]\n"
     ]
    }
   ],
   "source": [
    "huawei_df = mlflow_helper.huawei_run_df(include_noise=False, include_refinements=False, risk_prediction=False)\n",
    "huawei_df = mlflow_helper.load_best_metrics_for_ids(set(huawei_df[\"info_run_id\"]))"
   ]
  },
  {
   "cell_type": "code",
   "execution_count": 20,
   "metadata": {},
   "outputs": [
    {
     "data": {
      "text/html": [
       "<div>\n",
       "<style scoped>\n",
       "    .dataframe tbody tr th:only-of-type {\n",
       "        vertical-align: middle;\n",
       "    }\n",
       "\n",
       "    .dataframe tbody tr th {\n",
       "        vertical-align: top;\n",
       "    }\n",
       "\n",
       "    .dataframe thead th {\n",
       "        text-align: right;\n",
       "    }\n",
       "</style>\n",
       "<table border=\"1\" class=\"dataframe\">\n",
       "  <thead>\n",
       "    <tr style=\"text-align: right;\">\n",
       "      <th></th>\n",
       "      <th>input</th>\n",
       "      <th>output</th>\n",
       "      <th>predictions</th>\n",
       "    </tr>\n",
       "  </thead>\n",
       "  <tbody>\n",
       "    <tr>\n",
       "      <th>0</th>\n",
       "      <td>{0: ['fine_log_cluster_template#get v3 domains...</td>\n",
       "      <td>['Hostname#wally113', 'http_status#300.0', 'ht...</td>\n",
       "      <td>{'Hostname#wally122': 0.00031086916, 'python_m...</td>\n",
       "    </tr>\n",
       "    <tr>\n",
       "      <th>1</th>\n",
       "      <td>{0: ['fine_log_cluster_template#get http 11 30...</td>\n",
       "      <td>['Hostname#wally113', 'http_status#200.0', 'ht...</td>\n",
       "      <td>{'Hostname#wally122': 0.0002119352, 'python_mo...</td>\n",
       "    </tr>\n",
       "    <tr>\n",
       "      <th>2</th>\n",
       "      <td>{0: ['fine_log_cluster_template#could not find...</td>\n",
       "      <td>['Hostname#wally113', 'http_status#200.0', 'ht...</td>\n",
       "      <td>{'Hostname#wally122': 0.00041081407, 'python_m...</td>\n",
       "    </tr>\n",
       "    <tr>\n",
       "      <th>3</th>\n",
       "      <td>{0: ['fine_log_cluster_template#could not find...</td>\n",
       "      <td>['http_method#post', 'Hostname#wally113', 'htt...</td>\n",
       "      <td>{'Hostname#wally122': 0.00036329904, 'python_m...</td>\n",
       "    </tr>\n",
       "    <tr>\n",
       "      <th>4</th>\n",
       "      <td>{0: ['fine_log_cluster_template#get http 11 30...</td>\n",
       "      <td>['http_method#post', 'Hostname#wally113', 'htt...</td>\n",
       "      <td>{'Hostname#wally122': 0.0003647095, 'python_mo...</td>\n",
       "    </tr>\n",
       "    <tr>\n",
       "      <th>...</th>\n",
       "      <td>...</td>\n",
       "      <td>...</td>\n",
       "      <td>...</td>\n",
       "    </tr>\n",
       "    <tr>\n",
       "      <th>994</th>\n",
       "      <td>{0: ['fine_log_cluster_template#get v20 ports ...</td>\n",
       "      <td>['Hostname#wally113', 'programname#neutron-ser...</td>\n",
       "      <td>{'Hostname#wally122': 0.00015340344, 'python_m...</td>\n",
       "    </tr>\n",
       "    <tr>\n",
       "      <th>995</th>\n",
       "      <td>{0: ['fine_log_cluster_template#get v20 ports ...</td>\n",
       "      <td>['Hostname#wally113', 'programname#neutron-ser...</td>\n",
       "      <td>{'Hostname#wally122': 0.00019768394, 'python_m...</td>\n",
       "    </tr>\n",
       "    <tr>\n",
       "      <th>996</th>\n",
       "      <td>{0: ['fine_log_cluster_template#get v20 ports ...</td>\n",
       "      <td>['Hostname#wally113', 'programname#neutron-ser...</td>\n",
       "      <td>{'Hostname#wally122': 0.00030921344, 'python_m...</td>\n",
       "    </tr>\n",
       "    <tr>\n",
       "      <th>997</th>\n",
       "      <td>{0: ['fine_log_cluster_template#added segment ...</td>\n",
       "      <td>['Hostname#wally113', 'programname#neutron-ser...</td>\n",
       "      <td>{'Hostname#wally122': 0.00055720814, 'python_m...</td>\n",
       "    </tr>\n",
       "    <tr>\n",
       "      <th>998</th>\n",
       "      <td>{0: ['fine_log_cluster_template#post v20 netwo...</td>\n",
       "      <td>['Hostname#wally113', 'programname#neutron-ser...</td>\n",
       "      <td>{'Hostname#wally122': 0.0029786439, 'python_mo...</td>\n",
       "    </tr>\n",
       "  </tbody>\n",
       "</table>\n",
       "<p>999 rows × 3 columns</p>\n",
       "</div>"
      ],
      "text/plain": [
       "                                                 input  \\\n",
       "0    {0: ['fine_log_cluster_template#get v3 domains...   \n",
       "1    {0: ['fine_log_cluster_template#get http 11 30...   \n",
       "2    {0: ['fine_log_cluster_template#could not find...   \n",
       "3    {0: ['fine_log_cluster_template#could not find...   \n",
       "4    {0: ['fine_log_cluster_template#get http 11 30...   \n",
       "..                                                 ...   \n",
       "994  {0: ['fine_log_cluster_template#get v20 ports ...   \n",
       "995  {0: ['fine_log_cluster_template#get v20 ports ...   \n",
       "996  {0: ['fine_log_cluster_template#get v20 ports ...   \n",
       "997  {0: ['fine_log_cluster_template#added segment ...   \n",
       "998  {0: ['fine_log_cluster_template#post v20 netwo...   \n",
       "\n",
       "                                                output  \\\n",
       "0    ['Hostname#wally113', 'http_status#300.0', 'ht...   \n",
       "1    ['Hostname#wally113', 'http_status#200.0', 'ht...   \n",
       "2    ['Hostname#wally113', 'http_status#200.0', 'ht...   \n",
       "3    ['http_method#post', 'Hostname#wally113', 'htt...   \n",
       "4    ['http_method#post', 'Hostname#wally113', 'htt...   \n",
       "..                                                 ...   \n",
       "994  ['Hostname#wally113', 'programname#neutron-ser...   \n",
       "995  ['Hostname#wally113', 'programname#neutron-ser...   \n",
       "996  ['Hostname#wally113', 'programname#neutron-ser...   \n",
       "997  ['Hostname#wally113', 'programname#neutron-ser...   \n",
       "998  ['Hostname#wally113', 'programname#neutron-ser...   \n",
       "\n",
       "                                           predictions  \n",
       "0    {'Hostname#wally122': 0.00031086916, 'python_m...  \n",
       "1    {'Hostname#wally122': 0.0002119352, 'python_mo...  \n",
       "2    {'Hostname#wally122': 0.00041081407, 'python_m...  \n",
       "3    {'Hostname#wally122': 0.00036329904, 'python_m...  \n",
       "4    {'Hostname#wally122': 0.0003647095, 'python_mo...  \n",
       "..                                                 ...  \n",
       "994  {'Hostname#wally122': 0.00015340344, 'python_m...  \n",
       "995  {'Hostname#wally122': 0.00019768394, 'python_m...  \n",
       "996  {'Hostname#wally122': 0.00030921344, 'python_m...  \n",
       "997  {'Hostname#wally122': 0.00055720814, 'python_m...  \n",
       "998  {'Hostname#wally122': 0.0029786439, 'python_mo...  \n",
       "\n",
       "[999 rows x 3 columns]"
      ]
     },
     "execution_count": 20,
     "metadata": {},
     "output_type": "execute_result"
    }
   ],
   "source": [
    "prediction_df = pd.read_csv(mlflow_helper.local_mlflow_dir + str(huawei_df[\"info_run_id\"].iloc[0]) + \"/artifacts/prediction_output.csv\")\n",
    "prediction_df"
   ]
  },
  {
   "cell_type": "code",
   "execution_count": 21,
   "metadata": {},
   "outputs": [
    {
     "data": {
      "text/plain": [
       "0"
      ]
     },
     "execution_count": 21,
     "metadata": {},
     "output_type": "execute_result"
    }
   ],
   "source": [
    "prediction_df['input'].apply(lambda x: 1 if \"exception\" in x.lower() else 0).sum()"
   ]
  },
  {
   "cell_type": "code",
   "execution_count": 29,
   "metadata": {},
   "outputs": [
    {
     "data": {
      "text/html": [
       "<div>\n",
       "<style scoped>\n",
       "    .dataframe tbody tr th:only-of-type {\n",
       "        vertical-align: middle;\n",
       "    }\n",
       "\n",
       "    .dataframe tbody tr th {\n",
       "        vertical-align: top;\n",
       "    }\n",
       "\n",
       "    .dataframe thead th {\n",
       "        text-align: right;\n",
       "    }\n",
       "</style>\n",
       "<table border=\"1\" class=\"dataframe\">\n",
       "  <thead>\n",
       "    <tr style=\"text-align: right;\">\n",
       "      <th></th>\n",
       "      <th>epoch</th>\n",
       "      <th>data_tags_model_type</th>\n",
       "    </tr>\n",
       "  </thead>\n",
       "  <tbody>\n",
       "    <tr>\n",
       "      <th>0</th>\n",
       "      <td>37</td>\n",
       "      <td>causal_score</td>\n",
       "    </tr>\n",
       "    <tr>\n",
       "      <th>1</th>\n",
       "      <td>23</td>\n",
       "      <td>simple</td>\n",
       "    </tr>\n",
       "    <tr>\n",
       "      <th>2</th>\n",
       "      <td>38</td>\n",
       "      <td>causal_heuristic</td>\n",
       "    </tr>\n",
       "    <tr>\n",
       "      <th>3</th>\n",
       "      <td>38</td>\n",
       "      <td>causal_heuristic</td>\n",
       "    </tr>\n",
       "    <tr>\n",
       "      <th>4</th>\n",
       "      <td>36</td>\n",
       "      <td>simple</td>\n",
       "    </tr>\n",
       "    <tr>\n",
       "      <th>5</th>\n",
       "      <td>37</td>\n",
       "      <td>causal_score</td>\n",
       "    </tr>\n",
       "  </tbody>\n",
       "</table>\n",
       "</div>"
      ],
      "text/plain": [
       "   epoch data_tags_model_type\n",
       "0     37         causal_score\n",
       "1     23               simple\n",
       "2     38     causal_heuristic\n",
       "3     38     causal_heuristic\n",
       "4     36               simple\n",
       "5     37         causal_score"
      ]
     },
     "execution_count": 29,
     "metadata": {},
     "output_type": "execute_result"
    }
   ],
   "source": [
    "huawei_df[['epoch', 'data_tags_model_type']]"
   ]
  },
  {
   "cell_type": "code",
   "execution_count": 23,
   "metadata": {},
   "outputs": [
    {
     "data": {
      "image/png": "[encoded data removed]",
      "text/plain": [
       "<Figure size 360x360 with 1 Axes>"
      ]
     },
     "metadata": {
      "needs_background": "light"
     },
     "output_type": "display_data"
    }
   ],
   "source": [
    "plot_best_metric_bar(huawei_df, ['epoch'], \n",
    "    hue_feature_name=None, \n",
    "    col_feature_name='data_params_ModelConfigbase_hidden_embeddings_trainable',\n",
    "    row_feature_name=None,\n",
    "    x_order=[\"simple\", \"causal_score\", \"causal_heuristic\"],\n",
    "    titles=\"Embeddings Trainable: {col_name}\")\n",
    "plt.show()"
   ]
  },
  {
   "cell_type": "markdown",
   "metadata": {},
   "source": [
    "# NOISE"
   ]
  },
  {
   "cell_type": "code",
   "execution_count": null,
   "metadata": {},
   "outputs": [],
   "source": [
    "mimic_noise_df = mlflow_helper.mimic_run_df(include_noise=True)\n",
    "mimic_noise_df = mlflow_helper.load_best_metrics_for_ids(set(mimic_noise_df[\"info_run_id\"]))\n",
    "mimic_noise_df['data_tags_noise_type'] = mimic_noise_df['data_tags_noise_type'].fillna('').astype(str).apply(lambda x: x + '_threshold0.0' if len(str(x)) <= len('added0.0_removed0.1') and len(x) > 0 else x)\n",
    "mimic_noise_df['data_tags_noise_type'] = mimic_noise_df['data_tags_noise_type'].apply(lambda x: 'no_noise' if len(x) == 0  or x == 'nan' else x)"
   ]
  },
  {
   "cell_type": "code",
   "execution_count": null,
   "metadata": {},
   "outputs": [],
   "source": [
    "mimic_noise_df = mimic_noise_df[mimic_noise_df['data_tags_model_type'].apply(lambda x: x in ['hierarchy', 'gram', 'causal', 'text'])].copy().reset_index(drop=True)\n",
    "mimic_noise_df = mimic_noise_df[mimic_noise_df['data_tags_noise_type'].str.endswith('_threshold0.0') | mimic_noise_df['data_tags_noise_type'].str.endswith('no_noise')].copy().reset_index(drop=True)\n",
    "mimic_noise_df['noise'] = mimic_noise_df['data_tags_noise_type'].apply(\n",
    "    lambda x: float(x[len('added'):len('added0.0')]) - float(x[len('added0.0_removed'):len('added0.0_removed0.0')]) if not (x == 'no_noise') else 0.0\n",
    ")\n",
    "mimic_noise_df['Knowledge Graph'] = mimic_noise_df['noise'].apply(lambda x: 'Original' if x == 0.0 else 'Noisy')\n",
    "mimic_noise_df[\"Domain Knowledge\"] = mimic_noise_df[\"data_tags_model_type\"].apply(lambda x: {\n",
    "    \"gram\": \"hierarchy\",\n",
    "}.get(x, x))\n",
    "\n",
    "g = sns.catplot(\n",
    "    data=mimic_noise_df[\n",
    "        mimic_noise_df[\"data_params_ModelConfigbase_hidden_embeddings_trainable\"] == \"False\"\n",
    "    ], x=\"noise\", y='val_top_20_categorical_accuracy_history_best', \n",
    "    col=\"Domain Knowledge\",\n",
    "    col_order=[\"hierarchy\", \"causal\", \"text\"],\n",
    "    kind=\"box\", palette='Set2',\n",
    "    hue=\"Knowledge Graph\", dodge=False,\n",
    "    hue_order=[\"Noisy\", \"Original\"],\n",
    ").set_axis_labels('Degree of Noise', \"val_top_20_categorical_accuracy\").set_titles(\"Domain Knowledge: {col_name}\")\n",
    "\n",
    "#plt.tight_layout()\n",
    "plt.savefig(\"noise.png\", dpi=100, bbox_inches=\"tight\")\n",
    "plt.show()"
   ]
  }
 ],
 "metadata": {
  "kernelspec": {
   "display_name": "Python 3.8.13 64-bit ('miniconda3')",
   "language": "python",
   "name": "python3"
  },
  "language_info": {
   "codemirror_mode": {
    "name": "ipython",
    "version": 3
   },
   "file_extension": ".py",
   "mimetype": "text/x-python",
   "name": "python",
   "nbconvert_exporter": "python",
   "pygments_lexer": "ipython3",
   "version": "3.8.13"
  },
  "orig_nbformat": 2,
  "vscode": {
   "interpreter": {
    "hash": "46a3606ad50f253451469dd300eca0a6f34c2245337430b3b8f5104bce2d8ed7"
   }
  }
 },
 "nbformat": 4,
 "nbformat_minor": 2
}
