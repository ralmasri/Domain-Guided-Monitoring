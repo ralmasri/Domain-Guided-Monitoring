{
 "cells": [
  {
   "cell_type": "code",
   "execution_count": null,
   "metadata": {},
   "outputs": [],
   "source": [
    "import sys \n",
    "import os\n",
    "module_path = os.path.abspath(os.path.join('../'))\n",
    "if module_path not in sys.path:\n",
    "    sys.path.append(module_path)\n",
    "import pandas as pd\n",
    "import seaborn as sns\n",
    "from pathlib import Path\n",
    "from utils.mlflow_query import MlflowHelper\n",
    "from matplotlib import pyplot as plt"
   ]
  },
  {
   "cell_type": "code",
   "execution_count": null,
   "metadata": {},
   "outputs": [],
   "source": [
    "mlflow_helper = MlflowHelper(\n",
    "    pkl_file=Path('~/Domain-Guided-Monitoring/data/domainml.pkl'),\n",
    "    local_mlflow_dir_prefix='~/Domain-Guided-Monitoring/mlruns/', \n",
    "    experiment_id=\"831333387297563441\",\n",
    "    tracking_uri=\"http://localhost:5000\")\n",
    "# mlflow_helper.query_runs(pkl_file=Path('/home/i40/almasrirz/Domain-Guided-Monitoring/data/domainml.pkl'))"
   ]
  },
  {
   "cell_type": "code",
   "execution_count": null,
   "metadata": {},
   "outputs": [],
   "source": [
    "def plot_best_metric_bar(metric_df, metric_names,\n",
    "    x_feature_name='data_tags_model_type', \n",
    "    x_order=['simple', 'causal_heuristic', 'causal_score'],\n",
    "    save_fig = False,\n",
    "    row_feature_name=None,\n",
    "    hue_feature_name=None,\n",
    "    col_feature_name=None,\n",
    "    titles=None,\n",
    "    palette=None,\n",
    "    dodge=True,\n",
    "    col_order=None,\n",
    "    height=5,\n",
    "    aspect=1 # width = height * aspect\n",
    "):\n",
    "    for metric_name in metric_names:\n",
    "        g = sns.catplot(\n",
    "            data=metric_df, x=x_feature_name, y=metric_name, order=x_order,\n",
    "            row=row_feature_name, hue=hue_feature_name, col=col_feature_name, col_order=col_order,\n",
    "            kind=\"box\", sharey='row', palette=palette, dodge=dodge, height=height, aspect=aspect\n",
    "        )\n",
    "        g.set_titles(titles).set_axis_labels('', metric_name)\n",
    "        for ax in g.axes.flatten():\n",
    "            ax.tick_params(labelbottom=True)\n",
    "        if save_fig:\n",
    "            g.savefig(\"bar_{}.png\".format(metric_name))\n"
   ]
  },
  {
   "cell_type": "code",
   "execution_count": null,
   "metadata": {},
   "outputs": [],
   "source": [
    "def count_attributes(df: pd.DataFrame, attr='data_tags_model_type'):\n",
    "    return df.groupby([attr])[attr].count().sort_values(ascending=False)"
   ]
  },
  {
   "attachments": {},
   "cell_type": "markdown",
   "metadata": {},
   "source": [
    "# Lena's Results"
   ]
  },
  {
   "cell_type": "code",
   "execution_count": null,
   "metadata": {},
   "outputs": [],
   "source": [
    "import numpy as np\n",
    "lena_df = mlflow_helper.run_df[\n",
    "            (mlflow_helper.run_df[\"data_tags_sequence_type\"] == \"huawei_logs\")\n",
    "            & (mlflow_helper.run_df['data_tags_model_type'].isin(['causal_heuristic', 'simple', 'hierarchy', 'text']))\n",
    "            & (mlflow_helper.run_df[\"data_params_ModelConfigrnn_type\"] == \"gru\")\n",
    "            & (mlflow_helper.run_df[\"data_params_SequenceConfigtest_percentage\"].fillna(\"\").astype(str) == \"0.1\")\n",
    "            & (mlflow_helper.run_df[\"data_params_ModelConfigbest_model_metric\"] == \"val_loss\")\n",
    "            & (mlflow_helper.run_df[\"info_status\"] == \"FINISHED\")\n",
    "            & (mlflow_helper.run_df[\"data_params_ModelConfigrnn_dim\"] == \"200\")\n",
    "            & (mlflow_helper.run_df[\"data_params_ModelConfigoptimizer\"].fillna(\"adam\") == \"adam\")\n",
    "            & (mlflow_helper.run_df[\"data_params_ModelConfigdropout_rate\"].fillna(\"0.0\").astype(str) == \"0.5\")\n",
    "            & (mlflow_helper.run_df[\"data_params_ModelConfigrnn_dropout\"].fillna(\"0.0\").astype(str) == \"0.0\")\n",
    "            & (mlflow_helper.run_df[\"data_params_ModelConfigkernel_regularizer_scope\"].fillna(\"[]\") == \"[]\")\n",
    "            & (mlflow_helper.run_df[\"data_params_ExperimentConfigbatch_size\"].astype(str).fillna(\"\") == \"128\")\n",
    "            & (mlflow_helper.run_df['data_params_HuaweiPreprocessorConfigaggregated_log_file'] == 'data/logs_aggregated_concurrent_original.csv')\n",
    "            & (mlflow_helper.run_df['data_params_ExperimentConfigmax_data_size'] == '-1')\n",
    "            & (mlflow_helper.run_df['data_params_HuaweiPreprocessorConfigcausal_algorithm_alpha'].isin([np.nan, '0.05']))\n",
    "            & (mlflow_helper.run_df[\"data_params_HuaweiPreprocessorConfigfine_drain_log_st\"].astype(str).fillna(\"\") == \"0.75\")\n",
    "            & (mlflow_helper.run_df[\"data_params_HuaweiPreprocessorConfigfine_drain_log_depth\"].astype(str).fillna(\"\") == \"10\")\n",
    "            & (mlflow_helper.run_df['data_params_ExperimentConfigonly_generate_knowledge'] == 'False')\n",
    "        ]\n",
    "lena_df = mlflow_helper.load_best_metrics_for_ids(set(lena_df['info_run_id']))\n",
    "\n",
    "# Categorize by timestamp\n",
    "lena_df.loc[lena_df['data_params_HuaweiPreprocessorConfigremove_dates_from_payload'] == 'False', \n",
    "'data_tags_model_type'] = lena_df.loc[lena_df['data_params_HuaweiPreprocessorConfigremove_dates_from_payload'] == 'False', \n",
    "'data_tags_model_type'].apply(lambda x: x + \"_with_ts\")\n",
    "\n",
    "# I've tested the heuristic with 0.02 and 0.04 min_causality\n",
    "min_causalities = ['0.02', '0.04']\n",
    "for min_causality in min_causalities:\n",
    "    lena_df.loc[lena_df['data_params_HuaweiPreprocessorConfigmin_causality'] == min_causality, \n",
    "    'data_tags_model_type'] = lena_df.loc[lena_df['data_params_HuaweiPreprocessorConfigmin_causality'] == min_causality, \n",
    "    'data_tags_model_type'].apply(lambda x: x + f\"_{min_causality}\")"
   ]
  },
  {
   "cell_type": "code",
   "execution_count": null,
   "metadata": {},
   "outputs": [],
   "source": [
    "count_attributes(lena_df)"
   ]
  },
  {
   "attachments": {},
   "cell_type": "markdown",
   "metadata": {},
   "source": [
    "### With Timestamps"
   ]
  },
  {
   "cell_type": "code",
   "execution_count": null,
   "metadata": {},
   "outputs": [],
   "source": [
    "plot_best_metric_bar(lena_df, ['val_top_5_categorical_accuracy_history_best'],\n",
    "x_order = ['simple_with_ts', \n",
    "           'hierarchy_with_ts', \n",
    "           'causal_heuristic_with_ts', \n",
    "           'causal_heuristic_with_ts_0.02', \n",
    "           'causal_heuristic_with_ts_0.04', \n",
    "           'text_with_ts'],\n",
    "height=8, aspect=2)"
   ]
  },
  {
   "attachments": {},
   "cell_type": "markdown",
   "metadata": {},
   "source": [
    "### Without Timestamps"
   ]
  },
  {
   "cell_type": "code",
   "execution_count": null,
   "metadata": {},
   "outputs": [],
   "source": [
    "plot_best_metric_bar(lena_df, ['val_top_5_categorical_accuracy_history_best'],\n",
    "x_order = ['simple', 'hierarchy', 'causal_heuristic', 'causal_heuristic_0.02', 'causal_heuristic_0.04', 'text'],\n",
    "height=8, aspect=2)"
   ]
  },
  {
   "attachments": {},
   "cell_type": "markdown",
   "metadata": {},
   "source": [
    "# Causal Algorithms' Results"
   ]
  },
  {
   "cell_type": "code",
   "execution_count": null,
   "metadata": {},
   "outputs": [],
   "source": [
    "def categorize_run_df(run_df, experimented_algos = [\"causal_Fast-IAMB-jt\", \"causal_Fast-IAMB-smc-cor\", \"causal_MMPC-cor\"]):\n",
    "    bin_configs = { # label -> (bin_size, bin_overlap)\n",
    "        'small-none': (['00:00:05'], ['00:00:00']),\n",
    "        'medium-none': (['0:01:00','00:00:60'], ['00:00:00']),\n",
    "        'large-none': (['00:10:00'], ['00:00:00']),\n",
    "        'small-small': (['00:00:05'], ['00:00:01']),\n",
    "        'medium-small': (['0:01:00','00:00:60'], ['00:00:12']),\n",
    "        'large-small': (['00:10:00'], ['00:02:00']),\n",
    "        'small-medium': (['00:00:05'], ['00:00:03']),\n",
    "        'medium-medium': (['0:01:00','00:00:60'], ['00:00:30']),\n",
    "        'large-medium': (['00:10:00'], ['00:05:00']),\n",
    "        'small-large': (['00:00:05'], ['00:00:04']),\n",
    "        'medium-large': (['0:01:00','00:00:60'], ['00:00:48', '00:00:50']),\n",
    "        'large-large': (['00:10:00'], ['00:08:00']),\n",
    "    }\n",
    "\n",
    "    matrix_df = run_df.copy()\n",
    "    for algo in experimented_algos:\n",
    "        for label, config in bin_configs.items():\n",
    "            bin_sizes, bin_overlap = config[0], config[1]\n",
    "            matrix_df.loc[(matrix_df['data_params_TimeSeriesTransformerConfigbin_size'].isin(bin_sizes)) \n",
    "            & (matrix_df['data_params_TimeSeriesTransformerConfigbin_overlap'].isin(bin_overlap))\n",
    "            & (matrix_df['data_tags_model_type'] == algo), 'data_tags_model_type'] = algo + '+' + label\n",
    "    \n",
    "    # Categorize by templates\n",
    "    matrix_df.loc[matrix_df['data_params_HuaweiPreprocessorConfigfine_drain_log_st'] == '0.77', 'data_tags_model_type'] = matrix_df.loc[\n",
    "        matrix_df['data_params_HuaweiPreprocessorConfigfine_drain_log_st'] == '0.77', 'data_tags_model_type'\n",
    "    ].apply(lambda x: x + \"_more_nodes\")\n",
    "    \n",
    "    # Categorize by timestamps\n",
    "    matrix_df.loc[matrix_df['data_params_HuaweiPreprocessorConfigremove_dates_from_payload'] == 'False', 'data_tags_model_type'] = matrix_df.loc[\n",
    "    matrix_df['data_params_HuaweiPreprocessorConfigremove_dates_from_payload'] == 'False', 'data_tags_model_type'].apply(lambda x: x + '_with_ts')\n",
    "\n",
    "    return matrix_df"
   ]
  },
  {
   "attachments": {},
   "cell_type": "markdown",
   "metadata": {},
   "source": [
    "## Template effect"
   ]
  },
  {
   "cell_type": "code",
   "execution_count": null,
   "metadata": {},
   "outputs": [],
   "source": [
    "run_df = mlflow_helper.run_df[\n",
    "            (mlflow_helper.run_df[\"data_tags_sequence_type\"] == \"huawei_logs\")\n",
    "            & (mlflow_helper.run_df[\"data_params_ModelConfigrnn_type\"] == \"gru\")\n",
    "            & (mlflow_helper.run_df[\"data_params_SequenceConfigtest_percentage\"].fillna(\"\").astype(str) == \"0.1\")\n",
    "            & (mlflow_helper.run_df[\"data_params_ModelConfigbest_model_metric\"] == \"val_loss\")\n",
    "            & (mlflow_helper.run_df[\"info_status\"] == \"FINISHED\")\n",
    "            & (mlflow_helper.run_df[\"data_params_ModelConfigrnn_dim\"] == \"200\")\n",
    "            & (mlflow_helper.run_df[\"data_params_ModelConfigoptimizer\"].fillna(\"adam\") == \"adam\")\n",
    "            & (mlflow_helper.run_df[\"data_params_ModelConfigdropout_rate\"].fillna(\"0.0\").astype(str) == \"0.5\")\n",
    "            & (mlflow_helper.run_df[\"data_params_ModelConfigrnn_dropout\"].fillna(\"0.0\").astype(str) == \"0.0\")\n",
    "            & (mlflow_helper.run_df[\"data_params_ModelConfigkernel_regularizer_scope\"].fillna(\"[]\") == \"[]\")\n",
    "            & (mlflow_helper.run_df[\"data_params_ExperimentConfigbatch_size\"].astype(str).fillna(\"\") == \"128\")\n",
    "            & (mlflow_helper.run_df['data_params_HuaweiPreprocessorConfigaggregated_log_file'] == 'data/logs_aggregated_concurrent_original.csv')\n",
    "            & (mlflow_helper.run_df['data_params_ExperimentConfigmax_data_size'] == '-1')\n",
    "            & (mlflow_helper.run_df['data_params_HuaweiPreprocessorConfigcausal_algorithm_alpha'].astype(str).fillna(\"\").isin([\"\", '0.05']))\n",
    "            & (mlflow_helper.run_df[\"data_params_HuaweiPreprocessorConfigfine_drain_log_st\"].astype(str).fillna(\"\") == \"0.77\")\n",
    "            & (mlflow_helper.run_df[\"data_params_HuaweiPreprocessorConfigfine_drain_log_depth\"].astype(str).fillna(\"\") == \"10\")\n",
    "            & (mlflow_helper.run_df['data_params_ExperimentConfigonly_generate_knowledge'] == 'False')\n",
    "            & (mlflow_helper.run_df['data_params_HuaweiPreprocessorConfigmin_causality'] == '0.01')\n",
    "        ]\n",
    "run_df = mlflow_helper.load_best_metrics_for_ids(set(run_df['info_run_id']))\n",
    "\n",
    "# Categorize by timestamp\n",
    "matrix_df = categorize_run_df(run_df)"
   ]
  },
  {
   "cell_type": "code",
   "execution_count": null,
   "metadata": {},
   "outputs": [],
   "source": [
    "matrix_df.groupby(['data_tags_model_type'])['data_tags_model_type'].count()"
   ]
  },
  {
   "cell_type": "code",
   "execution_count": null,
   "metadata": {},
   "outputs": [],
   "source": [
    "# Sort by mean top 5 categorical accuracy\n",
    "sorted_top_5_accuracy_mean_df = pd.DataFrame(\n",
    "    matrix_df.groupby(['data_tags_model_type'])['val_top_5_categorical_accuracy_history_best']\n",
    "    .mean()\n",
    "    .sort_values(ascending=False)).reset_index()\n",
    "sorted_top_5_accuracy_mean_df"
   ]
  },
  {
   "attachments": {},
   "cell_type": "markdown",
   "metadata": {},
   "source": [
    "## Performance"
   ]
  },
  {
   "cell_type": "code",
   "execution_count": null,
   "metadata": {},
   "outputs": [],
   "source": [
    "# I used different bin sizes and bin overlaps for causal_Fast-IAMB-jt, causal_Fast-IAMB-smc-cor,\n",
    "# and causal_MMPC-cor\n",
    "# Bins used: 5 sec (small), 60 sec (medium), 10 min (large)\n",
    "# Overlaps used as percentage of bin size: 0% (none), 20% (small), 50%\n",
    "# (medium), 80% (large)\n",
    "# Default is medium bin, large bin overlap\n",
    "experimented_algos = [\"causal_Fast-IAMB-jt\", \"causal_Fast-IAMB-smc-cor\", \"causal_MMPC-cor\"]\n",
    "run_df = mlflow_helper.run_df[\n",
    "    (mlflow_helper.run_df['data_params_ExperimentConfigmax_data_size'] == '-1')\n",
    "    & (mlflow_helper.run_df['data_tags_model_type'].isin(experimented_algos + ['simple']))\n",
    "    & (mlflow_helper.run_df['data_params_HuaweiPreprocessorConfigaggregated_log_file'] == 'data/logs_aggregated_concurrent_original.csv')\n",
    "    & (mlflow_helper.run_df[\"info_status\"] == \"FINISHED\")\n",
    "    & (mlflow_helper.run_df['data_params_ExperimentConfigmax_data_size'] == '-1')\n",
    "    & (mlflow_helper.run_df['data_params_HuaweiPreprocessorConfigcausal_algorithm_alpha'].fillna(\"\").isin([\"\", '0.05']))\n",
    "    & (mlflow_helper.run_df[\"data_params_HuaweiPreprocessorConfigfine_drain_log_st\"].fillna(\"\") == \"0.75\")\n",
    "    & (mlflow_helper.run_df[\"data_params_HuaweiPreprocessorConfigfine_drain_log_depth\"].astype(str).fillna(\"\") == \"10\")\n",
    "    & (mlflow_helper.run_df['data_params_ExperimentConfigonly_generate_knowledge'].astype(str).fillna(\"\").isin([\"\", \"False\"]))\n",
    "]\n",
    "run_df = mlflow_helper.load_best_metrics_for_ids(set(run_df[\"info_run_id\"]))"
   ]
  },
  {
   "cell_type": "code",
   "execution_count": null,
   "metadata": {},
   "outputs": [],
   "source": [
    "run_with_ts_df = run_df[run_df['data_params_HuaweiPreprocessorConfigremove_dates_from_payload'] == 'False']"
   ]
  },
  {
   "cell_type": "code",
   "execution_count": null,
   "metadata": {},
   "outputs": [],
   "source": [
    "bin_configs = { # label -> (bin_size, bin_overlap)\n",
    "        'small-none': (['00:00:05'], ['00:00:00']),\n",
    "        'medium-none': (['0:01:00','00:00:60'], ['00:00:00']),\n",
    "        'large-none': (['00:10:00'], ['00:00:00']),\n",
    "        'small-small': (['00:00:05'], ['00:00:01']),\n",
    "        'medium-small': (['0:01:00','00:00:60'], ['00:00:12']),\n",
    "        'large-small': (['00:10:00'], ['00:02:00']),\n",
    "        'small-medium': (['00:00:05'], ['00:00:03']),\n",
    "        'medium-medium': (['0:01:00','00:00:60'], ['00:00:30']),\n",
    "        'large-medium': (['00:10:00'], ['00:05:00']),\n",
    "        'small-large': (['00:00:05'], ['00:00:04']),\n",
    "        'medium-large': (['0:01:00','00:00:60'], ['00:00:48', '00:00:50']),\n",
    "        'large-large': (['00:10:00'], ['00:08:00']),\n",
    "    }"
   ]
  },
  {
   "cell_type": "code",
   "execution_count": null,
   "metadata": {},
   "outputs": [],
   "source": [
    "for label, config in bin_configs.items():\n",
    "    sizes, overlaps = config[0], config[1]\n",
    "    run_with_ts_df.loc[(run_with_ts_df['data_params_TimeSeriesTransformerConfigbin_size'].isin(sizes)) \n",
    "                & (run_with_ts_df['data_params_TimeSeriesTransformerConfigbin_overlap'].isin(overlaps))\n",
    "                & (run_with_ts_df['data_tags_model_type'] != 'simple'), 'bin config'] = 'Causal with ' + label\n",
    "run_with_ts_df.loc[run_with_ts_df['data_tags_model_type'] == 'simple', 'bin config'] = 'No Domain Knowledge'"
   ]
  },
  {
   "cell_type": "code",
   "execution_count": null,
   "metadata": {},
   "outputs": [],
   "source": [
    "sorted_top_5_accuracy_mean_df = pd.DataFrame(\n",
    "    run_with_ts_df.groupby(['bin config'])['val_top_5_categorical_accuracy_history_best']\n",
    "    .mean()\n",
    "    .sort_values(ascending=False)).reset_index()\n",
    "sorted_top_5_accuracy_mean_df"
   ]
  },
  {
   "cell_type": "code",
   "execution_count": null,
   "metadata": {},
   "outputs": [],
   "source": [
    "sns.set_theme(style='white', font_scale=1.5)\n",
    "plt.figure(figsize=(15,8))\n",
    "g = sns.boxplot(data=run_with_ts_df,\n",
    "                x='bin config',\n",
    "                y='val_top_5_categorical_accuracy_history_best',\n",
    "                order=sorted_top_5_accuracy_mean_df['bin config'].tolist()[:2] + ['No Domain Knowledge'])\n",
    "g.set_xlabel('Domain Knowledge Type')\n",
    "g.set_ylabel('Top 5 Categorical Accuracy')\n",
    "g.set_title('Effect of Bin Size-Overlap Configuration on Usefulness - Huawei Dataset (Full Size)')\n",
    "g"
   ]
  },
  {
   "cell_type": "code",
   "execution_count": null,
   "metadata": {},
   "outputs": [],
   "source": [
    "sorted_top_5_accuracy_mean_df = pd.DataFrame(\n",
    "    run_with_ts_df.groupby(['data_tags_model_type'])['val_top_5_categorical_accuracy_history_best']\n",
    "    .mean()\n",
    "    .sort_values(ascending=False)).reset_index()\n",
    "sorted_top_5_accuracy_mean_df"
   ]
  },
  {
   "cell_type": "code",
   "execution_count": null,
   "metadata": {},
   "outputs": [],
   "source": [
    "sns.set(style=\"white\", font_scale=1.5)\n",
    "plt.figure(figsize=(15,8))\n",
    "g = sns.boxplot(data=run_with_ts_df,\n",
    "                x='data_tags_model_type',\n",
    "                y='val_top_5_categorical_accuracy_history_best',\n",
    "                order=['causal_Fast-IAMB-smc-cor', 'simple', 'causal_MMPC-cor'])\n",
    "g.set_xlabel('Domain Knowledge Type')\n",
    "g.set_ylabel('Top 5 Categorical Accuracy')\n",
    "g.set_title('Domain Knowledge Usefulness - Huawei Dataset (Full Size)')\n",
    "g.set_xticklabels(['Causal with Fast IAMB', 'No Domain Knowledge', 'Causal with MMPC'])\n",
    "g"
   ]
  },
  {
   "cell_type": "code",
   "execution_count": null,
   "metadata": {},
   "outputs": [],
   "source": [
    "matrix_df = categorize_run_df(run_df)"
   ]
  },
  {
   "cell_type": "code",
   "execution_count": null,
   "metadata": {},
   "outputs": [],
   "source": [
    "count_attributes(matrix_df)"
   ]
  },
  {
   "cell_type": "code",
   "execution_count": null,
   "metadata": {},
   "outputs": [],
   "source": [
    "sorted_top_5_accuracy_median_df = pd.DataFrame(\n",
    "    matrix_df.groupby(['data_tags_model_type'])['val_top_5_categorical_accuracy_history_best']\n",
    "    .median()\n",
    "    .sort_values(ascending=False)).reset_index()\n",
    "sorted_top_5_accuracy_median_df"
   ]
  },
  {
   "cell_type": "code",
   "execution_count": null,
   "metadata": {},
   "outputs": [],
   "source": [
    "# Sort by mean top 5 categorical accuracy\n",
    "sorted_top_5_accuracy_mean_df = pd.DataFrame(\n",
    "    matrix_df.groupby(['data_tags_model_type'])['val_top_5_categorical_accuracy_history_best']\n",
    "    .mean()\n",
    "    .sort_values(ascending=False)).reset_index()\n",
    "sorted_top_5_accuracy_mean_df"
   ]
  },
  {
   "cell_type": "code",
   "execution_count": null,
   "metadata": {},
   "outputs": [],
   "source": [
    "k = 3\n",
    "# Without timestamps\n",
    "top_k_mean_no_ts = sorted_top_5_accuracy_mean_df['data_tags_model_type'].tolist()[:k]\n",
    "top_k_median_no_ts = sorted_top_5_accuracy_median_df['data_tags_model_type'].tolist()[:k]\n",
    "\n",
    "if \"simple\" not in top_k_mean_no_ts:\n",
    "    top_k_mean_no_ts.append('simple')\n",
    "\n",
    "if \"simple\" not in top_k_median_no_ts:\n",
    "    top_k_median_no_ts.append('simple')\n",
    "\n",
    "# With timestamps\n",
    "top_k_mean_ts = list(filter(lambda x: x.endswith('with_ts'),sorted_top_5_accuracy_mean_df['data_tags_model_type'].tolist()))[:k]\n",
    "top_k_median_ts = list(filter(lambda x: x.endswith('with_ts'),sorted_top_5_accuracy_median_df['data_tags_model_type'].tolist()))[:k]\n",
    "\n",
    "if \"simple_with_ts\" not in top_k_mean_ts:\n",
    "    top_k_mean_ts.append('simple_with_ts')\n",
    "\n",
    "if \"simple_with_ts\" not in top_k_median_ts:\n",
    "    top_k_median_ts.append('simple_with_ts')"
   ]
  },
  {
   "cell_type": "code",
   "execution_count": null,
   "metadata": {},
   "outputs": [],
   "source": [
    "preprocess_df = matrix_df.copy()\n",
    "algo_types = ['causal_Fast-IAMB-jt+small-small', 'simple', 'causal_Fast-IAMB-jt+small-small_with_ts', 'simple_with_ts']\n",
    "preprocess_df = preprocess_df[preprocess_df['data_tags_model_type'].isin(algo_types)]\n",
    "preprocess_df['algorithm_type'] = preprocess_df['data_tags_model_type'].apply(lambda x: x.split('_')[0])\n",
    "trans = {'True': 'No', 'False': 'Yes'}\n",
    "preprocess_df['with timestamps'] = preprocess_df['data_params_HuaweiPreprocessorConfigremove_dates_from_payload'].apply(lambda x: trans[x])"
   ]
  },
  {
   "cell_type": "code",
   "execution_count": null,
   "metadata": {},
   "outputs": [],
   "source": [
    "preprocess_df['with timestamps']"
   ]
  },
  {
   "cell_type": "code",
   "execution_count": null,
   "metadata": {},
   "outputs": [],
   "source": [
    "plt.figure(figsize=(15,8))\n",
    "g = sns.boxplot(data=preprocess_df,\n",
    "                x='algorithm_type',\n",
    "                y='val_top_5_categorical_accuracy_history_best',\n",
    "                hue='with timestamps',\n",
    "                order=['causal', 'simple'],\n",
    "                hue_order=['Yes', 'No'])\n",
    "g.set_xlabel('Domain Knowledge Type')\n",
    "g.set_ylabel('Top 5 Categorical Accuracy')\n",
    "g.legend(title='With Timestamps')\n",
    "g.set_xticklabels(['Causal', 'No Domain Knowledge'])\n",
    "g.set_title('Effect of Timestamp Removal on Usefulness - Huawei (Full Size)')\n",
    "sns.move_legend(g, 'upper left', bbox_to_anchor=(1, 1))\n",
    "g"
   ]
  },
  {
   "attachments": {},
   "cell_type": "markdown",
   "metadata": {},
   "source": [
    "### With Timestamps"
   ]
  },
  {
   "cell_type": "code",
   "execution_count": null,
   "metadata": {},
   "outputs": [],
   "source": [
    "sorted = sorted_top_5_accuracy_mean_df['data_tags_model_type'].tolist()\n",
    "sorted"
   ]
  },
  {
   "cell_type": "code",
   "execution_count": null,
   "metadata": {},
   "outputs": [],
   "source": [
    "plot_best_metric_bar(matrix_df, ['val_top_5_categorical_accuracy_history_best'],\n",
    "x_order = top_k_mean_ts,\n",
    "height=8,\n",
    "aspect=2)"
   ]
  },
  {
   "cell_type": "code",
   "execution_count": null,
   "metadata": {},
   "outputs": [],
   "source": [
    "plot_best_metric_bar(matrix_df, ['val_top_5_categorical_accuracy_history_best'],\n",
    "x_order = top_k_median_ts,\n",
    "height=8,\n",
    "aspect=2)"
   ]
  },
  {
   "attachments": {},
   "cell_type": "markdown",
   "metadata": {},
   "source": [
    "### Without Timestamps"
   ]
  },
  {
   "cell_type": "code",
   "execution_count": null,
   "metadata": {},
   "outputs": [],
   "source": [
    "plot_best_metric_bar(matrix_df, ['val_top_5_categorical_accuracy_history_best'],\n",
    "x_order = top_k_mean_no_ts,\n",
    "height=8,\n",
    "aspect=2)"
   ]
  },
  {
   "cell_type": "code",
   "execution_count": null,
   "metadata": {},
   "outputs": [],
   "source": [
    "plot_best_metric_bar(matrix_df, ['val_top_5_categorical_accuracy_history_best'],\n",
    "x_order = top_k_median_no_ts,\n",
    "height=8,\n",
    "aspect=2)"
   ]
  },
  {
   "attachments": {},
   "cell_type": "markdown",
   "metadata": {},
   "source": [
    "### Causal Algorithm vs Other DL Types (With Timestamps)"
   ]
  },
  {
   "cell_type": "code",
   "execution_count": null,
   "metadata": {},
   "outputs": [],
   "source": [
    "comparision_df = mlflow_helper.run_df[\n",
    "    (mlflow_helper.run_df['data_params_ExperimentConfigmax_data_size'] == '-1')\n",
    "    & (mlflow_helper.run_df['data_tags_model_type'].isin(experimented_algos + ['simple', 'hierarchy', 'text']))\n",
    "    & (mlflow_helper.run_df['data_params_HuaweiPreprocessorConfigaggregated_log_file'] == 'data/logs_aggregated_concurrent_original.csv')\n",
    "    & (mlflow_helper.run_df[\"info_status\"] == \"FINISHED\")\n",
    "    & (mlflow_helper.run_df['data_params_ExperimentConfigmax_data_size'] == '-1')\n",
    "    & (mlflow_helper.run_df['data_params_HuaweiPreprocessorConfigcausal_algorithm_alpha'].fillna(\"\").isin([\"\", '0.05']))\n",
    "    & (mlflow_helper.run_df[\"data_params_HuaweiPreprocessorConfigfine_drain_log_st\"].astype(str).fillna(\"\") == \"0.75\")\n",
    "    & (mlflow_helper.run_df[\"data_params_HuaweiPreprocessorConfigfine_drain_log_depth\"].astype(str).fillna(\"\") == \"10\")\n",
    "    & (mlflow_helper.run_df['data_params_ExperimentConfigonly_generate_knowledge'].fillna(\"\").isin([\"\", \"False\"]))\n",
    "]\n",
    "comparision_df = mlflow_helper.load_best_metrics_for_ids(set(comparision_df[\"info_run_id\"]))\n",
    "comparision_df = categorize_run_df(comparision_df)\n",
    "count_attributes(comparision_df)"
   ]
  },
  {
   "cell_type": "code",
   "execution_count": null,
   "metadata": {},
   "outputs": [],
   "source": [
    "x_order_with_ts = ['causal_Fast-IAMB-smc-cor+small-small_with_ts', 'simple_with_ts', 'text_with_ts', 'hierarchy_with_ts']\n",
    "x_order_without_ts = ['causal_Fast-IAMB-smc-cor+small-small', 'simple', 'text', 'hierarchy']\n",
    "comparision_with_ts_df = comparision_df[comparision_df['data_tags_model_type'].isin(x_order_with_ts)]\n",
    "comparision_without_ts_df = comparision_df[comparision_df['data_tags_model_type'].isin(x_order_without_ts)]\n",
    "\n",
    "# Val Top 5 Categorical accuracy range\n",
    "y_min = min(comparision_with_ts_df['val_top_5_categorical_accuracy_history_best'].min(), comparision_without_ts_df['val_top_5_categorical_accuracy_history_best'].min())\n",
    "y_max = max(comparision_with_ts_df['val_top_5_categorical_accuracy_history_best'].max(), comparision_without_ts_df['val_top_5_categorical_accuracy_history_best'].max())\n",
    "\n",
    "# Adjust them a little bit\n",
    "adjustment = 0.001\n",
    "y_min = y_min - adjustment\n",
    "y_max = y_max + adjustment\n",
    "\n",
    "print(f\"Min: {y_min}\")\n",
    "print(f\"Max: {y_max}\")"
   ]
  },
  {
   "cell_type": "code",
   "execution_count": null,
   "metadata": {},
   "outputs": [],
   "source": [
    "plt.figure(figsize=(15,8))\n",
    "g = sns.boxplot(data=comparision_with_ts_df,\n",
    "                x='data_tags_model_type',\n",
    "                y='val_top_5_categorical_accuracy_history_best',\n",
    "                order=x_order_with_ts,)\n",
    "g.set(ylim=(y_min, y_max))\n",
    "g.set_xlabel('Domain Knowledge Type')\n",
    "g.set_ylabel('Top 5 Categorical Accuracy')\n",
    "g.set_xticklabels(['Causal', 'No Domain Knowledge', 'Textual', 'Hierarchical'])\n",
    "g.set_title('Effect of Domain Knowledge Type on Usefulness - Huawei with Timestamps')\n",
    "g"
   ]
  },
  {
   "cell_type": "code",
   "execution_count": null,
   "metadata": {},
   "outputs": [],
   "source": [
    "plt.figure(figsize=(15,8))\n",
    "g = sns.boxplot(data=comparision_without_ts_df,\n",
    "                x='data_tags_model_type',\n",
    "                y='val_top_5_categorical_accuracy_history_best',\n",
    "                order=x_order_without_ts,)\n",
    "g.set(ylim=(y_min, y_max))\n",
    "g.set_xlabel('Domain Knowledge Type')\n",
    "g.set_ylabel('Top 5 Categorical Accuracy')\n",
    "g.set_xticklabels(['Causal', 'No Domain Knowledge', 'Textual', 'Hierarchical'])\n",
    "g.set_title('Effect of Domain Knowledge Type on Usefulness - Huawei without Timestamps')\n",
    "g"
   ]
  },
  {
   "attachments": {},
   "cell_type": "markdown",
   "metadata": {},
   "source": [
    "## Graph Densities"
   ]
  },
  {
   "cell_type": "code",
   "execution_count": null,
   "metadata": {},
   "outputs": [],
   "source": [
    "knowledge_path = Path('/home/i40/almasrirz/Domain-Guided-Monitoring/data/knowledge_original')\n",
    "pathlist = knowledge_path.glob('**/*.csv')\n",
    "dataframes_with_ts = {} # type -> df\n",
    "dataframes_without_ts = {}\n",
    "for path in pathlist:\n",
    "    knowledge_type = path.name.split('_knowledge')[0]\n",
    "    if 'with_ts' in knowledge_type:\n",
    "        dataframes_with_ts[knowledge_type] = pd.read_csv(path)\n",
    "    else:\n",
    "        dataframes_without_ts[knowledge_type] = pd.read_csv(path)"
   ]
  },
  {
   "cell_type": "code",
   "execution_count": null,
   "metadata": {},
   "outputs": [],
   "source": [
    "from src.features import knowledge\n",
    "import json\n",
    "\n",
    "def fetch_statistics(dataframes, remove_dates):\n",
    "    statistics_records = []\n",
    "    for name, df in dataframes.items():\n",
    "        k = None\n",
    "        metadata = '/home/i40/almasrirz/Domain-Guided-Monitoring/data/x_vocab'\n",
    "        if 'more_templates' in name:\n",
    "            metadata += '_more_templates'\n",
    "        if remove_dates:\n",
    "            metadata += '_without_ts'\n",
    "        else:\n",
    "            metadata += '_with_ts'\n",
    "            \n",
    "        with open(metadata + '.json', 'r') as file:\n",
    "            metadata = json.load(file)\n",
    "        if name.startswith('causal'):\n",
    "            k = knowledge.CausalityKnowledge(knowledge.KnowledgeConfig())\n",
    "            k.build_causality_from_df(df, metadata)\n",
    "        elif name.startswith('hierarchy'):\n",
    "            k = knowledge.HierarchyKnowledge(knowledge.KnowledgeConfig())\n",
    "            k.build_hierarchy_from_df(df, metadata)\n",
    "        else:\n",
    "            k = knowledge.DescriptionKnowledge(knowledge.KnowledgeConfig())\n",
    "            k.build_knowledge_from_df(df, metadata)\n",
    "        v_in = len(k.vocab)\n",
    "        v_g = len(k.extended_vocab)\n",
    "        v_hidden = v_g - v_in\n",
    "        edges = set()\n",
    "        for i in range(len(k.vocab)):\n",
    "            connections = k.get_connections_for_idx(i)\n",
    "            for connection in connections:\n",
    "                edges.add((i, connection))\n",
    "        statistics_records.append({\n",
    "            'Model': name,\n",
    "            'V_G': v_g,\n",
    "            'V_in': v_in,\n",
    "            'V_hidden': v_hidden,\n",
    "            'E_G': len(edges)\n",
    "        })\n",
    "    return pd.DataFrame.from_records(statistics_records).set_index('Model')"
   ]
  },
  {
   "cell_type": "code",
   "execution_count": null,
   "metadata": {},
   "outputs": [],
   "source": [
    "statistics_with_ts = fetch_statistics(dataframes_with_ts, remove_dates=False)"
   ]
  },
  {
   "cell_type": "code",
   "execution_count": null,
   "metadata": {},
   "outputs": [],
   "source": [
    "statistics_without_ts = fetch_statistics(dataframes_without_ts, remove_dates=True)"
   ]
  },
  {
   "cell_type": "code",
   "execution_count": null,
   "metadata": {},
   "outputs": [],
   "source": [
    "statistics_with_ts"
   ]
  },
  {
   "cell_type": "code",
   "execution_count": null,
   "metadata": {},
   "outputs": [],
   "source": [
    "statistics_without_ts"
   ]
  },
  {
   "attachments": {},
   "cell_type": "markdown",
   "metadata": {},
   "source": [
    "# Plots"
   ]
  },
  {
   "cell_type": "code",
   "execution_count": null,
   "metadata": {},
   "outputs": [],
   "source": [
    "plots_df = mlflow_helper.run_df[\n",
    "    (mlflow_helper.run_df['data_params_ExperimentConfigmax_data_size'] == '-1')\n",
    "    & (mlflow_helper.run_df['data_params_HuaweiPreprocessorConfigaggregated_log_file'] == 'data/logs_aggregated_concurrent_original.csv')\n",
    "    & (mlflow_helper.run_df[\"data_params_ExperimentConfigbatch_size\"].astype(str).fillna(\"\") == \"128\")\n",
    "    & (mlflow_helper.run_df['data_params_ExperimentConfigmax_data_size'] == '-1')\n",
    "    & (mlflow_helper.run_df['data_params_HuaweiPreprocessorConfigcausal_algorithm_alpha'].isin([np.nan, '0.05']))\n",
    "    & (mlflow_helper.run_df[\"data_params_HuaweiPreprocessorConfigfine_drain_log_st\"].astype(str).fillna(\"\").isin == \"0.75\")\n",
    "    & (mlflow_helper.run_df[\"data_params_HuaweiPreprocessorConfigfine_drain_log_depth\"].astype(str).fillna(\"\") == \"10\")\n",
    "    & (mlflow_helper.run_df['data_params_ExperimentConfigonly_generate_knowledge'] == 'False')\n",
    "    & (mlflow_helper.run_df['data_params_HuaweiPreprocessorConfigmin_causality'] == '0.01')\n",
    "]\n",
    "plots_df = mlflow_helper.load_best_metrics_for_ids(set(test_df[\"info_run_id\"]))\n",
    "plots_df = categorize_run_df(test_df)\n",
    "count_attributes(plots_df)"
   ]
  }
 ],
 "metadata": {
  "kernelspec": {
   "display_name": "Python 3",
   "language": "python",
   "name": "python3"
  },
  "language_info": {
   "codemirror_mode": {
    "name": "ipython",
    "version": 3
   },
   "file_extension": ".py",
   "mimetype": "text/x-python",
   "name": "python",
   "nbconvert_exporter": "python",
   "pygments_lexer": "ipython3",
   "version": "3.8.15"
  },
  "orig_nbformat": 4,
  "vscode": {
   "interpreter": {
    "hash": "80d5d9b3524735f659a5adb9b2f8b758bc6f38bab46a1e1da290b7b375c07e0c"
   }
  }
 },
 "nbformat": 4,
 "nbformat_minor": 2
}
