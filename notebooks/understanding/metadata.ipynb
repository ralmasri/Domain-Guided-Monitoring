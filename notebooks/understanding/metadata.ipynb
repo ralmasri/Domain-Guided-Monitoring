{
 "cells": [
  {
   "cell_type": "code",
   "execution_count": 27,
   "metadata": {},
   "outputs": [],
   "source": [
    "import sys \n",
    "import os\n",
    "module_path = os.path.abspath(os.path.join('../..'))\n",
    "if module_path not in sys.path:\n",
    "    sys.path.append(module_path)\n",
    "\n",
    "from src.features import preprocessing\n",
    "from pathlib import Path\n",
    "from src.features import sequences\n",
    "from src import ExperimentRunner"
   ]
  },
  {
   "cell_type": "code",
   "execution_count": 2,
   "metadata": {},
   "outputs": [],
   "source": [
    "data_path = Path('/home/ralmasri/projects/Thesis/Domain-Guided-Monitoring/data/')\n",
    "csv_path = data_path / \"logs_aggregated_concurrent.csv\"\n",
    "size = 50\n",
    "# data_df = pd.read_csv(csv_path).head(size) if size > 0  else pd.read_csv(csv_path)\n",
    "subset_path = data_path / f\"{size}_logs_aggregated_concurrent.csv\" if size > 0 else csv_path\n",
    "# if size > 0:\n",
    "#     data_df.to_csv(subset_path)"
   ]
  },
  {
   "cell_type": "code",
   "execution_count": 3,
   "metadata": {},
   "outputs": [
    {
     "name": "stderr",
     "output_type": "stream",
     "text": [
      "Generating DRAIN clusters from log_df: 100%|██████████| 50/50 [00:00<00:00, 1245.48it/s]\n",
      "Generating DRAIN clusters from log_df: 100%|██████████| 50/50 [00:00<00:00, 1677.99it/s]\n",
      "Generating DRAIN clusters from log_df: 100%|██████████| 15/15 [00:00<00:00, 1701.54it/s]\n"
     ]
    },
    {
     "data": {
      "text/html": [
       "<div>\n",
       "<style scoped>\n",
       "    .dataframe tbody tr th:only-of-type {\n",
       "        vertical-align: middle;\n",
       "    }\n",
       "\n",
       "    .dataframe tbody tr th {\n",
       "        vertical-align: top;\n",
       "    }\n",
       "\n",
       "    .dataframe thead th {\n",
       "        text-align: right;\n",
       "    }\n",
       "</style>\n",
       "<table border=\"1\" class=\"dataframe\">\n",
       "  <thead>\n",
       "    <tr style=\"text-align: right;\">\n",
       "      <th></th>\n",
       "      <th>num_logs</th>\n",
       "      <th>num_events</th>\n",
       "      <th>all_events</th>\n",
       "      <th>attributes</th>\n",
       "      <th>fine_log_cluster_template</th>\n",
       "      <th>coarse_log_cluster_template</th>\n",
       "    </tr>\n",
       "  </thead>\n",
       "  <tbody>\n",
       "    <tr>\n",
       "      <th>0</th>\n",
       "      <td>50</td>\n",
       "      <td>50</td>\n",
       "      <td>[[http_method#get, Hostname#wally113, http_sta...</td>\n",
       "      <td>[[http_method#get, Hostname#wally113, http_sta...</td>\n",
       "      <td>[[fine_log_cluster_template#19 nov 2019 17 * *...</td>\n",
       "      <td>[[coarse_log_cluster_template#19 nov 2019 17 *...</td>\n",
       "    </tr>\n",
       "  </tbody>\n",
       "</table>\n",
       "</div>"
      ],
      "text/plain": [
       "   num_logs  num_events                                         all_events  \\\n",
       "0        50          50  [[http_method#get, Hostname#wally113, http_sta...   \n",
       "\n",
       "                                          attributes  \\\n",
       "0  [[http_method#get, Hostname#wally113, http_sta...   \n",
       "\n",
       "                           fine_log_cluster_template  \\\n",
       "0  [[fine_log_cluster_template#19 nov 2019 17 * *...   \n",
       "\n",
       "                         coarse_log_cluster_template  \n",
       "0  [[coarse_log_cluster_template#19 nov 2019 17 *...  "
      ]
     },
     "execution_count": 3,
     "metadata": {},
     "output_type": "execute_result"
    }
   ],
   "source": [
    "huawei_config = preprocessing.HuaweiPreprocessorConfig()\n",
    "huawei_config.aggregated_log_file = subset_path\n",
    "sequence_preprocessor = preprocessing.ConcurrentAggregatedLogsPreprocessor(huawei_config)\n",
    "sequence_column_name = sequence_preprocessor.sequence_column_name\n",
    "sequence_df = sequence_preprocessor.load_data()\n",
    "sequence_df"
   ]
  },
  {
   "cell_type": "code",
   "execution_count": 4,
   "metadata": {},
   "outputs": [
    {
     "data": {
      "text/plain": [
       "SequenceConfig(test_percentage=0.1, random_test_split=True, random_state=12345, flatten_x=True, flatten_y=True, max_window_size=10, min_window_size=2, window_overlap=True, allow_subwindows=False, valid_y_features=[], remove_empty_y_vecs=True, remove_empty_x_vecs=True, x_sequence_column_name='', y_sequence_column_name='', predict_full_y_sequence=False, predict_full_y_sequence_wide=False)"
      ]
     },
     "execution_count": 4,
     "metadata": {},
     "output_type": "execute_result"
    }
   ],
   "source": [
    "sequence_config = sequences.SequenceConfig()\n",
    "sequence_config"
   ]
  },
  {
   "cell_type": "code",
   "execution_count": 9,
   "metadata": {},
   "outputs": [
    {
     "data": {
      "text/plain": [
       "'all_events'"
      ]
     },
     "execution_count": 9,
     "metadata": {},
     "output_type": "execute_result"
    }
   ],
   "source": [
    "sequence_preprocessor.sequence_column_name"
   ]
  },
  {
   "cell_type": "code",
   "execution_count": 20,
   "metadata": {},
   "outputs": [
    {
     "data": {
      "text/plain": [
       "<src.features.sequences.transformer.SequenceMetadata at 0x7eff982bb4c0>"
      ]
     },
     "execution_count": 20,
     "metadata": {},
     "output_type": "execute_result"
    }
   ],
   "source": [
    "transformer = sequences.NextSequenceTransformer(sequence_config)\n",
    "metadata = transformer.collect_metadata(sequence_df=sequence_df, sequence_column_name='all_events')\n",
    "metadata"
   ]
  },
  {
   "cell_type": "code",
   "execution_count": 34,
   "metadata": {},
   "outputs": [],
   "source": [
    "runner = ExperimentRunner(1)\n",
    "runner.sequence_df_pkl_file = str(data_path / \"sequences_df.pkl\")\n",
    "runner.sequence_column_name = 'all_events'\n",
    "(train_dataset, test_dataset) = runner._create_dataset(sequence_df)\n",
    "train_dataset\n",
    "X_train = list(map(lambda x: x[0], train_dataset))\n",
    "y_train = list(map(lambda x: x[1], train_dataset))"
   ]
  },
  {
   "cell_type": "code",
   "execution_count": null,
   "metadata": {},
   "outputs": [],
   "source": []
  }
 ],
 "metadata": {
  "interpreter": {
   "hash": "700b36a561e53d43cf5db87a7727fe2d3979b618c6de3ce2a85366ffccf70fd9"
  },
  "kernelspec": {
   "display_name": "Python 3.8.13 (conda)",
   "language": "python",
   "name": "python3"
  },
  "language_info": {
   "codemirror_mode": {
    "name": "ipython",
    "version": 3
   },
   "file_extension": ".py",
   "mimetype": "text/x-python",
   "name": "python",
   "nbconvert_exporter": "python",
   "pygments_lexer": "ipython3",
   "version": "3.8.13"
  },
  "orig_nbformat": 4
 },
 "nbformat": 4,
 "nbformat_minor": 2
}
