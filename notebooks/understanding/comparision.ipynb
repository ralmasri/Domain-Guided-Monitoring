{
 "cells": [
  {
   "cell_type": "markdown",
   "metadata": {},
   "source": [
    "### Preprocessing"
   ]
  },
  {
   "cell_type": "code",
   "execution_count": null,
   "metadata": {},
   "outputs": [],
   "source": [
    "import sys \n",
    "import os\n",
    "module_path = os.path.abspath(os.path.join('../..'))\n",
    "if module_path not in sys.path:\n",
    "    sys.path.append(module_path)\n",
    "from pathlib import Path\n",
    "\n",
    "import cdt\n",
    "cdt.SETTINGS.rpath = \"/usr/bin/Rscript\"\n",
    "from cdt.causality.graph import PC\n",
    "\n",
    "import pandas as pd\n",
    "from src.features import preprocessing\n",
    "import numpy as np\n",
    "import networkx as nx\n",
    "import time"
   ]
  },
  {
   "cell_type": "code",
   "execution_count": null,
   "metadata": {},
   "outputs": [],
   "source": [
    "data_path = Path('/home/ralmasri/projects/Thesis/Domain-Guided-Monitoring/data/')\n",
    "csv_path = data_path / \"logs_aggregated_concurrent.csv\"\n",
    "huawei_config = preprocessing.HuaweiPreprocessorConfig()\n",
    "huawei_config.aggregated_log_file = csv_path\n",
    "preprocessor = preprocessing.ConcurrentAggregatedLogsPreprocessor(huawei_config)\n",
    "huawei_df = preprocessor._load_log_only_data().fillna(\"\")"
   ]
  },
  {
   "cell_type": "code",
   "execution_count": null,
   "metadata": {},
   "outputs": [],
   "source": [
    "df_sizes = [100, 1000, 10000, 50000]\n",
    "huawei_dfs = [huawei_df.head(x) for x in df_sizes]\n",
    "results = {}"
   ]
  },
  {
   "cell_type": "code",
   "execution_count": null,
   "metadata": {},
   "outputs": [],
   "source": [
    "relevant_columns = [\n",
    "            \"Hostname\",\n",
    "            \"log_level\",\n",
    "            \"programname\",\n",
    "            \"python_module\",\n",
    "            \"http_status\",\n",
    "            \"http_method\",\n",
    "            \"@timestamp\",\n",
    "            \"fine_log_cluster_template\",\n",
    "            \"coarse_log_cluster_template\",\n",
    "            \"url_cluster_template\"\n",
    "        ]"
   ]
  },
  {
   "cell_type": "markdown",
   "metadata": {},
   "source": [
    "### Heuristic"
   ]
  },
  {
   "cell_type": "code",
   "execution_count": null,
   "metadata": {},
   "outputs": [],
   "source": [
    "from src.features import sequences\n",
    "from collections import Counter\n",
    "\n",
    "causality_preprocessor = preprocessing.ConcurrentAggregatedLogsCausalityPreprocessor(huawei_config)\n",
    "huawei_config.min_causality = 0.01\n",
    "\n",
    "def collect_sequence_metadata(grouped_data):\n",
    "    transformer = sequences.load_sequence_transformer()\n",
    "    return transformer.collect_metadata(grouped_data, \"all_events\")\n",
    "\n",
    "def generate_heuristic_knowledge(huawei_df):\n",
    "    log_only_data = huawei_df.copy()\n",
    "    log_only_data[\"grouper\"] = 1\n",
    "    grouped_data = preprocessor._aggregate_per(log_only_data, aggregation_column=\"grouper\")\n",
    "    metadata = collect_sequence_metadata(grouped_data)\n",
    "\n",
    "    relevant_columns = set(\n",
    "        [\n",
    "            x\n",
    "            for x in preprocessor.relevant_columns\n",
    "            if not causality_preprocessor.config.log_only_causality or \"log\" in x\n",
    "        ]\n",
    "    )\n",
    "    counted_causality = causality_preprocessor._generate_counted_causality(\n",
    "        huawei_df, relevant_columns\n",
    "    )\n",
    "\n",
    "    causality_records = []\n",
    "    for from_value, to_values in counted_causality.items():\n",
    "        total_to_counts = len(to_values)\n",
    "        to_values_counter = Counter(to_values)\n",
    "        for to_value, to_count in to_values_counter.items():\n",
    "            if to_count / total_to_counts > causality_preprocessor.config.min_causality:\n",
    "                causality_records.append(\n",
    "                    {\n",
    "                        \"parent_id\": from_value,\n",
    "                        \"parent_name\": from_value.split(\"#\")[1],\n",
    "                        \"child_id\": to_value,\n",
    "                        \"child_name\": to_value.split(\"#\")[1],\n",
    "                    },\n",
    "                )\n",
    "\n",
    "    return (\n",
    "        pd.DataFrame.from_records(causality_records)\n",
    "        .drop_duplicates()\n",
    "        .reset_index(drop=True)\n",
    "    )"
   ]
  },
  {
   "cell_type": "code",
   "execution_count": null,
   "metadata": {},
   "outputs": [],
   "source": [
    "results['heuristic'] = [generate_heuristic_knowledge(x) for x in huawei_dfs]"
   ]
  },
  {
   "cell_type": "markdown",
   "metadata": {},
   "source": [
    "### My method"
   ]
  },
  {
   "cell_type": "code",
   "execution_count": null,
   "metadata": {},
   "outputs": [],
   "source": [
    "def generate_my_method_knoweldge(huawei_df):\n",
    "    vocab = set()\n",
    "    for _, row in huawei_df.iterrows():\n",
    "        for column in relevant_columns:\n",
    "            if column == '@timestamp':\n",
    "                continue\n",
    "            name = column + \"#\" + str(row[column]).lower()\n",
    "            if name not in vocab and row[column] != \"\":\n",
    "                vocab.add(name)\n",
    "    df_dict = {}\n",
    "    for column in vocab:\n",
    "        attribute, value = tuple(column.split('#'))\n",
    "        if column not in df_dict:\n",
    "            df_dict[column] = huawei_df[attribute].apply(lambda x: 1 if x == value else 0)\n",
    "        else:\n",
    "            df_dict[column] |= huawei_df[attribute].apply(lambda x: 1 if x == value else 0)\n",
    "    alg_df = pd.concat(df_dict, axis=1)\n",
    "    print(alg_df)\n",
    "    obj = PC(CItest=\"binary\", method_indep=\"binary\")\n",
    "    output = obj.predict(alg_df)\n",
    "    causality_records = []\n",
    "    for edge in list(output.edges()):\n",
    "        from_value, to_value = edge\n",
    "        try:\n",
    "            causality_records.append(\n",
    "                {\n",
    "                    \"parent_id\": from_value,\n",
    "                    \"parent_name\": from_value.split(\"#\")[1],\n",
    "                    \"child_id\": to_value,\n",
    "                    \"child_name\": to_value.split(\"#\")[1],\n",
    "                },\n",
    "            )\n",
    "        except Exception:\n",
    "            print(from_value)\n",
    "    return pd.DataFrame.from_records(causality_records).drop_duplicates().reset_index(drop=True)"
   ]
  },
  {
   "cell_type": "code",
   "execution_count": 51,
   "metadata": {},
   "outputs": [
    {
     "name": "stdout",
     "output_type": "stream",
     "text": [
      "Calculating for size 100\n",
      "15.969472885131836\n",
      "Calculating for size 1000\n",
      "59.380624771118164\n",
      "Calculating for size 10000\n"
     ]
    },
    {
     "ename": "KeyboardInterrupt",
     "evalue": "",
     "output_type": "error",
     "traceback": [
      "\u001b[0;31m---------------------------------------------------------------------------\u001b[0m",
      "\u001b[0;31mKeyboardInterrupt\u001b[0m                         Traceback (most recent call last)",
      "File \u001b[0;32m~/anaconda3/envs/healthcare-aiops/lib/python3.9/site-packages/cdt/utils/R.py:206\u001b[0m, in \u001b[0;36mlaunch_R_script\u001b[0;34m(template, arguments, output_function, verbose, debug)\u001b[0m\n\u001b[1;32m    204\u001b[0m         process \u001b[39m=\u001b[39m subprocess\u001b[39m.\u001b[39mPopen([\u001b[39mstr\u001b[39m(rpath), \u001b[39m\"\u001b[39m\u001b[39m--no-restore --no-save --no-site-file\u001b[39m\u001b[39m\"\u001b[39m, \u001b[39mstr\u001b[39m(scriptpath)],\n\u001b[1;32m    205\u001b[0m                                    stdout\u001b[39m=\u001b[39msubprocess\u001b[39m.\u001b[39mPIPE, stderr\u001b[39m=\u001b[39msubprocess\u001b[39m.\u001b[39mPIPE)\n\u001b[0;32m--> 206\u001b[0m     process\u001b[39m.\u001b[39;49mwait()\n\u001b[1;32m    207\u001b[0m \u001b[39mexcept\u001b[39;00m \u001b[39mKeyboardInterrupt\u001b[39;00m:\n",
      "File \u001b[0;32m~/anaconda3/envs/healthcare-aiops/lib/python3.9/subprocess.py:1189\u001b[0m, in \u001b[0;36mPopen.wait\u001b[0;34m(self, timeout)\u001b[0m\n\u001b[1;32m   1188\u001b[0m \u001b[39mtry\u001b[39;00m:\n\u001b[0;32m-> 1189\u001b[0m     \u001b[39mreturn\u001b[39;00m \u001b[39mself\u001b[39;49m\u001b[39m.\u001b[39;49m_wait(timeout\u001b[39m=\u001b[39;49mtimeout)\n\u001b[1;32m   1190\u001b[0m \u001b[39mexcept\u001b[39;00m \u001b[39mKeyboardInterrupt\u001b[39;00m:\n\u001b[1;32m   1191\u001b[0m     \u001b[39m# https://bugs.python.org/issue25942\u001b[39;00m\n\u001b[1;32m   1192\u001b[0m     \u001b[39m# The first keyboard interrupt waits briefly for the child to\u001b[39;00m\n\u001b[1;32m   1193\u001b[0m     \u001b[39m# exit under the common assumption that it also received the ^C\u001b[39;00m\n\u001b[1;32m   1194\u001b[0m     \u001b[39m# generated SIGINT and will exit rapidly.\u001b[39;00m\n",
      "File \u001b[0;32m~/anaconda3/envs/healthcare-aiops/lib/python3.9/subprocess.py:1917\u001b[0m, in \u001b[0;36mPopen._wait\u001b[0;34m(self, timeout)\u001b[0m\n\u001b[1;32m   1916\u001b[0m     \u001b[39mbreak\u001b[39;00m  \u001b[39m# Another thread waited.\u001b[39;00m\n\u001b[0;32m-> 1917\u001b[0m (pid, sts) \u001b[39m=\u001b[39m \u001b[39mself\u001b[39;49m\u001b[39m.\u001b[39;49m_try_wait(\u001b[39m0\u001b[39;49m)\n\u001b[1;32m   1918\u001b[0m \u001b[39m# Check the pid and loop as waitpid has been known to\u001b[39;00m\n\u001b[1;32m   1919\u001b[0m \u001b[39m# return 0 even without WNOHANG in odd situations.\u001b[39;00m\n\u001b[1;32m   1920\u001b[0m \u001b[39m# http://bugs.python.org/issue14396.\u001b[39;00m\n",
      "File \u001b[0;32m~/anaconda3/envs/healthcare-aiops/lib/python3.9/subprocess.py:1875\u001b[0m, in \u001b[0;36mPopen._try_wait\u001b[0;34m(self, wait_flags)\u001b[0m\n\u001b[1;32m   1874\u001b[0m \u001b[39mtry\u001b[39;00m:\n\u001b[0;32m-> 1875\u001b[0m     (pid, sts) \u001b[39m=\u001b[39m os\u001b[39m.\u001b[39;49mwaitpid(\u001b[39mself\u001b[39;49m\u001b[39m.\u001b[39;49mpid, wait_flags)\n\u001b[1;32m   1876\u001b[0m \u001b[39mexcept\u001b[39;00m \u001b[39mChildProcessError\u001b[39;00m:\n\u001b[1;32m   1877\u001b[0m     \u001b[39m# This happens if SIGCLD is set to be ignored or waiting\u001b[39;00m\n\u001b[1;32m   1878\u001b[0m     \u001b[39m# for child processes has otherwise been disabled for our\u001b[39;00m\n\u001b[1;32m   1879\u001b[0m     \u001b[39m# process.  This child is dead, we can't get the status.\u001b[39;00m\n",
      "\u001b[0;31mKeyboardInterrupt\u001b[0m: ",
      "\nDuring handling of the above exception, another exception occurred:\n",
      "\u001b[0;31mKeyboardInterrupt\u001b[0m                         Traceback (most recent call last)",
      "File \u001b[0;32m~/anaconda3/envs/healthcare-aiops/lib/python3.9/site-packages/cdt/causality/graph/PC.py:310\u001b[0m, in \u001b[0;36mPC._run_pc\u001b[0;34m(self, data, fixedEdges, fixedGaps, verbose)\u001b[0m\n\u001b[1;32m    308\u001b[0m         \u001b[39mself\u001b[39m\u001b[39m.\u001b[39marguments[\u001b[39m'\u001b[39m\u001b[39m{E_EDGES}\u001b[39;00m\u001b[39m'\u001b[39m] \u001b[39m=\u001b[39m \u001b[39m'\u001b[39m\u001b[39mFALSE\u001b[39m\u001b[39m'\u001b[39m\n\u001b[0;32m--> 310\u001b[0m     pc_result \u001b[39m=\u001b[39m launch_R_script(Path(\u001b[39m\"\u001b[39;49m\u001b[39m{}\u001b[39;49;00m\u001b[39m/R_templates/pc.R\u001b[39;49m\u001b[39m\"\u001b[39;49m\u001b[39m.\u001b[39;49mformat(os\u001b[39m.\u001b[39;49mpath\u001b[39m.\u001b[39;49mdirname(os\u001b[39m.\u001b[39;49mpath\u001b[39m.\u001b[39;49mrealpath(\u001b[39m__file__\u001b[39;49m)))),\n\u001b[1;32m    311\u001b[0m                                 \u001b[39mself\u001b[39;49m\u001b[39m.\u001b[39;49marguments, output_function\u001b[39m=\u001b[39;49mretrieve_result, verbose\u001b[39m=\u001b[39;49mverbose)\n\u001b[1;32m    312\u001b[0m \u001b[39m# Cleanup\u001b[39;00m\n",
      "File \u001b[0;32m~/anaconda3/envs/healthcare-aiops/lib/python3.9/site-packages/cdt/utils/R.py:210\u001b[0m, in \u001b[0;36mlaunch_R_script\u001b[0;34m(template, arguments, output_function, verbose, debug)\u001b[0m\n\u001b[1;32m    209\u001b[0m         rmtree(base_dir)\n\u001b[0;32m--> 210\u001b[0m     \u001b[39mraise\u001b[39;00m \u001b[39mKeyboardInterrupt\u001b[39;00m\n\u001b[1;32m    211\u001b[0m \u001b[39mtry\u001b[39;00m:\n",
      "\u001b[0;31mKeyboardInterrupt\u001b[0m: ",
      "\nDuring handling of the above exception, another exception occurred:\n",
      "\u001b[0;31mKeyboardInterrupt\u001b[0m                         Traceback (most recent call last)",
      "\u001b[1;32m/home/ralmasri/projects/Thesis/Domain-Guided-Monitoring/notebooks/understanding/comparision.ipynb Cell 11\u001b[0m in \u001b[0;36m<cell line: 2>\u001b[0;34m()\u001b[0m\n\u001b[1;32m      <a href='vscode-notebook-cell:/home/ralmasri/projects/Thesis/Domain-Guided-Monitoring/notebooks/understanding/comparision.ipynb#X20sZmlsZQ%3D%3D?line=2'>3</a>\u001b[0m start \u001b[39m=\u001b[39m time\u001b[39m.\u001b[39mtime()\n\u001b[1;32m      <a href='vscode-notebook-cell:/home/ralmasri/projects/Thesis/Domain-Guided-Monitoring/notebooks/understanding/comparision.ipynb#X20sZmlsZQ%3D%3D?line=3'>4</a>\u001b[0m \u001b[39mprint\u001b[39m(\u001b[39mf\u001b[39m\u001b[39m\"\u001b[39m\u001b[39mCalculating for size \u001b[39m\u001b[39m{\u001b[39;00mdf_sizes[i]\u001b[39m}\u001b[39;00m\u001b[39m\"\u001b[39m)\n\u001b[0;32m----> <a href='vscode-notebook-cell:/home/ralmasri/projects/Thesis/Domain-Guided-Monitoring/notebooks/understanding/comparision.ipynb#X20sZmlsZQ%3D%3D?line=4'>5</a>\u001b[0m results[\u001b[39m'\u001b[39m\u001b[39mmy method\u001b[39m\u001b[39m'\u001b[39m]\u001b[39m.\u001b[39mappend(generate_my_method_knoweldge(huawei_df))\n\u001b[1;32m      <a href='vscode-notebook-cell:/home/ralmasri/projects/Thesis/Domain-Guided-Monitoring/notebooks/understanding/comparision.ipynb#X20sZmlsZQ%3D%3D?line=5'>6</a>\u001b[0m \u001b[39mprint\u001b[39m(time\u001b[39m.\u001b[39mtime() \u001b[39m-\u001b[39m start)\n",
      "\u001b[1;32m/home/ralmasri/projects/Thesis/Domain-Guided-Monitoring/notebooks/understanding/comparision.ipynb Cell 11\u001b[0m in \u001b[0;36mgenerate_my_method_knoweldge\u001b[0;34m(huawei_df)\u001b[0m\n\u001b[1;32m     <a href='vscode-notebook-cell:/home/ralmasri/projects/Thesis/Domain-Guided-Monitoring/notebooks/understanding/comparision.ipynb#X20sZmlsZQ%3D%3D?line=16'>17</a>\u001b[0m alg_df \u001b[39m=\u001b[39m pd\u001b[39m.\u001b[39mconcat(df_dict, axis\u001b[39m=\u001b[39m\u001b[39m1\u001b[39m)\n\u001b[1;32m     <a href='vscode-notebook-cell:/home/ralmasri/projects/Thesis/Domain-Guided-Monitoring/notebooks/understanding/comparision.ipynb#X20sZmlsZQ%3D%3D?line=17'>18</a>\u001b[0m obj \u001b[39m=\u001b[39m PC(CItest\u001b[39m=\u001b[39m\u001b[39m\"\u001b[39m\u001b[39mbinary\u001b[39m\u001b[39m\"\u001b[39m, method_indep\u001b[39m=\u001b[39m\u001b[39m\"\u001b[39m\u001b[39mbinary\u001b[39m\u001b[39m\"\u001b[39m)\n\u001b[0;32m---> <a href='vscode-notebook-cell:/home/ralmasri/projects/Thesis/Domain-Guided-Monitoring/notebooks/understanding/comparision.ipynb#X20sZmlsZQ%3D%3D?line=18'>19</a>\u001b[0m output \u001b[39m=\u001b[39m obj\u001b[39m.\u001b[39;49mpredict(alg_df)\n\u001b[1;32m     <a href='vscode-notebook-cell:/home/ralmasri/projects/Thesis/Domain-Guided-Monitoring/notebooks/understanding/comparision.ipynb#X20sZmlsZQ%3D%3D?line=19'>20</a>\u001b[0m causality_records \u001b[39m=\u001b[39m []\n\u001b[1;32m     <a href='vscode-notebook-cell:/home/ralmasri/projects/Thesis/Domain-Guided-Monitoring/notebooks/understanding/comparision.ipynb#X20sZmlsZQ%3D%3D?line=20'>21</a>\u001b[0m \u001b[39mfor\u001b[39;00m edge \u001b[39min\u001b[39;00m \u001b[39mlist\u001b[39m(output\u001b[39m.\u001b[39medges()):\n",
      "File \u001b[0;32m~/anaconda3/envs/healthcare-aiops/lib/python3.9/site-packages/cdt/causality/graph/model.py:63\u001b[0m, in \u001b[0;36mGraphModel.predict\u001b[0;34m(self, df_data, graph, **kwargs)\u001b[0m\n\u001b[1;32m     45\u001b[0m \u001b[39m\"\"\"Orient a graph using the method defined by the arguments.\u001b[39;00m\n\u001b[1;32m     46\u001b[0m \n\u001b[1;32m     47\u001b[0m \u001b[39mDepending on the type of `graph`, this function process to execute\u001b[39;00m\n\u001b[0;32m   (...)\u001b[0m\n\u001b[1;32m     60\u001b[0m \u001b[39m   name of the variables in df_data\u001b[39;00m\n\u001b[1;32m     61\u001b[0m \u001b[39m\"\"\"\u001b[39;00m\n\u001b[1;32m     62\u001b[0m \u001b[39mif\u001b[39;00m graph \u001b[39mis\u001b[39;00m \u001b[39mNone\u001b[39;00m:\n\u001b[0;32m---> 63\u001b[0m     \u001b[39mreturn\u001b[39;00m \u001b[39mself\u001b[39;49m\u001b[39m.\u001b[39;49mcreate_graph_from_data(df_data, \u001b[39m*\u001b[39;49m\u001b[39m*\u001b[39;49mkwargs)\n\u001b[1;32m     64\u001b[0m \u001b[39melif\u001b[39;00m \u001b[39misinstance\u001b[39m(graph, nx\u001b[39m.\u001b[39mDiGraph):\n\u001b[1;32m     65\u001b[0m     \u001b[39mreturn\u001b[39;00m \u001b[39mself\u001b[39m\u001b[39m.\u001b[39morient_directed_graph(df_data, graph, \u001b[39m*\u001b[39m\u001b[39m*\u001b[39mkwargs)\n",
      "File \u001b[0;32m~/anaconda3/envs/healthcare-aiops/lib/python3.9/site-packages/cdt/causality/graph/PC.py:278\u001b[0m, in \u001b[0;36mPC.create_graph_from_data\u001b[0;34m(self, data, **kwargs)\u001b[0m\n\u001b[1;32m    275\u001b[0m \u001b[39mself\u001b[39m\u001b[39m.\u001b[39marguments[\u001b[39m'\u001b[39m\u001b[39m{NJOBS}\u001b[39;00m\u001b[39m'\u001b[39m] \u001b[39m=\u001b[39m \u001b[39mstr\u001b[39m(\u001b[39mself\u001b[39m\u001b[39m.\u001b[39mnjobs)\n\u001b[1;32m    276\u001b[0m \u001b[39mself\u001b[39m\u001b[39m.\u001b[39marguments[\u001b[39m'\u001b[39m\u001b[39m{VERBOSE}\u001b[39;00m\u001b[39m'\u001b[39m] \u001b[39m=\u001b[39m \u001b[39mstr\u001b[39m(\u001b[39mself\u001b[39m\u001b[39m.\u001b[39mverbose)\u001b[39m.\u001b[39mupper()\n\u001b[0;32m--> 278\u001b[0m results \u001b[39m=\u001b[39m \u001b[39mself\u001b[39;49m\u001b[39m.\u001b[39;49m_run_pc(data, verbose\u001b[39m=\u001b[39;49m\u001b[39mself\u001b[39;49m\u001b[39m.\u001b[39;49mverbose)\n\u001b[1;32m    280\u001b[0m \u001b[39mreturn\u001b[39;00m nx\u001b[39m.\u001b[39mrelabel_nodes(nx\u001b[39m.\u001b[39mDiGraph(results),\n\u001b[1;32m    281\u001b[0m                         {idx: i \u001b[39mfor\u001b[39;00m idx, i \u001b[39min\u001b[39;00m \u001b[39menumerate\u001b[39m(data\u001b[39m.\u001b[39mcolumns)})\n",
      "File \u001b[0;32m~/anaconda3/envs/healthcare-aiops/lib/python3.9/site-packages/cdt/causality/graph/PC.py:318\u001b[0m, in \u001b[0;36mPC._run_pc\u001b[0;34m(self, data, fixedEdges, fixedGaps, verbose)\u001b[0m\n\u001b[1;32m    316\u001b[0m \u001b[39mexcept\u001b[39;00m \u001b[39mKeyboardInterrupt\u001b[39;00m:\n\u001b[1;32m    317\u001b[0m     rmtree(run_dir)\n\u001b[0;32m--> 318\u001b[0m     \u001b[39mraise\u001b[39;00m \u001b[39mKeyboardInterrupt\u001b[39;00m\n\u001b[1;32m    319\u001b[0m rmtree(run_dir)\n\u001b[1;32m    320\u001b[0m \u001b[39mreturn\u001b[39;00m pc_result\n",
      "\u001b[0;31mKeyboardInterrupt\u001b[0m: "
     ]
    }
   ],
   "source": [
    "results['my method'] = []\n",
    "for i, huawei_df in enumerate(huawei_dfs):\n",
    "    start = time.time()\n",
    "    print(f\"Calculating for size {df_sizes[i]}\")\n",
    "    results['my method'].append(generate_my_method_knoweldge(huawei_df))\n",
    "    print(time.time() - start)"
   ]
  },
  {
   "cell_type": "code",
   "execution_count": null,
   "metadata": {},
   "outputs": [],
   "source": []
  }
 ],
 "metadata": {
  "kernelspec": {
   "display_name": "Python 3.9.12 ('healthcare-aiops')",
   "language": "python",
   "name": "python3"
  },
  "language_info": {
   "codemirror_mode": {
    "name": "ipython",
    "version": 3
   },
   "file_extension": ".py",
   "mimetype": "text/x-python",
   "name": "python",
   "nbconvert_exporter": "python",
   "pygments_lexer": "ipython3",
   "version": "3.9.12"
  },
  "orig_nbformat": 4,
  "vscode": {
   "interpreter": {
    "hash": "6855f63c191af6fd2fd1da4b19dd7ae7c65708b4b78f6dbf4a71b45dd37ea344"
   }
  }
 },
 "nbformat": 4,
 "nbformat_minor": 2
}
