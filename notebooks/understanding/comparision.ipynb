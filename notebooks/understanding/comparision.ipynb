{
 "cells": [
  {
   "cell_type": "markdown",
   "metadata": {},
   "source": [
    "### Preprocessing"
   ]
  },
  {
   "cell_type": "code",
   "execution_count": null,
   "metadata": {},
   "outputs": [],
   "source": [
    "import sys \n",
    "import os\n",
    "module_path = os.path.abspath(os.path.join('../..'))\n",
    "if module_path not in sys.path:\n",
    "    sys.path.append(module_path)\n",
    "from pathlib import Path\n",
    "\n",
    "import cdt\n",
    "cdt.SETTINGS.rpath = \"/usr/bin/Rscript\"\n",
    "from cdt.causality.graph import PC\n",
    "\n",
    "import pandas as pd\n",
    "from src.features import preprocessing\n",
    "import numpy as np\n",
    "import networkx as nx\n",
    "import time"
   ]
  },
  {
   "cell_type": "code",
   "execution_count": null,
   "metadata": {},
   "outputs": [],
   "source": [
    "data_path = Path('/home/ralmasri/projects/Thesis/Domain-Guided-Monitoring/data/')\n",
    "csv_path = data_path / \"logs_aggregated_concurrent.csv\"\n",
    "huawei_config = preprocessing.HuaweiPreprocessorConfig()\n",
    "huawei_config.aggregated_log_file = csv_path\n",
    "preprocessor = preprocessing.ConcurrentAggregatedLogsPreprocessor(huawei_config)\n",
    "huawei_df = preprocessor._load_log_only_data().fillna(\"\")"
   ]
  },
  {
   "cell_type": "code",
   "execution_count": null,
   "metadata": {},
   "outputs": [],
   "source": [
    "df_sizes = [100, 1000, 10000, 50000]\n",
    "huawei_dfs = [huawei_df.head(x) for x in df_sizes]\n",
    "results = {}"
   ]
  },
  {
   "cell_type": "code",
   "execution_count": null,
   "metadata": {},
   "outputs": [],
   "source": [
    "relevant_columns = [\n",
    "            \"Hostname\",\n",
    "            \"log_level\",\n",
    "            \"programname\",\n",
    "            \"python_module\",\n",
    "            \"http_status\",\n",
    "            \"http_method\",\n",
    "            \"@timestamp\",\n",
    "            \"fine_log_cluster_template\",\n",
    "            \"coarse_log_cluster_template\",\n",
    "            \"url_cluster_template\"\n",
    "        ]"
   ]
  },
  {
   "cell_type": "markdown",
   "metadata": {},
   "source": [
    "### Heuristic"
   ]
  },
  {
   "cell_type": "code",
   "execution_count": null,
   "metadata": {},
   "outputs": [],
   "source": [
    "from src.features import sequences\n",
    "from collections import Counter\n",
    "\n",
    "causality_preprocessor = preprocessing.ConcurrentAggregatedLogsCausalityPreprocessor(huawei_config)\n",
    "huawei_config.min_causality = 0.01\n",
    "\n",
    "def collect_sequence_metadata(grouped_data):\n",
    "    transformer = sequences.load_sequence_transformer()\n",
    "    return transformer.collect_metadata(grouped_data, \"all_events\")\n",
    "\n",
    "def generate_heuristic_knowledge(huawei_df):\n",
    "    log_only_data = huawei_df.copy()\n",
    "    log_only_data[\"grouper\"] = 1\n",
    "    grouped_data = preprocessor._aggregate_per(log_only_data, aggregation_column=\"grouper\")\n",
    "    metadata = collect_sequence_metadata(grouped_data)\n",
    "\n",
    "    relevant_columns = set(\n",
    "        [\n",
    "            x\n",
    "            for x in preprocessor.relevant_columns\n",
    "            if not causality_preprocessor.config.log_only_causality or \"log\" in x\n",
    "        ]\n",
    "    )\n",
    "    counted_causality = causality_preprocessor._generate_counted_causality(\n",
    "        huawei_df, relevant_columns\n",
    "    )\n",
    "\n",
    "    causality_records = []\n",
    "    for from_value, to_values in counted_causality.items():\n",
    "        total_to_counts = len(to_values)\n",
    "        to_values_counter = Counter(to_values)\n",
    "        for to_value, to_count in to_values_counter.items():\n",
    "            if to_count / total_to_counts > causality_preprocessor.config.min_causality:\n",
    "                causality_records.append(\n",
    "                    {\n",
    "                        \"parent_id\": from_value,\n",
    "                        \"parent_name\": from_value.split(\"#\")[1],\n",
    "                        \"child_id\": to_value,\n",
    "                        \"child_name\": to_value.split(\"#\")[1],\n",
    "                    },\n",
    "                )\n",
    "\n",
    "    return (\n",
    "        pd.DataFrame.from_records(causality_records)\n",
    "        .drop_duplicates()\n",
    "        .reset_index(drop=True)\n",
    "    )"
   ]
  },
  {
   "cell_type": "code",
   "execution_count": null,
   "metadata": {},
   "outputs": [],
   "source": [
    "results['heuristic'] = [generate_heuristic_knowledge(x) for x in huawei_dfs]"
   ]
  },
  {
   "cell_type": "markdown",
   "metadata": {},
   "source": [
    "### My method"
   ]
  },
  {
   "cell_type": "code",
   "execution_count": null,
   "metadata": {},
   "outputs": [],
   "source": [
    "def generate_my_method_knoweldge(huawei_df):\n",
    "    vocab = set()\n",
    "    for _, row in huawei_df.iterrows():\n",
    "        for column in relevant_columns:\n",
    "            if column == '@timestamp':\n",
    "                continue\n",
    "            name = column + \"#\" + str(row[column]).lower()\n",
    "            if name not in vocab and row[column] != \"\":\n",
    "                vocab.add(name)\n",
    "    df_dict = {}\n",
    "    for column in vocab:\n",
    "        attribute, value = tuple(column.split('#'))\n",
    "        if column not in df_dict:\n",
    "            df_dict[column] = huawei_df[attribute].apply(lambda x: 1 if x == value else 0)\n",
    "        else:\n",
    "            df_dict[column] |= huawei_df[attribute].apply(lambda x: 1 if x == value else 0)\n",
    "    alg_df = pd.concat(list(df_dict.values()), axis=1)\n",
    "    obj = PC(CItest=\"binary\", method_indep=\"binary\")\n",
    "    output = obj.predict(alg_df)\n",
    "    causality_records = []\n",
    "    for edge in list(output.edges()):\n",
    "        from_value, to_value = edge\n",
    "        try:\n",
    "            causality_records.append(\n",
    "                {\n",
    "                    \"parent_id\": from_value,\n",
    "                    \"parent_name\": from_value.split(\"#\")[1],\n",
    "                    \"child_id\": to_value,\n",
    "                    \"child_name\": to_value.split(\"#\")[1],\n",
    "                },\n",
    "            )\n",
    "        except Exception:\n",
    "            print(from_value)\n",
    "    return pd.DataFrame.from_records(causality_records).drop_duplicates().reset_index(drop=True)"
   ]
  },
  {
   "cell_type": "code",
   "execution_count": null,
   "metadata": {},
   "outputs": [],
   "source": [
    "results['my method'] = []\n",
    "for i, huawei_df in enumerate(huawei_dfs):\n",
    "    start = time.time()\n",
    "    print(f\"Calculating for size {df_sizes[i]}\")\n",
    "    results['my method'].append(generate_my_method_knoweldge(huawei_df))\n",
    "    print(time.time() - start)"
   ]
  },
  {
   "cell_type": "code",
   "execution_count": null,
   "metadata": {},
   "outputs": [],
   "source": []
  }
 ],
 "metadata": {
  "kernelspec": {
   "display_name": "Python 3.9.12 ('healthcare-aiops')",
   "language": "python",
   "name": "python3"
  },
  "language_info": {
   "codemirror_mode": {
    "name": "ipython",
    "version": 3
   },
   "file_extension": ".py",
   "mimetype": "text/x-python",
   "name": "python",
   "nbconvert_exporter": "python",
   "pygments_lexer": "ipython3",
   "version": "3.9.12"
  },
  "orig_nbformat": 4,
  "vscode": {
   "interpreter": {
    "hash": "6855f63c191af6fd2fd1da4b19dd7ae7c65708b4b78f6dbf4a71b45dd37ea344"
   }
  }
 },
 "nbformat": 4,
 "nbformat_minor": 2
}
