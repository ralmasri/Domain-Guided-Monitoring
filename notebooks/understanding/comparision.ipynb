{
 "cells": [
  {
   "cell_type": "markdown",
   "metadata": {},
   "source": [
    "### Preprocessing"
   ]
  },
  {
   "cell_type": "code",
   "execution_count": 19,
   "metadata": {},
   "outputs": [],
   "source": [
    "import sys \n",
    "import os\n",
    "module_path = os.path.abspath(os.path.join('../..'))\n",
    "if module_path not in sys.path:\n",
    "    sys.path.append(module_path)\n",
    "from pathlib import Path\n",
    "\n",
    "import cdt\n",
    "cdt.SETTINGS.rpath = \"/usr/bin/Rscript\"\n",
    "from cdt.causality.graph import PC\n",
    "\n",
    "import pandas as pd\n",
    "from src.features import preprocessing\n",
    "import numpy as np\n",
    "import networkx as nx\n",
    "import time"
   ]
  },
  {
   "cell_type": "code",
   "execution_count": 10,
   "metadata": {},
   "outputs": [
    {
     "name": "stderr",
     "output_type": "stream",
     "text": [
      "Generating DRAIN clusters from log_df: 100%|██████████| 127654/127654 [01:00<00:00, 2118.73it/s]\n",
      "Generating DRAIN clusters from log_df: 100%|██████████| 127654/127654 [00:35<00:00, 3617.23it/s]\n",
      "Generating DRAIN clusters from log_df: 100%|██████████| 1252/1252 [00:00<00:00, 3698.69it/s]\n"
     ]
    }
   ],
   "source": [
    "data_path = Path('/home/ralmasri/projects/Thesis/Domain-Guided-Monitoring/data/')\n",
    "csv_path = data_path / \"logs_aggregated_concurrent.csv\"\n",
    "huawei_config = preprocessing.HuaweiPreprocessorConfig()\n",
    "huawei_config.aggregated_log_file = csv_path\n",
    "preprocessor = preprocessing.ConcurrentAggregatedLogsPreprocessor(huawei_config)\n",
    "huawei_df = preprocessor._load_log_only_data().fillna(\"\")"
   ]
  },
  {
   "cell_type": "code",
   "execution_count": 11,
   "metadata": {},
   "outputs": [],
   "source": [
    "df_sizes = [100, 1000, 10000, 50000]\n",
    "huawei_dfs = [huawei_df.head(x) for x in df_sizes]\n",
    "results = {}"
   ]
  },
  {
   "cell_type": "markdown",
   "metadata": {},
   "source": [
    "### Heuristic"
   ]
  },
  {
   "cell_type": "code",
   "execution_count": 15,
   "metadata": {},
   "outputs": [],
   "source": [
    "from src.features import sequences\n",
    "from collections import Counter\n",
    "\n",
    "causality_preprocessor = preprocessing.ConcurrentAggregatedLogsCausalityPreprocessor(huawei_config)\n",
    "huawei_config.min_causality = 0.01\n",
    "\n",
    "def collect_sequence_metadata(grouped_data):\n",
    "    transformer = sequences.load_sequence_transformer()\n",
    "    return transformer.collect_metadata(grouped_data, \"all_events\")\n",
    "\n",
    "def generate_heuristic_knowledge(huawei_df):\n",
    "    log_only_data = huawei_df.copy()\n",
    "    log_only_data[\"grouper\"] = 1\n",
    "    grouped_data = preprocessor._aggregate_per(log_only_data, aggregation_column=\"grouper\")\n",
    "    metadata = collect_sequence_metadata(grouped_data)\n",
    "\n",
    "    relevant_columns = set(\n",
    "        [\n",
    "            x\n",
    "            for x in preprocessor.relevant_columns\n",
    "            if not causality_preprocessor.config.log_only_causality or \"log\" in x\n",
    "        ]\n",
    "    )\n",
    "    counted_causality = causality_preprocessor._generate_counted_causality(\n",
    "        huawei_df, relevant_columns\n",
    "    )\n",
    "\n",
    "    causality_records = []\n",
    "    for from_value, to_values in counted_causality.items():\n",
    "        total_to_counts = len(to_values)\n",
    "        to_values_counter = Counter(to_values)\n",
    "        for to_value, to_count in to_values_counter.items():\n",
    "            if to_count / total_to_counts > causality_preprocessor.config.min_causality:\n",
    "                causality_records.append(\n",
    "                    {\n",
    "                        \"parent_id\": from_value,\n",
    "                        \"parent_name\": from_value.split(\"#\")[1],\n",
    "                        \"child_id\": to_value,\n",
    "                        \"child_name\": to_value.split(\"#\")[1],\n",
    "                    },\n",
    "                )\n",
    "\n",
    "    return (\n",
    "        pd.DataFrame.from_records(causality_records)\n",
    "        .drop_duplicates()\n",
    "        .reset_index(drop=True)\n",
    "    )"
   ]
  },
  {
   "cell_type": "code",
   "execution_count": 16,
   "metadata": {},
   "outputs": [
    {
     "name": "stderr",
     "output_type": "stream",
     "text": [
      "Passing a set as an indexer is deprecated and will raise in a future version. Use a list instead.\n",
      "Generating counted causality for Huawei log data: 100%|██████████| 100/100 [00:00<00:00, 240.31it/s]\n",
      "Passing a set as an indexer is deprecated and will raise in a future version. Use a list instead.\n",
      "Generating counted causality for Huawei log data: 100%|██████████| 1000/1000 [00:01<00:00, 552.59it/s]\n",
      "Passing a set as an indexer is deprecated and will raise in a future version. Use a list instead.\n",
      "Generating counted causality for Huawei log data: 100%|██████████| 10000/10000 [01:24<00:00, 118.05it/s]\n",
      "Passing a set as an indexer is deprecated and will raise in a future version. Use a list instead.\n",
      "Generating counted causality for Huawei log data: 100%|██████████| 50000/50000 [16:13<00:00, 51.34it/s] \n"
     ]
    }
   ],
   "source": [
    "results['heuristic'] = [generate_heuristic_knowledge(x) for x in huawei_dfs]"
   ]
  },
  {
   "cell_type": "markdown",
   "metadata": {},
   "source": [
    "### My method"
   ]
  },
  {
   "cell_type": "code",
   "execution_count": 18,
   "metadata": {},
   "outputs": [],
   "source": [
    "def generate_my_method_knoweldge(huawei_df):\n",
    "    vocab = set()\n",
    "    for _, row in huawei_df.iterrows():\n",
    "        for column in huawei_df.columns:\n",
    "            name = column + \"#\" + str(row[column]).lower()\n",
    "            if name not in vocab and row[column] != \"\":\n",
    "                vocab.add(name)\n",
    "    alg_df = pd.DataFrame()\n",
    "    for column in vocab:\n",
    "        attribute, value = tuple(column.split('#'))\n",
    "        if column not in alg_df.columns:\n",
    "            alg_df[column] = huawei_df[attribute].apply(lambda x: 1 if x == value else 0)\n",
    "        else:\n",
    "            alg_df[column] |= huawei_df[attribute].apply(lambda x: 1 if x == value else 0)\n",
    "    obj = PC()\n",
    "    output = obj.predict(alg_df)\n",
    "    causality_records = []\n",
    "    for edge in list(output.edges()):\n",
    "        from_value, to_value = edge\n",
    "        causality_records.append(\n",
    "            {\n",
    "                \"parent_id\": from_value,\n",
    "                \"parent_name\": from_value.split(\"#\")[1],\n",
    "                \"child_id\": to_value,\n",
    "                \"child_name\": to_value.split(\"#\")[1],\n",
    "            },\n",
    "        )\n",
    "    return pd.DataFrame.from_records(causality_records).drop_duplicates().reset_index(drop=True)"
   ]
  },
  {
   "cell_type": "code",
   "execution_count": null,
   "metadata": {},
   "outputs": [],
   "source": [
    "results['my method'] = []\n",
    "for huawei_df in huawei_dfs:\n",
    "    start = time.time()\n",
    "    results['my method'].append(generate_my_method_knoweldge(huawei_df))\n",
    "    print(time.time() - start)"
   ]
  }
 ],
 "metadata": {
  "kernelspec": {
   "display_name": "Python 3.9.12 ('healthcare-aiops')",
   "language": "python",
   "name": "python3"
  },
  "language_info": {
   "codemirror_mode": {
    "name": "ipython",
    "version": 3
   },
   "file_extension": ".py",
   "mimetype": "text/x-python",
   "name": "python",
   "nbconvert_exporter": "python",
   "pygments_lexer": "ipython3",
   "version": "3.9.12"
  },
  "orig_nbformat": 4,
  "vscode": {
   "interpreter": {
    "hash": "6855f63c191af6fd2fd1da4b19dd7ae7c65708b4b78f6dbf4a71b45dd37ea344"
   }
  }
 },
 "nbformat": 4,
 "nbformat_minor": 2
}
