{
 "cells": [
  {
   "cell_type": "code",
   "execution_count": 9,
   "metadata": {},
   "outputs": [],
   "source": [
    "import sys \n",
    "import os\n",
    "module_path = os.path.abspath(os.path.join('../..'))\n",
    "if module_path not in sys.path:\n",
    "    sys.path.append(module_path)\n",
    "\n",
    "from src.features import preprocessing\n",
    "from src.features import sequences\n",
    "from src.features import knowledge\n",
    "\n",
    "from pathlib import Path"
   ]
  },
  {
   "cell_type": "code",
   "execution_count": 10,
   "metadata": {},
   "outputs": [],
   "source": [
    "data_path = Path('/home/ralmasri/projects/Thesis/Domain-Guided-Monitoring/data/')\n",
    "csv_path = data_path / \"logs_aggregated_concurrent.csv\"\n",
    "size = 50\n",
    "# data_df = pd.read_csv(csv_path).head(size) if size > 0  else pd.read_csv(csv_path)\n",
    "subset_path = data_path / f\"{size}_logs_aggregated_concurrent.csv\" if size > 0 else csv_path"
   ]
  },
  {
   "cell_type": "code",
   "execution_count": 11,
   "metadata": {},
   "outputs": [
    {
     "name": "stderr",
     "output_type": "stream",
     "text": [
      "Generating DRAIN clusters from log_df: 100%|██████████| 50/50 [00:00<00:00, 1417.27it/s]\n",
      "Generating DRAIN clusters from log_df: 100%|██████████| 50/50 [00:00<00:00, 2308.24it/s]\n",
      "Generating DRAIN clusters from log_df: 100%|██████████| 15/15 [00:00<00:00, 4042.83it/s]\n"
     ]
    },
    {
     "data": {
      "text/html": [
       "<div>\n",
       "<style scoped>\n",
       "    .dataframe tbody tr th:only-of-type {\n",
       "        vertical-align: middle;\n",
       "    }\n",
       "\n",
       "    .dataframe tbody tr th {\n",
       "        vertical-align: top;\n",
       "    }\n",
       "\n",
       "    .dataframe thead th {\n",
       "        text-align: right;\n",
       "    }\n",
       "</style>\n",
       "<table border=\"1\" class=\"dataframe\">\n",
       "  <thead>\n",
       "    <tr style=\"text-align: right;\">\n",
       "      <th></th>\n",
       "      <th>num_logs</th>\n",
       "      <th>num_events</th>\n",
       "      <th>all_events</th>\n",
       "      <th>attributes</th>\n",
       "      <th>fine_log_cluster_template</th>\n",
       "      <th>coarse_log_cluster_template</th>\n",
       "    </tr>\n",
       "  </thead>\n",
       "  <tbody>\n",
       "    <tr>\n",
       "      <th>0</th>\n",
       "      <td>50</td>\n",
       "      <td>50</td>\n",
       "      <td>[[fine_log_cluster_template#19 nov 2019 17 * *...</td>\n",
       "      <td>[[http_status#200.0, programname#placement-api...</td>\n",
       "      <td>[[fine_log_cluster_template#19 nov 2019 17 * *...</td>\n",
       "      <td>[[coarse_log_cluster_template#19 nov 2019 17 *...</td>\n",
       "    </tr>\n",
       "  </tbody>\n",
       "</table>\n",
       "</div>"
      ],
      "text/plain": [
       "   num_logs  num_events                                         all_events  \\\n",
       "0        50          50  [[fine_log_cluster_template#19 nov 2019 17 * *...   \n",
       "\n",
       "                                          attributes  \\\n",
       "0  [[http_status#200.0, programname#placement-api...   \n",
       "\n",
       "                           fine_log_cluster_template  \\\n",
       "0  [[fine_log_cluster_template#19 nov 2019 17 * *...   \n",
       "\n",
       "                         coarse_log_cluster_template  \n",
       "0  [[coarse_log_cluster_template#19 nov 2019 17 *...  "
      ]
     },
     "execution_count": 11,
     "metadata": {},
     "output_type": "execute_result"
    }
   ],
   "source": [
    "huawei_config = preprocessing.HuaweiPreprocessorConfig()\n",
    "huawei_config.aggregated_log_file = subset_path\n",
    "sequence_preprocessor = preprocessing.ConcurrentAggregatedLogsPreprocessor(huawei_config)\n",
    "sequence_column_name = sequence_preprocessor.sequence_column_name\n",
    "sequence_df = sequence_preprocessor.load_data()\n",
    "sequence_df"
   ]
  },
  {
   "cell_type": "code",
   "execution_count": 12,
   "metadata": {},
   "outputs": [
    {
     "data": {
      "text/plain": [
       "<src.features.sequences.transformer.SequenceMetadata at 0x7f8f9d0d3e80>"
      ]
     },
     "execution_count": 12,
     "metadata": {},
     "output_type": "execute_result"
    }
   ],
   "source": [
    "sequence_config = sequences.SequenceConfig()\n",
    "transformer = sequences.NextSequenceTransformer(sequence_config)\n",
    "metadata = transformer.collect_metadata(sequence_df=sequence_df, sequence_column_name='all_events')\n",
    "metadata"
   ]
  },
  {
   "cell_type": "code",
   "execution_count": 13,
   "metadata": {},
   "outputs": [
    {
     "name": "stderr",
     "output_type": "stream",
     "text": [
      "Generating DRAIN clusters from log_df: 100%|██████████| 50/50 [00:00<00:00, 1503.71it/s]\n",
      "Generating DRAIN clusters from log_df: 100%|██████████| 50/50 [00:00<00:00, 774.85it/s]\n",
      "Generating DRAIN clusters from log_df: 100%|██████████| 15/15 [00:00<00:00, 2530.35it/s]\n",
      "Generating counted causality for Huawei log data: 100%|██████████| 50/50 [00:00<00:00, 251.69it/s]\n",
      "Generating causality df from counted causality: 100%|██████████| 66/66 [00:00<00:00, 14266.34it/s]"
     ]
    },
    {
     "name": "stdout",
     "output_type": "stream",
     "text": [
      "(793, 4)\n"
     ]
    },
    {
     "name": "stderr",
     "output_type": "stream",
     "text": [
      "\n"
     ]
    },
    {
     "data": {
      "text/html": [
       "<div>\n",
       "<style scoped>\n",
       "    .dataframe tbody tr th:only-of-type {\n",
       "        vertical-align: middle;\n",
       "    }\n",
       "\n",
       "    .dataframe tbody tr th {\n",
       "        vertical-align: top;\n",
       "    }\n",
       "\n",
       "    .dataframe thead th {\n",
       "        text-align: right;\n",
       "    }\n",
       "</style>\n",
       "<table border=\"1\" class=\"dataframe\">\n",
       "  <thead>\n",
       "    <tr style=\"text-align: right;\">\n",
       "      <th></th>\n",
       "      <th>parent_id</th>\n",
       "      <th>parent_name</th>\n",
       "      <th>child_id</th>\n",
       "      <th>child_name</th>\n",
       "    </tr>\n",
       "  </thead>\n",
       "  <tbody>\n",
       "    <tr>\n",
       "      <th>0</th>\n",
       "      <td>fine_log_cluster_template#get v20 networks sha...</td>\n",
       "      <td>get v20 networks shared true http 11 status 20...</td>\n",
       "      <td>fine_log_cluster_template#get v20 ports fields...</td>\n",
       "      <td>get v20 ports fields binding 3ahost id fields ...</td>\n",
       "    </tr>\n",
       "    <tr>\n",
       "      <th>1</th>\n",
       "      <td>fine_log_cluster_template#get v20 networks sha...</td>\n",
       "      <td>get v20 networks shared true http 11 status 20...</td>\n",
       "      <td>coarse_log_cluster_template#get v20 ports fiel...</td>\n",
       "      <td>get v20 ports fields binding 3ahost id fields ...</td>\n",
       "    </tr>\n",
       "    <tr>\n",
       "      <th>2</th>\n",
       "      <td>fine_log_cluster_template#get v20 networks sha...</td>\n",
       "      <td>get v20 networks shared true http 11 status 20...</td>\n",
       "      <td>programname#neutron-server</td>\n",
       "      <td>neutron-server</td>\n",
       "    </tr>\n",
       "  </tbody>\n",
       "</table>\n",
       "</div>"
      ],
      "text/plain": [
       "                                           parent_id  \\\n",
       "0  fine_log_cluster_template#get v20 networks sha...   \n",
       "1  fine_log_cluster_template#get v20 networks sha...   \n",
       "2  fine_log_cluster_template#get v20 networks sha...   \n",
       "\n",
       "                                         parent_name  \\\n",
       "0  get v20 networks shared true http 11 status 20...   \n",
       "1  get v20 networks shared true http 11 status 20...   \n",
       "2  get v20 networks shared true http 11 status 20...   \n",
       "\n",
       "                                            child_id  \\\n",
       "0  fine_log_cluster_template#get v20 ports fields...   \n",
       "1  coarse_log_cluster_template#get v20 ports fiel...   \n",
       "2                         programname#neutron-server   \n",
       "\n",
       "                                          child_name  \n",
       "0  get v20 ports fields binding 3ahost id fields ...  \n",
       "1  get v20 ports fields binding 3ahost id fields ...  \n",
       "2                                     neutron-server  "
      ]
     },
     "execution_count": 13,
     "metadata": {},
     "output_type": "execute_result"
    }
   ],
   "source": [
    "causality_preprocessor = preprocessing.ConcurrentAggregatedLogsCausalityPreprocessor(\n",
    "    config=huawei_config,\n",
    ")\n",
    "causality_df = causality_preprocessor.load_data()\n",
    "print(causality_df.shape)\n",
    "causality_df.head(3)"
   ]
  },
  {
   "cell_type": "code",
   "execution_count": 14,
   "metadata": {},
   "outputs": [
    {
     "data": {
      "text/plain": [
       "67"
      ]
     },
     "execution_count": 14,
     "metadata": {},
     "output_type": "execute_result"
    }
   ],
   "source": [
    "knowledge_config = knowledge.KnowledgeConfig()\n",
    "knowledge_config.file_knowledge = data_path / \"file_knowledge.json\"\n",
    "causality_knowledge = knowledge.CausalityKnowledge(config=knowledge.KnowledgeConfig())\n",
    "extended_vocab = causality_knowledge._build_extended_vocab(causality_df, metadata.x_vocab)\n",
    "len(causality_knowledge.extended_vocab)"
   ]
  },
  {
   "cell_type": "code",
   "execution_count": 15,
   "metadata": {},
   "outputs": [
    {
     "name": "stdout",
     "output_type": "stream",
     "text": [
      "Node for idx 2 (label: fine_log_cluster_template#19 nov 2019 17 03 22 0100 post v3 users http 11 201 325 417241 pythonkeystoneclient, name: 19 nov 2019 17 03 22 0100 post v3 users http 11 201 325 417241 pythonkeystoneclient)\n",
      "<-Parent nodes: \n",
      "->Child nodes: \n"
     ]
    }
   ],
   "source": [
    "node = causality_knowledge.nodes[2]\n",
    "print(node)"
   ]
  }
 ],
 "metadata": {
  "kernelspec": {
   "display_name": "Python 3.8.13 (conda)",
   "language": "python",
   "name": "python3"
  },
  "language_info": {
   "codemirror_mode": {
    "name": "ipython",
    "version": 3
   },
   "file_extension": ".py",
   "mimetype": "text/x-python",
   "name": "python",
   "nbconvert_exporter": "python",
   "pygments_lexer": "ipython3",
   "version": "3.8.13"
  },
  "orig_nbformat": 4,
  "vscode": {
   "interpreter": {
    "hash": "700b36a561e53d43cf5db87a7727fe2d3979b618c6de3ce2a85366ffccf70fd9"
   }
  }
 },
 "nbformat": 4,
 "nbformat_minor": 2
}
