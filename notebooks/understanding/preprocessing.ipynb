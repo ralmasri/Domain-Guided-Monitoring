{
 "cells": [
  {
   "cell_type": "code",
   "execution_count": 8,
   "metadata": {},
   "outputs": [],
   "source": [
    "import sys \n",
    "import os\n",
    "module_path = os.path.abspath(os.path.join('../..'))\n",
    "if module_path not in sys.path:\n",
    "    sys.path.append(module_path)\n",
    "\n",
    "\n",
    "from pathlib import Path\n",
    "from src.features import preprocessing\n",
    "import pandas as pd\n",
    "import numpy as np"
   ]
  },
  {
   "cell_type": "code",
   "execution_count": 9,
   "metadata": {},
   "outputs": [
    {
     "data": {
      "text/plain": [
       "PosixPath('data/logs_aggregated_concurrent.csv')"
      ]
     },
     "execution_count": 9,
     "metadata": {},
     "output_type": "execute_result"
    }
   ],
   "source": [
    "huawei_config = preprocessing.HuaweiPreprocessorConfig()\n",
    "sequence_preprocessor = preprocessing.ConcurrentAggregatedLogsPreprocessor(huawei_config)\n",
    "huawei_config.aggregated_log_file"
   ]
  },
  {
   "cell_type": "code",
   "execution_count": 17,
   "metadata": {},
   "outputs": [
    {
     "name": "stdout",
     "output_type": "stream",
     "text": [
      "['@timestamp', 'Payload', 'http_url', 'Hostname', 'log_level', 'programname', 'python_module', 'http_status', 'http_method']\n"
     ]
    }
   ],
   "source": [
    "print([huawei_config.log_datetime_column_name, huawei_config.log_payload_column_name, huawei_config.url_column_name] + huawei_config.relevant_aggregated_log_columns)"
   ]
  },
  {
   "cell_type": "code",
   "execution_count": 21,
   "metadata": {},
   "outputs": [
    {
     "data": {
      "text/plain": [
       "Index(['@timestamp', 'Payload', 'http_url', 'Hostname', 'log_level',\n",
       "       'programname', 'python_module', 'http_status', 'http_method'],\n",
       "      dtype='object')"
      ]
     },
     "execution_count": 21,
     "metadata": {},
     "output_type": "execute_result"
    }
   ],
   "source": [
    "csv_path = Path('/home/ralmasri/projects/Thesis/Domain-Guided-Monitoring/data/logs_aggregated_concurrent.csv')\n",
    "data_df = pd.read_csv(csv_path).fillna(\"\").astype(str).replace(np.nan, \"\", regex=True).head(50)\n",
    "data_df = data_df[\n",
    "    [huawei_config.log_datetime_column_name, huawei_config.log_payload_column_name, huawei_config.url_column_name] \n",
    "    + huawei_config.relevant_aggregated_log_columns]\n",
    "data_df.columns"
   ]
  },
  {
   "cell_type": "code",
   "execution_count": 27,
   "metadata": {},
   "outputs": [
    {
     "data": {
      "text/plain": [
       "'130.149.249.127 \"GET /v2.0/networks?shared=True HTTP/1.1\" status: 200  len: 213 time: 0.0162041'"
      ]
     },
     "execution_count": 27,
     "metadata": {},
     "output_type": "execute_result"
    }
   ],
   "source": [
    "all_logs_df = pd.DataFrame(data_df[huawei_config.log_payload_column_name].dropna().drop_duplicates())\n",
    "all_logs_df['Payload'].iloc[0]"
   ]
  },
  {
   "cell_type": "code",
   "execution_count": 29,
   "metadata": {},
   "outputs": [
    {
     "name": "stderr",
     "output_type": "stream",
     "text": [
      "Generating DRAIN clusters from log_df: 100%|██████████| 50/50 [00:00<00:00, 1880.97it/s]\n"
     ]
    },
    {
     "data": {
      "text/plain": [
       "cluster_template    get v20 networks shared true http 11 status 20...\n",
       "cluster_path          13 get v20 networks shared true http * status *\n",
       "Name: 0, dtype: object"
      ]
     },
     "execution_count": 29,
     "metadata": {},
     "output_type": "execute_result"
    }
   ],
   "source": [
    "depth = huawei_config.fine_drain_log_depth\n",
    "st = huawei_config.fine_drain_log_st\n",
    "request_drain_regex: str = \"[^a-zA-Z0-9\\-\\.]\"\n",
    "drain = preprocessing.Drain(\n",
    "            preprocessing.DrainParameters(\n",
    "                depth=depth,\n",
    "                st=st,\n",
    "                rex=[\n",
    "                    (\"(/|)([0-9]+\\.){3}[0-9]+(:[0-9]+|)(:|)\", \"\"),\n",
    "                    (request_drain_regex, \" \"),\n",
    "                    (\"[^a-zA-Z\\d\\s:]\", \"\"),\n",
    "                ],\n",
    "            ),\n",
    "            data_df=all_logs_df,\n",
    "            data_df_column_name=huawei_config.log_payload_column_name,\n",
    "        )\n",
    "drain_result_df = drain.load_data().drop_duplicates().set_index(\"log_idx\")\n",
    "drain_result_df[['cluster_template', 'cluster_path']].iloc[0]\n"
   ]
  },
  {
   "cell_type": "code",
   "execution_count": 31,
   "metadata": {},
   "outputs": [
    {
     "data": {
      "text/html": [
       "<div>\n",
       "<style scoped>\n",
       "    .dataframe tbody tr th:only-of-type {\n",
       "        vertical-align: middle;\n",
       "    }\n",
       "\n",
       "    .dataframe tbody tr th {\n",
       "        vertical-align: top;\n",
       "    }\n",
       "\n",
       "    .dataframe thead th {\n",
       "        text-align: right;\n",
       "    }\n",
       "</style>\n",
       "<table border=\"1\" class=\"dataframe\">\n",
       "  <thead>\n",
       "    <tr style=\"text-align: right;\">\n",
       "      <th></th>\n",
       "      <th>@timestamp</th>\n",
       "      <th>Payload</th>\n",
       "      <th>http_url</th>\n",
       "      <th>Hostname</th>\n",
       "      <th>log_level</th>\n",
       "      <th>programname</th>\n",
       "      <th>python_module</th>\n",
       "      <th>http_status</th>\n",
       "      <th>http_method</th>\n",
       "      <th>fine_log_cluster_template</th>\n",
       "      <th>fine_log_cluster_path</th>\n",
       "    </tr>\n",
       "  </thead>\n",
       "  <tbody>\n",
       "    <tr>\n",
       "      <th>0</th>\n",
       "      <td>2019-11-19T17:00:48.274000000+01:00</td>\n",
       "      <td>130.149.249.127 \"GET /v2.0/networks?shared=Tru...</td>\n",
       "      <td></td>\n",
       "      <td>wally113</td>\n",
       "      <td>INFO</td>\n",
       "      <td>neutron-server</td>\n",
       "      <td>neutron.wsgi</td>\n",
       "      <td></td>\n",
       "      <td></td>\n",
       "      <td>get v20 networks shared true http 11 status 20...</td>\n",
       "      <td>13 get v20 networks shared true http * status *</td>\n",
       "    </tr>\n",
       "    <tr>\n",
       "      <th>1</th>\n",
       "      <td>2019-11-19T17:01:50.119000000+01:00</td>\n",
       "      <td>130.149.249.127 \"GET /v2.0/ports?fields=bindin...</td>\n",
       "      <td></td>\n",
       "      <td>wally113</td>\n",
       "      <td>INFO</td>\n",
       "      <td>neutron-server</td>\n",
       "      <td>neutron.wsgi</td>\n",
       "      <td></td>\n",
       "      <td></td>\n",
       "      <td>get v20 ports fields binding 3ahost id fields ...</td>\n",
       "      <td>22 get v20 ports fields binding * id fields bi...</td>\n",
       "    </tr>\n",
       "    <tr>\n",
       "      <th>2</th>\n",
       "      <td>2019-11-19T17:01:50.210000000+01:00</td>\n",
       "      <td>130.149.249.127 \"GET /v2.0/ports?tenant_id=99c...</td>\n",
       "      <td></td>\n",
       "      <td>wally113</td>\n",
       "      <td>INFO</td>\n",
       "      <td>neutron-server</td>\n",
       "      <td>neutron.wsgi</td>\n",
       "      <td></td>\n",
       "      <td></td>\n",
       "      <td>get v20 ports tenant id 99c2677b197747c9bd8bc0...</td>\n",
       "      <td>17 get v20 ports tenant id * device id *</td>\n",
       "    </tr>\n",
       "    <tr>\n",
       "      <th>3</th>\n",
       "      <td>2019-11-19T17:01:50.317000000+01:00</td>\n",
       "      <td>130.149.249.127 \"GET /v2.0/networks?shared=Tru...</td>\n",
       "      <td></td>\n",
       "      <td>wally113</td>\n",
       "      <td>INFO</td>\n",
       "      <td>neutron-server</td>\n",
       "      <td>neutron.wsgi</td>\n",
       "      <td></td>\n",
       "      <td></td>\n",
       "      <td>get v20 networks shared true http 11 status 20...</td>\n",
       "      <td>13 get v20 networks shared true http * status *</td>\n",
       "    </tr>\n",
       "    <tr>\n",
       "      <th>4</th>\n",
       "      <td>2019-11-19T17:02:52.398000000+01:00</td>\n",
       "      <td>130.149.249.127 \"GET /v2.0/networks?tenant_id=...</td>\n",
       "      <td></td>\n",
       "      <td>wally113</td>\n",
       "      <td>INFO</td>\n",
       "      <td>neutron-server</td>\n",
       "      <td>neutron.wsgi</td>\n",
       "      <td></td>\n",
       "      <td></td>\n",
       "      <td>get v20 networks tenant id 99c2677b197747c9bd8...</td>\n",
       "      <td>16 get v20 networks tenant id * shared false http</td>\n",
       "    </tr>\n",
       "  </tbody>\n",
       "</table>\n",
       "</div>"
      ],
      "text/plain": [
       "                            @timestamp  \\\n",
       "0  2019-11-19T17:00:48.274000000+01:00   \n",
       "1  2019-11-19T17:01:50.119000000+01:00   \n",
       "2  2019-11-19T17:01:50.210000000+01:00   \n",
       "3  2019-11-19T17:01:50.317000000+01:00   \n",
       "4  2019-11-19T17:02:52.398000000+01:00   \n",
       "\n",
       "                                             Payload http_url  Hostname  \\\n",
       "0  130.149.249.127 \"GET /v2.0/networks?shared=Tru...           wally113   \n",
       "1  130.149.249.127 \"GET /v2.0/ports?fields=bindin...           wally113   \n",
       "2  130.149.249.127 \"GET /v2.0/ports?tenant_id=99c...           wally113   \n",
       "3  130.149.249.127 \"GET /v2.0/networks?shared=Tru...           wally113   \n",
       "4  130.149.249.127 \"GET /v2.0/networks?tenant_id=...           wally113   \n",
       "\n",
       "  log_level     programname python_module http_status http_method  \\\n",
       "0      INFO  neutron-server  neutron.wsgi                           \n",
       "1      INFO  neutron-server  neutron.wsgi                           \n",
       "2      INFO  neutron-server  neutron.wsgi                           \n",
       "3      INFO  neutron-server  neutron.wsgi                           \n",
       "4      INFO  neutron-server  neutron.wsgi                           \n",
       "\n",
       "                           fine_log_cluster_template  \\\n",
       "0  get v20 networks shared true http 11 status 20...   \n",
       "1  get v20 ports fields binding 3ahost id fields ...   \n",
       "2  get v20 ports tenant id 99c2677b197747c9bd8bc0...   \n",
       "3  get v20 networks shared true http 11 status 20...   \n",
       "4  get v20 networks tenant id 99c2677b197747c9bd8...   \n",
       "\n",
       "                               fine_log_cluster_path  \n",
       "0    13 get v20 networks shared true http * status *  \n",
       "1  22 get v20 ports fields binding * id fields bi...  \n",
       "2           17 get v20 ports tenant id * device id *  \n",
       "3    13 get v20 networks shared true http * status *  \n",
       "4  16 get v20 networks tenant id * shared false http  "
      ]
     },
     "execution_count": 31,
     "metadata": {},
     "output_type": "execute_result"
    }
   ],
   "source": [
    "prefix = \"fine_\"\n",
    "log_result_df = (\n",
    "            pd.merge(\n",
    "                data_df,\n",
    "                pd.merge(\n",
    "                    all_logs_df,\n",
    "                    drain_result_df,\n",
    "                    left_index=True,\n",
    "                    right_index=True,\n",
    "                    how=\"left\",\n",
    "                )\n",
    "                .drop_duplicates()\n",
    "                .reset_index(drop=True),\n",
    "                on=huawei_config.log_payload_column_name,\n",
    "                how=\"left\",\n",
    "            )\n",
    "            .rename(\n",
    "                columns={\n",
    "                    \"cluster_template\": prefix + \"log_cluster_template\",\n",
    "                    \"cluster_path\": prefix + \"log_cluster_path\",\n",
    "                }\n",
    "            )\n",
    "            .drop(columns=[\"cluster_id\"])\n",
    "        )\n",
    "log_result_df[prefix + \"log_cluster_template\"] = (\n",
    "            log_result_df[prefix + \"log_cluster_template\"]\n",
    "            .fillna(\"\")\n",
    "            .astype(str)\n",
    "            .replace(np.nan, \"\", regex=True)\n",
    "        )\n",
    "log_result_df.head(5)"
   ]
  },
  {
   "cell_type": "code",
   "execution_count": null,
   "metadata": {},
   "outputs": [],
   "source": []
  }
 ],
 "metadata": {
  "interpreter": {
   "hash": "700b36a561e53d43cf5db87a7727fe2d3979b618c6de3ce2a85366ffccf70fd9"
  },
  "kernelspec": {
   "display_name": "Python 3.8.13 (conda)",
   "language": "python",
   "name": "python3"
  },
  "language_info": {
   "codemirror_mode": {
    "name": "ipython",
    "version": 3
   },
   "file_extension": ".py",
   "mimetype": "text/x-python",
   "name": "python",
   "nbconvert_exporter": "python",
   "pygments_lexer": "ipython3",
   "version": "3.8.13"
  },
  "orig_nbformat": 4
 },
 "nbformat": 4,
 "nbformat_minor": 2
}
