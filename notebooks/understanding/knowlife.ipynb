{
 "cells": [
  {
   "cell_type": "code",
   "execution_count": 1,
   "metadata": {},
   "outputs": [],
   "source": [
    "import pandas as pd"
   ]
  },
  {
   "cell_type": "code",
   "execution_count": 2,
   "metadata": {},
   "outputs": [
    {
     "data": {
      "text/html": [
       "<div>\n",
       "<style scoped>\n",
       "    .dataframe tbody tr th:only-of-type {\n",
       "        vertical-align: middle;\n",
       "    }\n",
       "\n",
       "    .dataframe tbody tr th {\n",
       "        vertical-align: top;\n",
       "    }\n",
       "\n",
       "    .dataframe thead th {\n",
       "        text-align: right;\n",
       "    }\n",
       "</style>\n",
       "<table border=\"1\" class=\"dataframe\">\n",
       "  <thead>\n",
       "    <tr style=\"text-align: right;\">\n",
       "      <th></th>\n",
       "      <th>leftfactentity</th>\n",
       "      <th>relation</th>\n",
       "      <th>rightfactentity</th>\n",
       "      <th>leftpatternentity</th>\n",
       "      <th>leftpatternphrase</th>\n",
       "      <th>pattern</th>\n",
       "      <th>rightpatternentity</th>\n",
       "      <th>rightpatternphrase</th>\n",
       "      <th>sentences</th>\n",
       "      <th>source</th>\n",
       "    </tr>\n",
       "  </thead>\n",
       "  <tbody>\n",
       "    <tr>\n",
       "      <th>0</th>\n",
       "      <td>C0000098</td>\n",
       "      <td>createsRiskFor</td>\n",
       "      <td>C0332472</td>\n",
       "      <td>C0000098</td>\n",
       "      <td>MPP</td>\n",
       "      <td>induced</td>\n",
       "      <td>C0332472</td>\n",
       "      <td>fragmentation</td>\n",
       "      <td>{\"We further validated our findings in primary...</td>\n",
       "      <td>pub_med_medline</td>\n",
       "    </tr>\n",
       "    <tr>\n",
       "      <th>1</th>\n",
       "      <td>C0000194</td>\n",
       "      <td>alleviates</td>\n",
       "      <td>C0007785</td>\n",
       "      <td>C0000194</td>\n",
       "      <td>2 2 dipyridyl</td>\n",
       "      <td>reduce</td>\n",
       "      <td>C0007785</td>\n",
       "      <td>cerebral ischemia</td>\n",
       "      <td>{\"Previous studies have indicated that 2,2 ' -...</td>\n",
       "      <td>pub_med_medline</td>\n",
       "    </tr>\n",
       "    <tr>\n",
       "      <th>2</th>\n",
       "      <td>C0000194</td>\n",
       "      <td>alleviates</td>\n",
       "      <td>C0038525</td>\n",
       "      <td>C0000194</td>\n",
       "      <td>2 2 dipyridyl</td>\n",
       "      <td>reduce</td>\n",
       "      <td>C0038525</td>\n",
       "      <td>subarachnoid hemorrhage</td>\n",
       "      <td>{\"Previous studies have indicated that 2,2 ' -...</td>\n",
       "      <td>pub_med_medline</td>\n",
       "    </tr>\n",
       "    <tr>\n",
       "      <th>3</th>\n",
       "      <td>C0000194</td>\n",
       "      <td>alleviates</td>\n",
       "      <td>C0265110</td>\n",
       "      <td>C0000194</td>\n",
       "      <td>2 2 dipyridyl</td>\n",
       "      <td>reduce</td>\n",
       "      <td>C0265110</td>\n",
       "      <td>cerebral vasospasm</td>\n",
       "      <td>{\"Previous studies have indicated that 2,2 ' -...</td>\n",
       "      <td>pub_med_medline</td>\n",
       "    </tr>\n",
       "    <tr>\n",
       "      <th>4</th>\n",
       "      <td>C0000266</td>\n",
       "      <td>alleviates</td>\n",
       "      <td>C0030567</td>\n",
       "      <td>C0000266</td>\n",
       "      <td>Parlodel</td>\n",
       "      <td>treat symptoms</td>\n",
       "      <td>C0030567</td>\n",
       "      <td>Parkinson s disease</td>\n",
       "      <td>{\"Parlodel is also used to treat symptoms of P...</td>\n",
       "      <td>DrugsDotCom</td>\n",
       "    </tr>\n",
       "  </tbody>\n",
       "</table>\n",
       "</div>"
      ],
      "text/plain": [
       "  leftfactentity        relation rightfactentity leftpatternentity  \\\n",
       "0       C0000098  createsRiskFor        C0332472          C0000098   \n",
       "1       C0000194      alleviates        C0007785          C0000194   \n",
       "2       C0000194      alleviates        C0038525          C0000194   \n",
       "3       C0000194      alleviates        C0265110          C0000194   \n",
       "4       C0000266      alleviates        C0030567          C0000266   \n",
       "\n",
       "  leftpatternphrase         pattern rightpatternentity  \\\n",
       "0               MPP         induced           C0332472   \n",
       "1     2 2 dipyridyl          reduce           C0007785   \n",
       "2     2 2 dipyridyl          reduce           C0038525   \n",
       "3     2 2 dipyridyl          reduce           C0265110   \n",
       "4          Parlodel  treat symptoms           C0030567   \n",
       "\n",
       "        rightpatternphrase                                          sentences  \\\n",
       "0            fragmentation  {\"We further validated our findings in primary...   \n",
       "1        cerebral ischemia  {\"Previous studies have indicated that 2,2 ' -...   \n",
       "2  subarachnoid hemorrhage  {\"Previous studies have indicated that 2,2 ' -...   \n",
       "3       cerebral vasospasm  {\"Previous studies have indicated that 2,2 ' -...   \n",
       "4      Parkinson s disease  {\"Parlodel is also used to treat symptoms of P...   \n",
       "\n",
       "            source  \n",
       "0  pub_med_medline  \n",
       "1  pub_med_medline  \n",
       "2  pub_med_medline  \n",
       "3  pub_med_medline  \n",
       "4      DrugsDotCom  "
      ]
     },
     "execution_count": 2,
     "metadata": {},
     "output_type": "execute_result"
    }
   ],
   "source": [
    "df = pd.read_csv('/home/ralmasri/projects/Thesis/Domain-Guided-Monitoring/data/knowlife_dump.tsv', sep='\\t', header=0)\n",
    "df.head()"
   ]
  },
  {
   "cell_type": "code",
   "execution_count": 4,
   "metadata": {},
   "outputs": [
    {
     "data": {
      "text/plain": [
       "'{\"We further validated our findings in primary rat midbrain dopaminergic neurons that 0.5 m MPP -LRB- + -RRB- induced mitochondrial fragmentation only in tyrosine hydroxylase -LRB- TH -RRB- - positive dopaminergic neurons in a similar pattern to that in SH-SY5Y cells but had no effects on these mitochondrial parameters in TH-negative neurons .\"}'"
      ]
     },
     "execution_count": 4,
     "metadata": {},
     "output_type": "execute_result"
    }
   ],
   "source": [
    "df['sentences'][0]"
   ]
  },
  {
   "cell_type": "code",
   "execution_count": null,
   "metadata": {},
   "outputs": [],
   "source": []
  }
 ],
 "metadata": {
  "kernelspec": {
   "display_name": "Python 3.8.13 64-bit ('miniconda3')",
   "language": "python",
   "name": "python3"
  },
  "language_info": {
   "codemirror_mode": {
    "name": "ipython",
    "version": 3
   },
   "file_extension": ".py",
   "mimetype": "text/x-python",
   "name": "python",
   "nbconvert_exporter": "python",
   "pygments_lexer": "ipython3",
   "version": "3.8.13"
  },
  "orig_nbformat": 4,
  "vscode": {
   "interpreter": {
    "hash": "46a3606ad50f253451469dd300eca0a6f34c2245337430b3b8f5104bce2d8ed7"
   }
  }
 },
 "nbformat": 4,
 "nbformat_minor": 2
}
