{
 "cells": [
  {
   "cell_type": "code",
   "execution_count": null,
   "metadata": {},
   "outputs": [],
   "source": [
    "import sys \n",
    "import os\n",
    "module_path = os.path.abspath(os.path.join('../'))\n",
    "if module_path not in sys.path:\n",
    "    sys.path.append(module_path)\n",
    "import pandas as pd\n",
    "import seaborn as sns\n",
    "from utils.mlflow_query import MlflowHelper\n",
    "import numpy as np\n",
    "from pathlib import Path\n",
    "from src.features import knowledge\n",
    "import json\n",
    "from matplotlib import pyplot as plt"
   ]
  },
  {
   "cell_type": "code",
   "execution_count": null,
   "metadata": {},
   "outputs": [],
   "source": [
    "mlflow_helper = MlflowHelper(pkl_file=None, \n",
    "    local_mlflow_dir_prefix='/home/i40/almasrirz/Domain-Guided-Monitoring/mlruns/', \n",
    "    experiment_id=\"188500769110107699\",\n",
    "    tracking_uri=\"http://localhost:5200\")\n",
    "mlflow_helper.query_runs()"
   ]
  },
  {
   "attachments": {},
   "cell_type": "markdown",
   "metadata": {},
   "source": [
    "# Convinience Functions"
   ]
  },
  {
   "cell_type": "code",
   "execution_count": null,
   "metadata": {},
   "outputs": [],
   "source": [
    "def plot_best_metric_bar(metric_df, metric_names,\n",
    "    x_feature_name='data_tags_model_type', \n",
    "    x_order=['simple', 'causal_heuristic', 'causal_score'],\n",
    "    save_fig = False,\n",
    "    row_feature_name=None,\n",
    "    hue_feature_name=None,\n",
    "    col_feature_name=None,\n",
    "    titles=None,\n",
    "    palette=None,\n",
    "    dodge=True,\n",
    "    col_order=None,\n",
    "    height=5,\n",
    "    aspect=1 # width = height * aspect\n",
    "):\n",
    "    for metric_name in metric_names:\n",
    "        g = sns.catplot(\n",
    "            data=metric_df, x=x_feature_name, y=metric_name, order=x_order,\n",
    "            row=row_feature_name, hue=hue_feature_name, col=col_feature_name, col_order=col_order,\n",
    "            kind=\"box\", sharey='row', palette=palette, dodge=dodge, height=height, aspect=aspect\n",
    "        )\n",
    "        g.set_titles(titles).set_axis_labels('', metric_name)\n",
    "        for ax in g.axes.flatten():\n",
    "            ax.tick_params(labelbottom=True)\n",
    "        if save_fig:\n",
    "            g.savefig(\"bar_{}.png\".format(metric_name))"
   ]
  },
  {
   "cell_type": "code",
   "execution_count": null,
   "metadata": {},
   "outputs": [],
   "source": [
    "def count_attributes(df: pd.DataFrame, attr='data_tags_model_type'):\n",
    "    return df.groupby([attr])[attr].count().sort_values(ascending=False)"
   ]
  },
  {
   "cell_type": "code",
   "execution_count": null,
   "metadata": {},
   "outputs": [],
   "source": [
    "def read_knowledge_dataframes(knowledge_type, dataset='huawei', size='2k'):\n",
    "    knowledge_path = Path(f'/home/i40/almasrirz/Domain-Guided-Monitoring/data/final/{size}/{dataset}/knowledge')\n",
    "    pathlist = knowledge_path.glob('**/*.csv')\n",
    "    dataframes = {}\n",
    "    for path in pathlist:\n",
    "        knowledge_name = path.name.split('_knowledge')[0]\n",
    "        dataframes[knowledge_name] = pd.read_csv(path)\n",
    "    return dataframes"
   ]
  },
  {
   "cell_type": "code",
   "execution_count": null,
   "metadata": {},
   "outputs": [],
   "source": [
    "def fetch_statistics(knowledge_type, drain_settings, ts=None, dataset='huawei', size='2k'):\n",
    "    statistics_records = []\n",
    "    dataframes = read_knowledge_dataframes(knowledge_type, dataset=dataset, size=size)\n",
    "    for name, df in dataframes.items():\n",
    "        k = None\n",
    "        metadata = f'/home/i40/almasrirz/Domain-Guided-Monitoring/data/final/{size}/{dataset}/x_vocab'\n",
    "        for x in drain_settings:\n",
    "            if x in name:\n",
    "                metadata += f'_{x}'\n",
    "                break\n",
    "        if 'with_ts' in name:\n",
    "            metadata += '_with_ts'\n",
    "        if 'without_ts' in name:\n",
    "            metadata += '_without_ts'\n",
    "           \n",
    "        with open(metadata + '.json', 'r') as file:\n",
    "            metadata = json.load(file)\n",
    "\n",
    "        if name.startswith('causal'):\n",
    "            k = knowledge.CausalityKnowledge(knowledge.KnowledgeConfig())\n",
    "            k.build_causality_from_df(df, metadata)\n",
    "        elif name.startswith('hierarchy'):\n",
    "            k = knowledge.HierarchyKnowledge(knowledge.KnowledgeConfig())\n",
    "            k.build_hierarchy_from_df(df, metadata)\n",
    "        else:\n",
    "            k = knowledge.DescriptionKnowledge(knowledge.KnowledgeConfig())\n",
    "            k.build_knowledge_from_df(df, metadata)\n",
    "        v_in = len(k.vocab)\n",
    "        v_g = len(k.extended_vocab)\n",
    "        v_hidden = v_g - v_in\n",
    "        edges = set()\n",
    "        for i in range(len(k.vocab)):\n",
    "            connections = k.get_connections_for_idx(i)\n",
    "            for connection in connections:\n",
    "                edges.add((i, connection))\n",
    "        statistics_records.append({\n",
    "            'Model': name,\n",
    "            'V_G': v_g,\n",
    "            'V_in': v_in,\n",
    "            'V_hidden': v_hidden,\n",
    "            'E_G': len(edges)\n",
    "        })\n",
    "\n",
    "    return pd.DataFrame.from_records(statistics_records)"
   ]
  },
  {
   "cell_type": "code",
   "execution_count": null,
   "metadata": {},
   "outputs": [],
   "source": [
    "name2config = { # Name -> (depth, st)\n",
    "    'Most fine': ('11', '0.8'),\n",
    "    'Fine': ('10', '0.75'), # default\n",
    "    'Medium': ('8', '0.7'),\n",
    "    'Coarse': ('6', '0.6'),\n",
    "    'Most coarse': ('4', '0.4')\n",
    "}\n",
    "config2name = {v: k for k, v in name2config.items()}\n",
    "depth_values = sorted([x[0] for x in name2config.values()])\n",
    "st_values = sorted([x[1] for x in name2config.values()])\n",
    "config_order = ['Most coarse', 'Coarse', 'Medium', 'Fine', 'Most fine']"
   ]
  },
  {
   "cell_type": "code",
   "execution_count": null,
   "metadata": {},
   "outputs": [],
   "source": [
    "def classify_sp_df(df, drain_configs, dataset='Huawei'):\n",
    "    st_column = f\"data_params_{dataset}PreprocessorConfigfine_drain_log_st\"\n",
    "    depth_column = f\"data_params_{dataset}PreprocessorConfigfine_drain_log_depth\"\n",
    "    ret_df = df.copy()\n",
    "    for depth, st in drain_configs.values():\n",
    "        ret_df.loc[(ret_df[depth_column] == depth) & (ret_df[st_column] == st), 'data_tags_model_type'] = (\n",
    "            ret_df.loc[(ret_df[depth_column] == depth) & (ret_df[st_column] == st), 'data_tags_model_type']\n",
    "            .apply(lambda x: x + f'_{depth}_{st}'))\n",
    "    return ret_df"
   ]
  },
  {
   "cell_type": "code",
   "execution_count": null,
   "metadata": {},
   "outputs": [],
   "source": [
    "def algorithm_type_transform(algo):\n",
    "    if algo.startswith('simple'):\n",
    "        return 'No Domain Knowledge'\n",
    "    elif algo.startswith('causal'):\n",
    "        return 'Causal'"
   ]
  },
  {
   "cell_type": "code",
   "execution_count": null,
   "metadata": {},
   "outputs": [],
   "source": [
    "plot_dir = Path('/home/i40/almasrirz/Domain-Guided-Monitoring/data/plots')\n",
    "save_plots = False\n",
    "sns.set(style=\"white\", font_scale=1.5)"
   ]
  },
  {
   "attachments": {},
   "cell_type": "markdown",
   "metadata": {},
   "source": [
    "# Drain Settings (Number of Templates) Effect"
   ]
  },
  {
   "attachments": {},
   "cell_type": "markdown",
   "metadata": {},
   "source": [
    "## 2k"
   ]
  },
  {
   "attachments": {},
   "cell_type": "markdown",
   "metadata": {},
   "source": [
    "### Huawei"
   ]
  },
  {
   "cell_type": "code",
   "execution_count": null,
   "metadata": {},
   "outputs": [],
   "source": [
    "huawei_df = mlflow_helper.run_df[\n",
    "    (mlflow_helper.run_df['data_tags_sequence_type'] == 'huawei_logs')\n",
    "    & (mlflow_helper.run_df['data_tags_model_type'].isin(['simple', 'causal_Fast-IAMB-jt']))\n",
    "    & (mlflow_helper.run_df['data_params_HuaweiPreprocessorConfigaggregated_log_file'] == 'data/final/2k/huawei/Huawei_2k.csv')\n",
    "    & (mlflow_helper.run_df[\"info_status\"] == \"FINISHED\")\n",
    "    & (mlflow_helper.run_df[\"data_params_HuaweiPreprocessorConfigfine_drain_log_depth\"].astype(str).fillna(\"\").isin(depth_values))\n",
    "    & (mlflow_helper.run_df[\"data_params_HuaweiPreprocessorConfigfine_drain_log_st\"].astype(str).fillna(\"\").isin(st_values))\n",
    "    & (mlflow_helper.run_df['data_params_ExperimentConfigonly_generate_knowledge'] == 'False')\n",
    "]\n",
    "huawei_df = mlflow_helper.load_best_metrics_for_ids(set(huawei_df[\"info_run_id\"]))\n",
    "huawei_df = classify_sp_df(huawei_df, name2config, dataset='Huawei')\n",
    "huawei_with_ts_df = huawei_df[huawei_df['data_params_HuaweiPreprocessorConfigremove_dates_from_payload'] == 'False']\n",
    "huawei_without_ts_df = huawei_df[huawei_df['data_params_HuaweiPreprocessorConfigremove_dates_from_payload'] == 'True']"
   ]
  },
  {
   "cell_type": "code",
   "execution_count": null,
   "metadata": {},
   "outputs": [],
   "source": [
    "count_attributes(huawei_with_ts_df)"
   ]
  },
  {
   "cell_type": "code",
   "execution_count": null,
   "metadata": {},
   "outputs": [],
   "source": [
    "count_attributes(huawei_without_ts_df)"
   ]
  },
  {
   "attachments": {},
   "cell_type": "markdown",
   "metadata": {},
   "source": [
    "#### With timestamps"
   ]
  },
  {
   "cell_type": "code",
   "execution_count": null,
   "metadata": {},
   "outputs": [],
   "source": [
    "huawei_plot_ts_df = huawei_with_ts_df.copy()\n",
    "huawei_plot_ts_df['algorithm_type'] = huawei_plot_ts_df['data_tags_model_type'].apply(lambda x: x.split('_')[0])\n",
    "huawei_plot_ts_df['Granularity'] = (\n",
    "    huawei_plot_ts_df\n",
    "    .apply(lambda x: config2name[(x['data_params_HuaweiPreprocessorConfigfine_drain_log_depth'], x['data_params_HuaweiPreprocessorConfigfine_drain_log_st'])],\n",
    "           axis=1))"
   ]
  },
  {
   "cell_type": "code",
   "execution_count": null,
   "metadata": {},
   "outputs": [],
   "source": [
    "colors = {'causal': 'C0', 'simple': 'C1'}\n",
    "hue_order = ['causal', 'simple']"
   ]
  },
  {
   "cell_type": "code",
   "execution_count": null,
   "metadata": {},
   "outputs": [],
   "source": [
    "plt.figure(figsize=(15,8))\n",
    "g = sns.boxplot(data=huawei_plot_ts_df,\n",
    "                x='Granularity',\n",
    "                y='val_top_5_categorical_accuracy_history_best',\n",
    "                hue='algorithm_type',\n",
    "                order=config_order,\n",
    "                palette=colors,\n",
    "                hue_order=hue_order,)\n",
    "g.set_xlabel('Granularity of Log Templates')\n",
    "g.set_ylabel('Top 5 Categorical Accuracy')\n",
    "g.legend(title='Domain Knowledge Type')\n",
    "g.set_title('Effect of Granularity of Log Templates on Usefulness - Huawei with Timestamps (2k)')\n",
    "sns.move_legend(g, 'upper left', bbox_to_anchor=(1, 1))\n",
    "if save_plots:\n",
    "    g.figure.savefig(plot_dir / \"huawei_with_ts_2k_drain.png\")\n",
    "g"
   ]
  },
  {
   "cell_type": "code",
   "execution_count": null,
   "metadata": {},
   "outputs": [],
   "source": [
    "plt.figure(figsize=(15,8))\n",
    "g = sns.lineplot(data=huawei_plot_ts_df,\n",
    "                x='Granularity',\n",
    "                y='val_top_5_categorical_accuracy_history_best',\n",
    "                hue='algorithm_type',\n",
    "                palette=colors,\n",
    "                errorbar=None,\n",
    "                err_style='bars',\n",
    "                hue_order=hue_order,)\n",
    "g.set_xlabel('Granularity of Log Templates')\n",
    "g.set_ylabel('Top 5 Categorical Accuracy')\n",
    "g.legend(title='Domain Knowledge Type')\n",
    "g.set_title('Effect of Granularity of Log Templates on Usefulness - Huawei with Timestamps (2k)')\n",
    "sns.move_legend(g, 'upper left', bbox_to_anchor=(1, 1))\n",
    "g"
   ]
  },
  {
   "attachments": {},
   "cell_type": "markdown",
   "metadata": {},
   "source": [
    "#### Without timestamps"
   ]
  },
  {
   "cell_type": "code",
   "execution_count": null,
   "metadata": {},
   "outputs": [],
   "source": [
    "huawei_plot_without_ts_df = huawei_without_ts_df.copy()\n",
    "huawei_plot_without_ts_df['algorithm_type'] = huawei_plot_without_ts_df['data_tags_model_type'].apply(lambda x: x.split('_')[0])\n",
    "huawei_plot_without_ts_df['Granularity'] = (\n",
    "    huawei_plot_without_ts_df\n",
    "    .apply(lambda x: config2name[(x['data_params_HuaweiPreprocessorConfigfine_drain_log_depth'], x['data_params_HuaweiPreprocessorConfigfine_drain_log_st'])],\n",
    "           axis=1))"
   ]
  },
  {
   "cell_type": "code",
   "execution_count": null,
   "metadata": {},
   "outputs": [],
   "source": [
    "colors = {'causal': 'C0', 'simple': 'C1'}\n",
    "hue_order = ['causal', 'simple']"
   ]
  },
  {
   "cell_type": "code",
   "execution_count": null,
   "metadata": {},
   "outputs": [],
   "source": [
    "plt.figure(figsize=(15,8))\n",
    "g = sns.boxplot(data=huawei_plot_without_ts_df,\n",
    "                x='Granularity',\n",
    "                y='val_top_5_categorical_accuracy_history_best',\n",
    "                hue='algorithm_type',\n",
    "                order=config_order,\n",
    "                palette=colors,\n",
    "                hue_order=hue_order,)\n",
    "g.set_xlabel('Granularity of Log Templates')\n",
    "g.set_ylabel('Top 5 Categorical Accuracy')\n",
    "g.legend(title='Domain Knowledge Type')\n",
    "g.set_title('Effect of Granularity of Log Templates on Usefulness - Huawei without Timestamps (2k)')\n",
    "sns.move_legend(g, 'upper left', bbox_to_anchor=(1, 1))\n",
    "if save_plots:\n",
    "    g.figure.savefig(plot_dir / \"huawei_without_ts_2k_drain.png\")\n",
    "g"
   ]
  },
  {
   "attachments": {},
   "cell_type": "markdown",
   "metadata": {},
   "source": [
    "### HDFS"
   ]
  },
  {
   "cell_type": "code",
   "execution_count": null,
   "metadata": {},
   "outputs": [],
   "source": [
    "hdfs_df = mlflow_helper.run_df[\n",
    "    (mlflow_helper.run_df['data_tags_sequence_type'] == 'hdfs_logs')\n",
    "    & (mlflow_helper.run_df['data_tags_model_type'].isin(['simple', 'causal_Fast-IAMB-jt']))\n",
    "    & (mlflow_helper.run_df['data_params_HDFSPreprocessorConfigaggregated_log_file'] == 'data/final/2k/hdfs/HDFS_2k.csv')\n",
    "    & (mlflow_helper.run_df[\"info_status\"] == \"FINISHED\")\n",
    "    & (mlflow_helper.run_df[\"data_params_HDFSPreprocessorConfigfine_drain_log_depth\"].astype(str).fillna(\"\").isin(depth_values))\n",
    "    & (mlflow_helper.run_df[\"data_params_HDFSPreprocessorConfigfine_drain_log_st\"].astype(str).fillna(\"\").isin(st_values))\n",
    "    & (mlflow_helper.run_df['data_params_ExperimentConfigonly_generate_knowledge'] == 'False')\n",
    "]\n",
    "hdfs_df = mlflow_helper.load_best_metrics_for_ids(set(hdfs_df[\"info_run_id\"]))\n",
    "hdfs_df = classify_sp_df(hdfs_df, name2config, dataset='HDFS')"
   ]
  },
  {
   "cell_type": "code",
   "execution_count": null,
   "metadata": {},
   "outputs": [],
   "source": [
    "count_attributes(hdfs_df)"
   ]
  },
  {
   "cell_type": "code",
   "execution_count": null,
   "metadata": {},
   "outputs": [],
   "source": [
    "hdfs_plot_df = hdfs_df.copy()\n",
    "hdfs_plot_df['algorithm_type'] = hdfs_plot_df['data_tags_model_type'].apply(lambda x: x.split('_')[0])\n",
    "hdfs_plot_df['Granularity'] = (\n",
    "    hdfs_plot_df\n",
    "    .apply(lambda x: config2name[(x['data_params_HDFSPreprocessorConfigfine_drain_log_depth'], x['data_params_HDFSPreprocessorConfigfine_drain_log_st'])],\n",
    "           axis=1))"
   ]
  },
  {
   "cell_type": "code",
   "execution_count": null,
   "metadata": {},
   "outputs": [],
   "source": [
    "colors = {'causal': 'C0', 'simple': 'C1'}\n",
    "hue_order = ['causal', 'simple']"
   ]
  },
  {
   "cell_type": "code",
   "execution_count": null,
   "metadata": {},
   "outputs": [],
   "source": [
    "plt.figure(figsize=(15,8))\n",
    "g = sns.boxplot(data=hdfs_plot_df,\n",
    "                x='Granularity',\n",
    "                y='val_top_5_categorical_accuracy_history_best',\n",
    "                hue='algorithm_type',\n",
    "                order=config_order,\n",
    "                palette=colors,\n",
    "                hue_order=hue_order,)\n",
    "g.set_xlabel('Granularity of Log Templates')\n",
    "g.set_ylabel('Top 5 Categorical Accuracy')\n",
    "g.legend(title='Domain Knowledge Type')\n",
    "g.set_title('Effect of Granularity of Log Templates on Usefulness - HDFS (2k)')\n",
    "sns.move_legend(g, 'upper left', bbox_to_anchor=(1, 1))\n",
    "if save_plots:\n",
    "    g.figure.savefig(plot_dir / \"hdfs_2k_drain.png\")\n",
    "g"
   ]
  },
  {
   "attachments": {},
   "cell_type": "markdown",
   "metadata": {},
   "source": [
    "## 5k"
   ]
  },
  {
   "cell_type": "markdown",
   "metadata": {},
   "source": [
    "### Huawei"
   ]
  },
  {
   "cell_type": "code",
   "execution_count": null,
   "metadata": {},
   "outputs": [],
   "source": [
    "huawei_df = mlflow_helper.run_df[\n",
    "    (mlflow_helper.run_df['data_tags_sequence_type'] == 'huawei_logs')\n",
    "    & (mlflow_helper.run_df['data_tags_model_type'].isin(['simple', 'causal_Fast-IAMB-jt']))\n",
    "    & (mlflow_helper.run_df['data_params_HuaweiPreprocessorConfigaggregated_log_file'] == 'data/final/5k/huawei/Huawei_5k.csv')\n",
    "    & (mlflow_helper.run_df[\"info_status\"] == \"FINISHED\")\n",
    "    & (mlflow_helper.run_df[\"data_params_HuaweiPreprocessorConfigfine_drain_log_depth\"].astype(str).fillna(\"\").isin(depth_values))\n",
    "    & (mlflow_helper.run_df[\"data_params_HuaweiPreprocessorConfigfine_drain_log_st\"].astype(str).fillna(\"\").isin(st_values))\n",
    "    & (mlflow_helper.run_df['data_params_ExperimentConfigonly_generate_knowledge'] == 'False')\n",
    "]\n",
    "huawei_df = mlflow_helper.load_best_metrics_for_ids(set(huawei_df[\"info_run_id\"]))\n",
    "huawei_df = classify_sp_df(huawei_df, name2config, dataset='Huawei')\n",
    "huawei_with_ts_df = huawei_df[huawei_df['data_params_HuaweiPreprocessorConfigremove_dates_from_payload'] == 'False']\n",
    "huawei_without_ts_df = huawei_df[huawei_df['data_params_HuaweiPreprocessorConfigremove_dates_from_payload'] == 'True']"
   ]
  },
  {
   "cell_type": "code",
   "execution_count": null,
   "metadata": {},
   "outputs": [],
   "source": [
    "count_attributes(huawei_with_ts_df)"
   ]
  },
  {
   "cell_type": "code",
   "execution_count": null,
   "metadata": {},
   "outputs": [],
   "source": [
    "count_attributes(huawei_without_ts_df)"
   ]
  },
  {
   "cell_type": "markdown",
   "metadata": {},
   "source": [
    "#### With timestamps"
   ]
  },
  {
   "cell_type": "code",
   "execution_count": null,
   "metadata": {},
   "outputs": [],
   "source": [
    "huawei_plot_ts_df = huawei_with_ts_df.copy()\n",
    "huawei_plot_ts_df['algorithm_type'] = huawei_plot_ts_df['data_tags_model_type'].apply(lambda x: x.split('_')[0])\n",
    "huawei_plot_ts_df['Granularity'] = (\n",
    "    huawei_plot_ts_df\n",
    "    .apply(lambda x: config2name[(x['data_params_HuaweiPreprocessorConfigfine_drain_log_depth'], x['data_params_HuaweiPreprocessorConfigfine_drain_log_st'])],\n",
    "           axis=1))"
   ]
  },
  {
   "cell_type": "code",
   "execution_count": null,
   "metadata": {},
   "outputs": [],
   "source": [
    "colors = {'causal': 'C0', 'simple': 'C1'}\n",
    "hue_order = ['causal', 'simple']"
   ]
  },
  {
   "cell_type": "code",
   "execution_count": null,
   "metadata": {},
   "outputs": [],
   "source": [
    "plt.figure(figsize=(15,8))\n",
    "g = sns.boxplot(data=huawei_plot_ts_df,\n",
    "                x='Granularity',\n",
    "                y='val_top_5_categorical_accuracy_history_best',\n",
    "                hue='algorithm_type',\n",
    "                order=config_order,\n",
    "                palette=colors,\n",
    "                hue_order=hue_order,)\n",
    "g.set_xlabel('Granularity of Log Templates')\n",
    "g.set_ylabel('Top 5 Categorical Accuracy')\n",
    "g.legend(title='Domain Knowledge Type')\n",
    "g.set_title('Effect of Granularity of Log Templates on Usefulness - Huawei with Timestamps (5k)')\n",
    "sns.move_legend(g, 'upper left', bbox_to_anchor=(1, 1))\n",
    "if save_plots:\n",
    "    g.figure.savefig(plot_dir / \"huawei_with_ts_5k_drain.png\")\n",
    "g"
   ]
  },
  {
   "cell_type": "markdown",
   "metadata": {},
   "source": [
    "#### Without timestamps"
   ]
  },
  {
   "cell_type": "code",
   "execution_count": null,
   "metadata": {},
   "outputs": [],
   "source": [
    "huawei_plot_without_ts_df = huawei_without_ts_df.copy()\n",
    "huawei_plot_without_ts_df['algorithm_type'] = huawei_plot_without_ts_df['data_tags_model_type'].apply(lambda x: x.split('_')[0])\n",
    "huawei_plot_without_ts_df['Granularity'] = (\n",
    "    huawei_plot_without_ts_df\n",
    "    .apply(lambda x: config2name[(x['data_params_HuaweiPreprocessorConfigfine_drain_log_depth'], x['data_params_HuaweiPreprocessorConfigfine_drain_log_st'])],\n",
    "           axis=1))"
   ]
  },
  {
   "cell_type": "code",
   "execution_count": null,
   "metadata": {},
   "outputs": [],
   "source": [
    "colors = {'causal': 'C0', 'simple': 'C1'}\n",
    "hue_order = ['causal', 'simple']"
   ]
  },
  {
   "cell_type": "code",
   "execution_count": null,
   "metadata": {},
   "outputs": [],
   "source": [
    "plt.figure(figsize=(15,8))\n",
    "g = sns.boxplot(data=huawei_plot_without_ts_df,\n",
    "                x='Granularity',\n",
    "                y='val_top_5_categorical_accuracy_history_best',\n",
    "                hue='algorithm_type',\n",
    "                order=config_order,\n",
    "                palette=colors,\n",
    "                hue_order=hue_order,)\n",
    "g.set_xlabel('Granularity of Log Templates')\n",
    "g.set_ylabel('Top 5 Categorical Accuracy')\n",
    "g.legend(title='Domain Knowledge Type')\n",
    "g.set_title('Effect of Granularity of Log Templates on Usefulness - Huawei without Timestamps (5k)')\n",
    "sns.move_legend(g, 'upper left', bbox_to_anchor=(1, 1))\n",
    "if save_plots:\n",
    "    g.figure.savefig(plot_dir / \"huawei_without_ts_5k_drain.png\")\n",
    "g"
   ]
  },
  {
   "cell_type": "markdown",
   "metadata": {},
   "source": [
    "### HDFS"
   ]
  },
  {
   "cell_type": "code",
   "execution_count": null,
   "metadata": {},
   "outputs": [],
   "source": [
    "hdfs_df = mlflow_helper.run_df[\n",
    "    (mlflow_helper.run_df['data_tags_sequence_type'] == 'hdfs_logs')\n",
    "    & (mlflow_helper.run_df['data_tags_model_type'].isin(['simple', 'causal_Fast-IAMB-jt']))\n",
    "    & (mlflow_helper.run_df['data_params_HDFSPreprocessorConfigaggregated_log_file'] == 'data/final/5k/hdfs/HDFS_5k.csv')\n",
    "    & (mlflow_helper.run_df[\"info_status\"] == \"FINISHED\")\n",
    "    & (mlflow_helper.run_df[\"data_params_HDFSPreprocessorConfigfine_drain_log_depth\"].astype(str).fillna(\"\").isin(depth_values))\n",
    "    & (mlflow_helper.run_df[\"data_params_HDFSPreprocessorConfigfine_drain_log_st\"].astype(str).fillna(\"\").isin(st_values))\n",
    "    & (mlflow_helper.run_df['data_params_ExperimentConfigonly_generate_knowledge'] == 'False')\n",
    "]\n",
    "hdfs_df = mlflow_helper.load_best_metrics_for_ids(set(hdfs_df[\"info_run_id\"]))\n",
    "hdfs_df = classify_sp_df(hdfs_df, name2config, dataset='HDFS')"
   ]
  },
  {
   "cell_type": "code",
   "execution_count": null,
   "metadata": {},
   "outputs": [],
   "source": [
    "count_attributes(hdfs_df)"
   ]
  },
  {
   "cell_type": "code",
   "execution_count": null,
   "metadata": {},
   "outputs": [],
   "source": [
    "hdfs_plot_df = hdfs_df.copy()\n",
    "hdfs_plot_df['algorithm_type'] = hdfs_plot_df['data_tags_model_type'].apply(lambda x: x.split('_')[0])\n",
    "hdfs_plot_df['Granularity'] = (\n",
    "    hdfs_plot_df\n",
    "    .apply(lambda x: config2name[(x['data_params_HDFSPreprocessorConfigfine_drain_log_depth'], x['data_params_HDFSPreprocessorConfigfine_drain_log_st'])],\n",
    "           axis=1))"
   ]
  },
  {
   "cell_type": "code",
   "execution_count": null,
   "metadata": {},
   "outputs": [],
   "source": [
    "colors = {'causal': 'C0', 'simple': 'C1'}\n",
    "hue_order = ['causal', 'simple']"
   ]
  },
  {
   "cell_type": "code",
   "execution_count": null,
   "metadata": {},
   "outputs": [],
   "source": [
    "plt.figure(figsize=(15,8))\n",
    "g = sns.boxplot(data=hdfs_plot_df,\n",
    "                x='Granularity',\n",
    "                y='val_top_5_categorical_accuracy_history_best',\n",
    "                hue='algorithm_type',\n",
    "                order=config_order,\n",
    "                palette=colors,\n",
    "                hue_order=hue_order,)\n",
    "g.set_xlabel('Granularity of Log Templates')\n",
    "g.set_ylabel('Top 5 Categorical Accuracy')\n",
    "g.legend(title='Domain Knowledge Type')\n",
    "g.set_title('Effect of Granularity of Log Templates on Usefulness - HDFS (5k)')\n",
    "sns.move_legend(g, 'upper left', bbox_to_anchor=(1, 1))\n",
    "if save_plots:\n",
    "    g.figure.savefig(plot_dir / \"hdfs_5k_drain.png\")\n",
    "g"
   ]
  },
  {
   "attachments": {},
   "cell_type": "markdown",
   "metadata": {},
   "source": [
    "## 10k"
   ]
  },
  {
   "cell_type": "markdown",
   "metadata": {},
   "source": [
    "### Huawei"
   ]
  },
  {
   "cell_type": "code",
   "execution_count": null,
   "metadata": {},
   "outputs": [],
   "source": [
    "huawei_df = mlflow_helper.run_df[\n",
    "    (mlflow_helper.run_df['data_tags_sequence_type'] == 'huawei_logs')\n",
    "    & (mlflow_helper.run_df['data_tags_model_type'].isin(['simple', 'causal_Fast-IAMB-jt']))\n",
    "    & (mlflow_helper.run_df['data_params_HuaweiPreprocessorConfigaggregated_log_file'] == 'data/final/10k/huawei/Huawei_10k.csv')\n",
    "    & (mlflow_helper.run_df[\"info_status\"] == \"FINISHED\")\n",
    "    & (mlflow_helper.run_df[\"data_params_HuaweiPreprocessorConfigfine_drain_log_depth\"].astype(str).fillna(\"\").isin(depth_values))\n",
    "    & (mlflow_helper.run_df[\"data_params_HuaweiPreprocessorConfigfine_drain_log_st\"].astype(str).fillna(\"\").isin(st_values))\n",
    "    & (mlflow_helper.run_df['data_params_ExperimentConfigonly_generate_knowledge'] == 'False')\n",
    "]\n",
    "huawei_df = mlflow_helper.load_best_metrics_for_ids(set(huawei_df[\"info_run_id\"]))\n",
    "huawei_df = classify_sp_df(huawei_df, name2config, dataset='Huawei')\n",
    "huawei_with_ts_df = huawei_df[huawei_df['data_params_HuaweiPreprocessorConfigremove_dates_from_payload'] == 'False']\n",
    "huawei_without_ts_df = huawei_df[huawei_df['data_params_HuaweiPreprocessorConfigremove_dates_from_payload'] == 'True']"
   ]
  },
  {
   "cell_type": "code",
   "execution_count": null,
   "metadata": {},
   "outputs": [],
   "source": [
    "count_attributes(huawei_with_ts_df)"
   ]
  },
  {
   "cell_type": "code",
   "execution_count": null,
   "metadata": {},
   "outputs": [],
   "source": [
    "count_attributes(huawei_without_ts_df)"
   ]
  },
  {
   "cell_type": "markdown",
   "metadata": {},
   "source": [
    "#### With timestamps"
   ]
  },
  {
   "cell_type": "code",
   "execution_count": null,
   "metadata": {},
   "outputs": [],
   "source": [
    "huawei_plot_ts_df = huawei_with_ts_df.copy()\n",
    "huawei_plot_ts_df['algorithm_type'] = huawei_plot_ts_df['data_tags_model_type'].apply(algorithm_type_transform)\n",
    "huawei_plot_ts_df['Granularity'] = (\n",
    "    huawei_plot_ts_df\n",
    "    .apply(lambda x: config2name[(x['data_params_HuaweiPreprocessorConfigfine_drain_log_depth'], x['data_params_HuaweiPreprocessorConfigfine_drain_log_st'])],\n",
    "           axis=1))\n",
    "huawei_plot_ts_df['Granularity'] = pd.Categorical(huawei_plot_ts_df['Granularity'],\n",
    "                                                  categories=['Most coarse', 'Coarse', 'Medium', 'Fine', 'Most fine'],\n",
    "                                                  ordered=True)"
   ]
  },
  {
   "cell_type": "code",
   "execution_count": null,
   "metadata": {},
   "outputs": [],
   "source": [
    "colors = {'Causal': 'C0', 'No Domain Knowledge': 'C1'}\n",
    "hue_order = ['Causal', 'No Domain Knowledge']"
   ]
  },
  {
   "cell_type": "code",
   "execution_count": null,
   "metadata": {},
   "outputs": [],
   "source": [
    "plt.figure(figsize=(15,8))\n",
    "g = sns.boxplot(data=huawei_plot_ts_df,\n",
    "                x='Granularity',\n",
    "                y='val_top_5_categorical_accuracy_history_best',\n",
    "                hue='algorithm_type',\n",
    "                order=config_order,\n",
    "                palette=colors,\n",
    "                hue_order=hue_order,)\n",
    "g.set_xlabel('Granularity of Log Templates')\n",
    "g.set_ylabel('Top 5 Categorical Accuracy')\n",
    "g.legend(title='Domain Knowledge Type')\n",
    "g.set_title('Effect of Granularity of Log Templates on Usefulness - Huawei with Timestamps (10k)')\n",
    "sns.move_legend(g, 'upper left', bbox_to_anchor=(1, 1))\n",
    "if save_plots:\n",
    "    g.figure.savefig(plot_dir / \"huawei_with_ts_10k_drain.png\")\n",
    "g"
   ]
  },
  {
   "cell_type": "code",
   "execution_count": null,
   "metadata": {},
   "outputs": [],
   "source": [
    "plt.figure(figsize=(15,8))\n",
    "g = sns.lineplot(data=huawei_plot_ts_df,\n",
    "                x='Granularity',\n",
    "                y='val_top_5_categorical_accuracy_history_best',\n",
    "                hue='algorithm_type',\n",
    "                palette=colors,\n",
    "                errorbar='sd',\n",
    "                err_style='band',\n",
    "                hue_order=hue_order,)\n",
    "g.set_xlabel('Granularity of Log Templates')\n",
    "g.set_ylabel('Top 5 Categorical Accuracy')\n",
    "g.legend(title='Domain Knowledge Type')\n",
    "g.set_title('Effect of Granularity of Log Templates on Usefulness - Huawei with Timestamps (10k)')\n",
    "sns.move_legend(g, 'upper left', bbox_to_anchor=(1, 1))\n",
    "g"
   ]
  },
  {
   "cell_type": "markdown",
   "metadata": {},
   "source": [
    "#### Without timestamps"
   ]
  },
  {
   "cell_type": "code",
   "execution_count": null,
   "metadata": {},
   "outputs": [],
   "source": [
    "huawei_plot_without_ts_df = huawei_without_ts_df.copy()\n",
    "huawei_plot_without_ts_df['algorithm_type'] = huawei_plot_without_ts_df['data_tags_model_type'].apply(algorithm_type_transform)\n",
    "huawei_plot_without_ts_df['Granularity'] = (\n",
    "    huawei_plot_without_ts_df\n",
    "    .apply(lambda x: config2name[(x['data_params_HuaweiPreprocessorConfigfine_drain_log_depth'], x['data_params_HuaweiPreprocessorConfigfine_drain_log_st'])],\n",
    "           axis=1))\n",
    "huawei_plot_without_ts_df['Granularity'] = pd.Categorical(huawei_plot_without_ts_df['Granularity'],\n",
    "                                                  categories=['Most coarse', 'Coarse', 'Medium', 'Fine', 'Most fine'],\n",
    "                                                  ordered=True)"
   ]
  },
  {
   "cell_type": "code",
   "execution_count": null,
   "metadata": {},
   "outputs": [],
   "source": [
    "colors = {'Causal': 'C0', 'No Domain Knowledge': 'C1'}\n",
    "hue_order = ['Causal', 'No Domain Knowledge']"
   ]
  },
  {
   "cell_type": "code",
   "execution_count": null,
   "metadata": {},
   "outputs": [],
   "source": [
    "plt.figure(figsize=(15,8))\n",
    "g = sns.boxplot(data=huawei_plot_without_ts_df,\n",
    "                x='Granularity',\n",
    "                y='val_top_5_categorical_accuracy_history_best',\n",
    "                hue='algorithm_type',\n",
    "                order=config_order,\n",
    "                palette=colors,\n",
    "                hue_order=hue_order,)\n",
    "g.set_xlabel('Granularity of Log Templates')\n",
    "g.set_ylabel('Top 5 Categorical Accuracy')\n",
    "g.legend(title='Domain Knowledge Type')\n",
    "g.set_title('Effect of Granularity of Log Templates on Usefulness - Huawei without Timestamps (10k)')\n",
    "sns.move_legend(g, 'upper left', bbox_to_anchor=(1, 1))\n",
    "if save_plots:\n",
    "    g.figure.savefig(plot_dir / \"huawei_without_ts_10k_drain.png\")\n",
    "g"
   ]
  },
  {
   "cell_type": "code",
   "execution_count": null,
   "metadata": {},
   "outputs": [],
   "source": [
    "plt.figure(figsize=(15,8))\n",
    "g = sns.lineplot(data=huawei_plot_without_ts_df,\n",
    "                x='Granularity',\n",
    "                y='val_top_5_categorical_accuracy_history_best',\n",
    "                hue='algorithm_type',\n",
    "                palette=colors,\n",
    "                errorbar=\"sd\",\n",
    "                err_style='band',\n",
    "                hue_order=hue_order,)\n",
    "g.set_xlabel('Granularity of Log Templates')\n",
    "g.set_ylabel('Top 5 Categorical Accuracy')\n",
    "g.legend(title='Domain Knowledge Type')\n",
    "g.set_title('Effect of Granularity of Log Templates on Usefulness - Huawei without Timestamps (10k)')\n",
    "sns.move_legend(g, 'upper left', bbox_to_anchor=(1, 1))\n",
    "g"
   ]
  },
  {
   "cell_type": "markdown",
   "metadata": {},
   "source": [
    "### HDFS"
   ]
  },
  {
   "cell_type": "code",
   "execution_count": null,
   "metadata": {},
   "outputs": [],
   "source": [
    "hdfs_df = mlflow_helper.run_df[\n",
    "    (mlflow_helper.run_df['data_tags_sequence_type'] == 'hdfs_logs')\n",
    "    & (mlflow_helper.run_df['data_tags_model_type'].isin(['simple', 'causal_Fast-IAMB-jt']))\n",
    "    & (mlflow_helper.run_df['data_params_HDFSPreprocessorConfigaggregated_log_file'] == 'data/final/10k/hdfs/HDFS_10k.csv')\n",
    "    & (mlflow_helper.run_df[\"info_status\"] == \"FINISHED\")\n",
    "    & (mlflow_helper.run_df[\"data_params_HDFSPreprocessorConfigfine_drain_log_depth\"].astype(str).fillna(\"\").isin(depth_values))\n",
    "    & (mlflow_helper.run_df[\"data_params_HDFSPreprocessorConfigfine_drain_log_st\"].astype(str).fillna(\"\").isin(st_values))\n",
    "    & (mlflow_helper.run_df['data_params_ExperimentConfigonly_generate_knowledge'] == 'False')\n",
    "]\n",
    "hdfs_df = mlflow_helper.load_best_metrics_for_ids(set(hdfs_df[\"info_run_id\"]))\n",
    "hdfs_df = classify_sp_df(hdfs_df, name2config, dataset='HDFS')"
   ]
  },
  {
   "cell_type": "code",
   "execution_count": null,
   "metadata": {},
   "outputs": [],
   "source": [
    "count_attributes(hdfs_df)"
   ]
  },
  {
   "cell_type": "code",
   "execution_count": null,
   "metadata": {},
   "outputs": [],
   "source": [
    "hdfs_plot_df = hdfs_df.copy()\n",
    "hdfs_plot_df['algorithm_type'] = hdfs_plot_df['data_tags_model_type'].apply(algorithm_type_transform)\n",
    "hdfs_plot_df['Granularity'] = (\n",
    "    hdfs_plot_df\n",
    "    .apply(lambda x: config2name[(x['data_params_HDFSPreprocessorConfigfine_drain_log_depth'], x['data_params_HDFSPreprocessorConfigfine_drain_log_st'])],\n",
    "           axis=1))\n",
    "hdfs_plot_df['Granularity'] = pd.Categorical(hdfs_plot_df['Granularity'],\n",
    "                                                  categories=['Most coarse', 'Coarse', 'Medium', 'Fine', 'Most fine'],\n",
    "                                                  ordered=True)"
   ]
  },
  {
   "cell_type": "code",
   "execution_count": null,
   "metadata": {},
   "outputs": [],
   "source": [
    "colors = {'Causal': 'C0', 'No Domain Knowledge': 'C1'}\n",
    "hue_order = ['Causal', 'No Domain Knowledge']"
   ]
  },
  {
   "cell_type": "code",
   "execution_count": null,
   "metadata": {},
   "outputs": [],
   "source": [
    "plt.figure(figsize=(15,8))\n",
    "g = sns.boxplot(data=hdfs_plot_df,\n",
    "                x='Granularity',\n",
    "                y='val_top_5_categorical_accuracy_history_best',\n",
    "                hue='algorithm_type',\n",
    "                order=config_order,\n",
    "                palette=colors,\n",
    "                hue_order=hue_order,)\n",
    "g.set_xlabel('Granularity of Log Templates')\n",
    "g.set_ylabel('Top 5 Categorical Accuracy')\n",
    "g.legend(title='Domain Knowledge Type')\n",
    "g.set_title('Effect of Granularity of Log Templates on Usefulness - HDFS (10k)')\n",
    "sns.move_legend(g, 'upper left', bbox_to_anchor=(1, 1))\n",
    "if save_plots:\n",
    "    g.figure.savefig(plot_dir / \"hdfs_10k_drain.png\")\n",
    "g"
   ]
  },
  {
   "cell_type": "code",
   "execution_count": null,
   "metadata": {},
   "outputs": [],
   "source": [
    "plt.figure(figsize=(15,8))\n",
    "g = sns.lineplot(data=hdfs_plot_df,\n",
    "                x='Granularity',\n",
    "                y='val_top_5_categorical_accuracy_history_best',\n",
    "                hue='algorithm_type',\n",
    "                palette=colors,\n",
    "                errorbar=\"sd\",\n",
    "                err_style='band',\n",
    "                hue_order=hue_order,)\n",
    "g.set_xlabel('Granularity of Log Templates')\n",
    "g.set_ylabel('Top 5 Categorical Accuracy')\n",
    "g.legend(title='Domain Knowledge Type')\n",
    "g.set_title('Effect of Granularity of Log Templates on Usefulness - HDFS (10k)')\n",
    "sns.move_legend(g, 'upper left', bbox_to_anchor=(1, 1))\n",
    "g"
   ]
  },
  {
   "attachments": {},
   "cell_type": "markdown",
   "metadata": {},
   "source": [
    "# Dataset Size Effect"
   ]
  },
  {
   "cell_type": "code",
   "execution_count": null,
   "metadata": {},
   "outputs": [],
   "source": [
    "def dataset_size_classifier(data_path):\n",
    "    if '2k' in data_path:\n",
    "        return '2000'\n",
    "    elif '5k' in data_path:\n",
    "        return '5000'\n",
    "    elif '10k' in data_path:\n",
    "        return '10000'\n",
    "    elif '20k' in data_path:\n",
    "        return '20000'\n",
    "    elif '50k' in data_path:\n",
    "        return '50000'"
   ]
  },
  {
   "attachments": {},
   "cell_type": "markdown",
   "metadata": {},
   "source": [
    "## Huawei"
   ]
  },
  {
   "cell_type": "code",
   "execution_count": null,
   "metadata": {},
   "outputs": [],
   "source": [
    "mlflow_helper_full = MlflowHelper(\n",
    "    pkl_file=Path('/home/i40/almasrirz/Domain-Guided-Monitoring/data/domainml.pkl'),\n",
    "    local_mlflow_dir_prefix='/home/i40/almasrirz/Domain-Guided-Monitoring/mlruns/', \n",
    "    experiment_id=\"831333387297563441\",\n",
    "    tracking_uri=\"http://localhost:5200\")\n",
    "full_huawei_runs = mlflow_helper_full.run_df[\n",
    "    (mlflow_helper_full.run_df['data_params_ExperimentConfigmax_data_size'] == '-1')\n",
    "    & (mlflow_helper_full.run_df['data_tags_model_type'].isin(['simple', 'causal_Fast-IAMB-jt']))\n",
    "    & (mlflow_helper_full.run_df['data_params_HuaweiPreprocessorConfigaggregated_log_file'] == 'data/logs_aggregated_concurrent_original.csv')\n",
    "    & (mlflow_helper_full.run_df[\"info_status\"] == \"FINISHED\")\n",
    "    & (mlflow_helper_full.run_df['data_params_ExperimentConfigmax_data_size'] == '-1')\n",
    "    & (mlflow_helper_full.run_df['data_params_HuaweiPreprocessorConfigcausal_algorithm_alpha'].fillna(\"\").isin([\"\", '0.05']))\n",
    "    & (mlflow_helper_full.run_df[\"data_params_HuaweiPreprocessorConfigfine_drain_log_st\"].fillna(\"\") == \"0.75\")\n",
    "    & (mlflow_helper_full.run_df[\"data_params_HuaweiPreprocessorConfigfine_drain_log_depth\"].astype(str).fillna(\"\") == \"10\")\n",
    "    & (mlflow_helper_full.run_df['data_params_ExperimentConfigonly_generate_knowledge'].astype(str).fillna(\"\").isin([\"\", \"False\"]))\n",
    "    & (\n",
    "        (\n",
    "            (mlflow_helper_full.run_df['data_tags_model_type'] == 'causal_Fast-IAMB-jt') &\n",
    "            (mlflow_helper_full.run_df['data_params_TimeSeriesTransformerConfigbin_size'] == '00:00:05') &\n",
    "            (mlflow_helper_full.run_df['data_params_TimeSeriesTransformerConfigbin_overlap'] == '00:00:01')\n",
    "        ) | (mlflow_helper_full.run_df['data_tags_model_type'] == 'simple')\n",
    "    )   \n",
    "]\n",
    "full_huawei_runs = mlflow_helper_full.load_best_metrics_for_ids(set(full_huawei_runs[\"info_run_id\"]))\n",
    "full_huawei_runs['dataset_size'] = 'Full (169230)'"
   ]
  },
  {
   "cell_type": "code",
   "execution_count": null,
   "metadata": {},
   "outputs": [],
   "source": [
    "data_paths = ['data/final/2k/huawei/Huawei_2k.csv',\n",
    "              'data/final/5k/huawei/Huawei_5k.csv', \n",
    "              'data/final/10k/huawei/Huawei_10k.csv',\n",
    "              'data/final/20k/huawei/Huawei_20k.csv',\n",
    "              'data/final/50k/huawei/Huawei_50k.csv',]\n",
    "default_drain_config = name2config['Fine']\n",
    "huawei_df = mlflow_helper.run_df[\n",
    "    (mlflow_helper.run_df['data_tags_sequence_type'] == 'huawei_logs')\n",
    "    & (mlflow_helper.run_df['data_tags_model_type'].isin(['simple', 'causal_Fast-IAMB-jt']))\n",
    "    & (mlflow_helper.run_df['data_params_HuaweiPreprocessorConfigaggregated_log_file'].isin(data_paths))\n",
    "    & (mlflow_helper.run_df[\"info_status\"] == \"FINISHED\")\n",
    "    & (mlflow_helper.run_df[\"data_params_HuaweiPreprocessorConfigfine_drain_log_depth\"].astype(str).fillna(\"\") == default_drain_config[0])\n",
    "    & (mlflow_helper.run_df[\"data_params_HuaweiPreprocessorConfigfine_drain_log_st\"].astype(str).fillna(\"\") == default_drain_config[1])\n",
    "    & (mlflow_helper.run_df['data_params_ExperimentConfigonly_generate_knowledge'] == 'False')\n",
    "    & (\n",
    "        (mlflow_helper.run_df['data_tags_model_type'] == 'simple') |\n",
    "        (\n",
    "         (mlflow_helper.run_df['data_tags_model_type'] == 'causal_Fast-IAMB-jt') & \n",
    "            (\n",
    "                (mlflow_helper.run_df['data_params_ExperimentConfigknowledge_df_file'] == 'data/final/full/huawei/with_ts/causal_Fast-IAMB-jt_knowledge_df.csv') | \n",
    "                (mlflow_helper.run_df['data_params_ExperimentConfigknowledge_df_file'] == 'data/final/full/huawei/without_ts/causal_Fast-IAMB-jt_knowledge_df.csv')\n",
    "            )\n",
    "        )\n",
    "    )\n",
    "]\n",
    "huawei_df = mlflow_helper.load_best_metrics_for_ids(set(huawei_df[\"info_run_id\"]))\n",
    "huawei_df['dataset_size'] = huawei_df['data_params_HuaweiPreprocessorConfigaggregated_log_file'].apply(dataset_size_classifier)\n",
    "huawei_df = pd.concat([huawei_df, full_huawei_runs], ignore_index=True).reset_index(drop=True)\n",
    "huawei_df['algorithm_type'] = huawei_df['data_tags_model_type'].apply(algorithm_type_transform)\n",
    "huawei_df['dataset_size'] = pd.Categorical(huawei_df['dataset_size'],\n",
    "                                                  categories=['2000', '5000', '10000', '20000', '50000', 'Full (169230)'],\n",
    "                                                  ordered=True)\n",
    "huawei_with_ts_df = huawei_df[huawei_df['data_params_HuaweiPreprocessorConfigremove_dates_from_payload'] == 'False']\n",
    "huawei_without_ts_df = huawei_df[huawei_df['data_params_HuaweiPreprocessorConfigremove_dates_from_payload'] == 'True']"
   ]
  },
  {
   "cell_type": "code",
   "execution_count": null,
   "metadata": {},
   "outputs": [],
   "source": [
    "huawei_with_ts_df.groupby(['dataset_size', 'algorithm_type']).size()"
   ]
  },
  {
   "cell_type": "code",
   "execution_count": null,
   "metadata": {},
   "outputs": [],
   "source": [
    "huawei_without_ts_df.groupby(['dataset_size', 'algorithm_type']).size()"
   ]
  },
  {
   "cell_type": "code",
   "execution_count": null,
   "metadata": {},
   "outputs": [],
   "source": [
    "# Val Top 5 Categorical accuracy range\n",
    "y_min = min(huawei_with_ts_df['val_top_5_categorical_accuracy_history_best'].min(), huawei_without_ts_df['val_top_5_categorical_accuracy_history_best'].min())\n",
    "y_max = max(huawei_with_ts_df['val_top_5_categorical_accuracy_history_best'].max(), huawei_without_ts_df['val_top_5_categorical_accuracy_history_best'].max())\n",
    "\n",
    "# Adjust them a little bit\n",
    "adjustment = 0.001\n",
    "y_min = y_min - adjustment\n",
    "y_max = y_max + adjustment\n",
    "\n",
    "print(f\"Min: {y_min}\")\n",
    "print(f\"Max: {y_max}\")"
   ]
  },
  {
   "attachments": {},
   "cell_type": "markdown",
   "metadata": {},
   "source": [
    "### With timestamps"
   ]
  },
  {
   "cell_type": "code",
   "execution_count": null,
   "metadata": {},
   "outputs": [],
   "source": [
    "plt.figure(figsize=(15,8))\n",
    "g = sns.lineplot(data=huawei_with_ts_df,\n",
    "                x='dataset_size',\n",
    "                y='val_top_5_categorical_accuracy_history_best',\n",
    "                hue='algorithm_type',\n",
    "                palette=colors,\n",
    "                errorbar=\"sd\",\n",
    "                err_style='band',\n",
    "                hue_order=hue_order,)\n",
    "g.set(ylim=(y_min, y_max))\n",
    "g.set_xlabel('Dataset Size')\n",
    "g.set_ylabel('Top 5 Categorical Accuracy')\n",
    "g.legend(title='Domain Knowledge Type')\n",
    "g.set_title('Effect of Dataset Size on Usefulness - Huawei with Timestamps')\n",
    "sns.move_legend(g, 'upper left', bbox_to_anchor=(1, 1))\n",
    "g"
   ]
  },
  {
   "attachments": {},
   "cell_type": "markdown",
   "metadata": {},
   "source": [
    "### Without Timestamps"
   ]
  },
  {
   "cell_type": "code",
   "execution_count": null,
   "metadata": {},
   "outputs": [],
   "source": [
    "plt.figure(figsize=(15,8))\n",
    "g = sns.lineplot(data=huawei_without_ts_df,\n",
    "                x='dataset_size',\n",
    "                y='val_top_5_categorical_accuracy_history_best',\n",
    "                hue='algorithm_type',\n",
    "                palette=colors,\n",
    "                errorbar=\"sd\",\n",
    "                err_style='band',\n",
    "                hue_order=hue_order,)\n",
    "g.set(ylim=(y_min, y_max))\n",
    "g.set_xlabel('Dataset Size')\n",
    "g.set_ylabel('Top 5 Categorical Accuracy')\n",
    "g.legend(title='Domain Knowledge Type')\n",
    "g.set_title('Effect of Dataset Size on Usefulness - Huawei without Timestamps')\n",
    "sns.move_legend(g, 'upper left', bbox_to_anchor=(1, 1))\n",
    "g"
   ]
  },
  {
   "attachments": {},
   "cell_type": "markdown",
   "metadata": {},
   "source": [
    "## HDFS"
   ]
  },
  {
   "cell_type": "code",
   "execution_count": null,
   "metadata": {},
   "outputs": [],
   "source": [
    "data_paths = ['data/final/2k/hdfs/HDFS_2k.csv', 'data/final/5k/hdfs/HDFS_5k.csv', 'data/final/10k/hdfs/HDFS_10k.csv', 'data/final/full/hdfs/HDFS_full.csv']\n",
    "default_drain_config = name2config['Fine']\n",
    "hdfs_df = mlflow_helper.run_df[\n",
    "    (mlflow_helper.run_df['data_tags_sequence_type'] == 'hdfs_logs')\n",
    "    & (mlflow_helper.run_df['data_tags_model_type'].isin(['simple', 'causal_Fast-IAMB-jt']))\n",
    "    & (mlflow_helper.run_df['data_params_HDFSPreprocessorConfigaggregated_log_file'].isin(data_paths))\n",
    "    & (mlflow_helper.run_df[\"info_status\"] == \"FINISHED\")\n",
    "    & (mlflow_helper.run_df[\"data_params_HDFSPreprocessorConfigfine_drain_log_depth\"].astype(str).fillna(\"\") == default_drain_config[0])\n",
    "    & (mlflow_helper.run_df[\"data_params_HDFSPreprocessorConfigfine_drain_log_st\"].astype(str).fillna(\"\") == default_drain_config[1])\n",
    "    & (mlflow_helper.run_df['data_params_ExperimentConfigonly_generate_knowledge'] == 'False')\n",
    "]\n",
    "hdfs_df = mlflow_helper.load_best_metrics_for_ids(set(hdfs_df[\"info_run_id\"]))\n",
    "hdfs_df['dataset_size'] = hdfs_df['data_params_HDFSPreprocessorConfigaggregated_log_file'].apply(dataset_size_classifier)\n",
    "# hdfs_df.loc[hdfs_df['data_params_HDFSPreprocessorConfigaggregated_log_file'] == data_paths[-1], 'dataset_size'] = 'Full (169000)'\n",
    "hdfs_df['dataset_size'] = pd.Categorical(hdfs_df['dataset_size'],\n",
    "                                                  categories=['2000', '5000', '10000'],\n",
    "                                                  ordered=True)\n",
    "hdfs_df['algorithm_type'] = hdfs_df['data_tags_model_type'].apply(algorithm_type_transform)"
   ]
  },
  {
   "cell_type": "code",
   "execution_count": null,
   "metadata": {},
   "outputs": [],
   "source": [
    "set(hdfs_df['data_params_HDFSPreprocessorConfigaggregated_log_file'])"
   ]
  },
  {
   "cell_type": "code",
   "execution_count": null,
   "metadata": {},
   "outputs": [],
   "source": [
    "hdfs_df.groupby(['dataset_size', 'algorithm_type']).size()"
   ]
  },
  {
   "cell_type": "code",
   "execution_count": null,
   "metadata": {},
   "outputs": [],
   "source": [
    "plt.figure(figsize=(15,8))\n",
    "g = sns.boxplot(data=hdfs_df,\n",
    "                x='dataset_size',\n",
    "                y='val_top_5_categorical_accuracy_history_best',\n",
    "                hue='algorithm_type',\n",
    "                order=['2000', '5000', '10000'],\n",
    "                palette=colors,\n",
    "                hue_order=hue_order,)\n",
    "g.set_xlabel('Dataset Size')\n",
    "g.set_ylabel('Top 5 Categorical Accuracy')\n",
    "g.legend(title='Domain Knowledge Type')\n",
    "g.set_title('Effect of Dataset Size on Usefulness - HDFS')\n",
    "sns.move_legend(g, 'upper left', bbox_to_anchor=(1, 1))\n",
    "if save_plots:\n",
    "    g.figure.savefig(plot_dir / \"hdfs_size.png\")\n",
    "g"
   ]
  },
  {
   "cell_type": "code",
   "execution_count": null,
   "metadata": {},
   "outputs": [],
   "source": [
    "plt.figure(figsize=(15,8))\n",
    "g = sns.lineplot(data=hdfs_df,\n",
    "                x='dataset_size',\n",
    "                y='val_top_5_categorical_accuracy_history_best',\n",
    "                hue='algorithm_type',\n",
    "                palette=colors,\n",
    "                errorbar=\"sd\",\n",
    "                err_style='band',\n",
    "                hue_order=hue_order,)\n",
    "g.set_xlabel('Dataset Size')\n",
    "g.set_ylabel('Top 5 Categorical Accuracy')\n",
    "g.legend(title='Domain Knowledge Type')\n",
    "g.set_title('Effect of Dataset Size on Usefulness - HDFS')\n",
    "sns.move_legend(g, 'upper left', bbox_to_anchor=(1, 1))\n",
    "g"
   ]
  },
  {
   "cell_type": "code",
   "execution_count": null,
   "metadata": {},
   "outputs": [],
   "source": []
  }
 ],
 "metadata": {
  "kernelspec": {
   "display_name": "Python 3",
   "language": "python",
   "name": "python3"
  },
  "language_info": {
   "codemirror_mode": {
    "name": "ipython",
    "version": 3
   },
   "file_extension": ".py",
   "mimetype": "text/x-python",
   "name": "python",
   "nbconvert_exporter": "python",
   "pygments_lexer": "ipython3",
   "version": "3.8.15"
  },
  "orig_nbformat": 4,
  "vscode": {
   "interpreter": {
    "hash": "80d5d9b3524735f659a5adb9b2f8b758bc6f38bab46a1e1da290b7b375c07e0c"
   }
  }
 },
 "nbformat": 4,
 "nbformat_minor": 2
}
