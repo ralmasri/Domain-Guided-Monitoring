{
 "cells": [
  {
   "cell_type": "code",
   "execution_count": null,
   "metadata": {},
   "outputs": [],
   "source": [
    "import sys \n",
    "import os\n",
    "module_path = os.path.abspath(os.path.join('../'))\n",
    "if module_path not in sys.path:\n",
    "    sys.path.append(module_path)\n",
    "import pandas as pd\n",
    "import seaborn as sns\n",
    "from utils.mlflow_query import MlflowHelper\n",
    "import numpy as np\n",
    "from pathlib import Path\n",
    "from src.features import knowledge\n",
    "import json\n",
    "from matplotlib import pyplot as plt"
   ]
  },
  {
   "cell_type": "code",
   "execution_count": null,
   "metadata": {},
   "outputs": [],
   "source": [
    "mlflow_helper = MlflowHelper(pkl_file=None, \n",
    "    local_mlflow_dir_prefix='/home/i40/almasrirz/Domain-Guided-Monitoring/mlruns/', \n",
    "    experiment_id=\"831333387297563441\",\n",
    "    tracking_uri=\"http://localhost:5200\")\n",
    "mlflow_helper.query_runs()"
   ]
  },
  {
   "cell_type": "code",
   "execution_count": null,
   "metadata": {},
   "outputs": [],
   "source": [
    "def plot_best_metric_bar(metric_df, metric_names,\n",
    "    x_feature_name='data_tags_model_type', \n",
    "    x_order=['simple', 'causal_heuristic', 'causal_score'],\n",
    "    save_fig = False,\n",
    "    row_feature_name=None,\n",
    "    hue_feature_name=None,\n",
    "    col_feature_name=None,\n",
    "    titles=None,\n",
    "    palette=None,\n",
    "    dodge=True,\n",
    "    col_order=None,\n",
    "    height=5,\n",
    "    aspect=1 # width = height * aspect\n",
    "):\n",
    "    for metric_name in metric_names:\n",
    "        g = sns.catplot(\n",
    "            data=metric_df, x=x_feature_name, y=metric_name, order=x_order,\n",
    "            row=row_feature_name, hue=hue_feature_name, col=col_feature_name, col_order=col_order,\n",
    "            kind=\"box\", sharey='row', palette=palette, dodge=dodge, height=height, aspect=aspect\n",
    "        )\n",
    "        g.set_titles(titles).set_axis_labels('', metric_name)\n",
    "        for ax in g.axes.flatten():\n",
    "            ax.tick_params(labelbottom=True)\n",
    "        if save_fig:\n",
    "            g.savefig(\"bar_{}.png\".format(metric_name))"
   ]
  },
  {
   "cell_type": "code",
   "execution_count": null,
   "metadata": {},
   "outputs": [],
   "source": [
    "def count_attributes(df: pd.DataFrame, attr='data_tags_model_type'):\n",
    "    return df.groupby([attr])[attr].count().sort_values(ascending=False)"
   ]
  },
  {
   "cell_type": "code",
   "execution_count": null,
   "metadata": {},
   "outputs": [],
   "source": [
    "def categorize_run_df(run_df, experimented_algos = [\"causal_Fast-IAMB-jt\", \"causal_Fast-IAMB-smc-cor\", \"causal_MMPC-cor\"]):\n",
    "    bin_configs = { # label -> (bin_size, bin_overlap)\n",
    "        'small-none': (['00:00:05'], ['00:00:00']),\n",
    "        'medium-none': (['0:01:00','00:00:60'], ['00:00:00']),\n",
    "        'large-none': (['00:10:00'], ['00:00:00']),\n",
    "        'small-small': (['00:00:05'], ['00:00:01']),\n",
    "        'medium-small': (['0:01:00','00:00:60'], ['00:00:12']),\n",
    "        'large-small': (['00:10:00'], ['00:02:00']),\n",
    "        'small-medium': (['00:00:05'], ['00:00:03']),\n",
    "        'medium-medium': (['0:01:00','00:00:60'], ['00:00:30']),\n",
    "        'large-medium': (['00:10:00'], ['00:05:00']),\n",
    "        'small-large': (['00:00:05'], ['00:00:04']),\n",
    "        'medium-large': (['0:01:00','00:00:60'], ['00:00:48', '00:00:50']),\n",
    "        'large-large': (['00:10:00'], ['00:08:00']),\n",
    "    }\n",
    "\n",
    "    matrix_df = run_df.copy()\n",
    "    for algo in experimented_algos:\n",
    "        for label, config in bin_configs.items():\n",
    "            bin_sizes, bin_overlap = config[0], config[1]\n",
    "            matrix_df.loc[(matrix_df['data_params_TimeSeriesTransformerConfigbin_size'].isin(bin_sizes)) \n",
    "            & (matrix_df['data_params_TimeSeriesTransformerConfigbin_overlap'].isin(bin_overlap))\n",
    "            & (matrix_df['data_tags_model_type'] == algo), 'data_tags_model_type'] = algo + '+' + label\n",
    "    \n",
    "    # Categorize by templates\n",
    "    matrix_df.loc[matrix_df['data_params_HuaweiPreprocessorConfigfine_drain_log_st'] == '0.77', 'data_tags_model_type'] = matrix_df.loc[\n",
    "        matrix_df['data_params_HuaweiPreprocessorConfigfine_drain_log_st'] == '0.77', 'data_tags_model_type'\n",
    "    ].apply(lambda x: x + \"_more_templates\")\n",
    "    \n",
    "    # Categorize by timestamps\n",
    "    matrix_df.loc[matrix_df['data_params_HuaweiPreprocessorConfigremove_dates_from_payload'] == 'False', 'data_tags_model_type'] = matrix_df.loc[\n",
    "    matrix_df['data_params_HuaweiPreprocessorConfigremove_dates_from_payload'] == 'False', 'data_tags_model_type'].apply(lambda x: x + '_with_ts')\n",
    "    matrix_df.loc[matrix_df['data_params_HuaweiPreprocessorConfigremove_dates_from_payload'] == 'True', 'data_tags_model_type'] = matrix_df.loc[\n",
    "    matrix_df['data_params_HuaweiPreprocessorConfigremove_dates_from_payload'] == 'True', 'data_tags_model_type'].apply(lambda x: x + '_without_ts')\n",
    "\n",
    "    return matrix_df"
   ]
  },
  {
   "attachments": {},
   "cell_type": "markdown",
   "metadata": {},
   "source": [
    "# Results - Comparision"
   ]
  },
  {
   "attachments": {},
   "cell_type": "markdown",
   "metadata": {},
   "source": [
    "## Drain algorithm change"
   ]
  },
  {
   "cell_type": "code",
   "execution_count": null,
   "metadata": {},
   "outputs": [],
   "source": [
    "def read_knowledge_dataframes(knowledge_type, dataset='huawei', size='2k'):\n",
    "    knowledge_path = Path(f'/home/i40/almasrirz/Domain-Guided-Monitoring/data/{size}/{dataset}/knowledge')\n",
    "    pathlist = knowledge_path.glob('**/*.csv')\n",
    "    dataframes = {}\n",
    "    for path in pathlist:\n",
    "        knowledge_name = path.name.split('_knowledge')[0]\n",
    "        dataframes[knowledge_name] = pd.read_csv(path)\n",
    "    return dataframes"
   ]
  },
  {
   "cell_type": "code",
   "execution_count": null,
   "metadata": {},
   "outputs": [],
   "source": [
    "def fetch_statistics(knowledge_type, drain_settings, ts=None, dataset='huawei', size='2k'):\n",
    "    statistics_records = []\n",
    "    dataframes = read_knowledge_dataframes(knowledge_type, dataset=dataset, size=size)\n",
    "    for name, df in dataframes.items():\n",
    "        k = None\n",
    "        metadata = f'/home/i40/almasrirz/Domain-Guided-Monitoring/data/{size}/{dataset}/x_vocab'\n",
    "        for x in drain_settings:\n",
    "            if x in name:\n",
    "                metadata += f'_{x}'\n",
    "                break\n",
    "        if 'with_ts' in name:\n",
    "            metadata += '_with_ts'\n",
    "        if 'without_ts' in name:\n",
    "            metadata += '_without_ts'\n",
    "           \n",
    "        with open(metadata + '.json', 'r') as file:\n",
    "            metadata = json.load(file)\n",
    "\n",
    "        if name.startswith('causal'):\n",
    "            k = knowledge.CausalityKnowledge(knowledge.KnowledgeConfig())\n",
    "            k.build_causality_from_df(df, metadata)\n",
    "        elif name.startswith('hierarchy'):\n",
    "            k = knowledge.HierarchyKnowledge(knowledge.KnowledgeConfig())\n",
    "            k.build_hierarchy_from_df(df, metadata)\n",
    "        else:\n",
    "            k = knowledge.DescriptionKnowledge(knowledge.KnowledgeConfig())\n",
    "            k.build_knowledge_from_df(df, metadata)\n",
    "        v_in = len(k.vocab)\n",
    "        v_g = len(k.extended_vocab)\n",
    "        v_hidden = v_g - v_in\n",
    "        edges = set()\n",
    "        for i in range(len(k.vocab)):\n",
    "            connections = k.get_connections_for_idx(i)\n",
    "            for connection in connections:\n",
    "                edges.add((i, connection))\n",
    "        statistics_records.append({\n",
    "            'Model': name,\n",
    "            'V_G': v_g,\n",
    "            'V_in': v_in,\n",
    "            'V_hidden': v_hidden,\n",
    "            'E_G': len(edges)\n",
    "        })\n",
    "\n",
    "    return pd.DataFrame.from_records(statistics_records)"
   ]
  },
  {
   "cell_type": "code",
   "execution_count": null,
   "metadata": {},
   "outputs": [],
   "source": [
    "def classify_sp_df(df, drain_settings, dataset='Huawei'):\n",
    "    drain_log_st = f\"data_params_{dataset}PreprocessorConfigfine_drain_log_st\"\n",
    "    ret_df = df.copy()\n",
    "    for drain in drain_settings:\n",
    "        ret_df.loc[ret_df[drain_log_st] == drain, 'data_tags_model_type'] = ret_df.loc[ret_df[drain_log_st] == drain, 'data_tags_model_type'].apply(lambda x: x + f'_{drain}')\n",
    "    return ret_df"
   ]
  },
  {
   "attachments": {},
   "cell_type": "markdown",
   "metadata": {},
   "source": [
    "## 2k"
   ]
  },
  {
   "cell_type": "markdown",
   "metadata": {},
   "source": [
    "### Huawei"
   ]
  },
  {
   "cell_type": "code",
   "execution_count": null,
   "metadata": {},
   "outputs": [],
   "source": [
    "check = ['0.4', '0.5', '0.65', '0.7', '0.75', '0.77', '0.8']\n",
    "huawei_df = mlflow_helper.run_df[\n",
    "    (mlflow_helper.run_df['data_tags_sequence_type'] == 'huawei_logs')\n",
    "    & (mlflow_helper.run_df['data_tags_model_type'].isin(['simple', 'causal_Fast-IAMB-jt']))\n",
    "    & (mlflow_helper.run_df['data_params_HuaweiPreprocessorConfigaggregated_log_file'] == 'data/2k/huawei/huawei_logs.csv')\n",
    "    & (mlflow_helper.run_df[\"info_status\"] == \"FINISHED\")\n",
    "    & (mlflow_helper.run_df[\"data_params_HuaweiPreprocessorConfigfine_drain_log_st\"].astype(str).fillna(\"\").isin(check))\n",
    "    & (mlflow_helper.run_df['data_params_ExperimentConfigonly_generate_knowledge'] == 'False')\n",
    "]\n",
    "huawei_df = mlflow_helper.load_best_metrics_for_ids(set(huawei_df[\"info_run_id\"]))\n",
    "huawei_with_ts_df = huawei_df[huawei_df['data_params_HuaweiPreprocessorConfigremove_dates_from_payload'] == 'False']\n",
    "huawei_without_ts_df = huawei_df[huawei_df['data_params_HuaweiPreprocessorConfigremove_dates_from_payload'] == 'True']"
   ]
  },
  {
   "cell_type": "code",
   "execution_count": null,
   "metadata": {},
   "outputs": [],
   "source": [
    "huawei_df = classify_sp_df(huawei_df, check)\n",
    "huawei_with_ts_df = huawei_df[huawei_df['data_params_HuaweiPreprocessorConfigremove_dates_from_payload'] == 'False']\n",
    "huawei_without_ts_df = huawei_df[huawei_df['data_params_HuaweiPreprocessorConfigremove_dates_from_payload'] == 'True']"
   ]
  },
  {
   "cell_type": "code",
   "execution_count": null,
   "metadata": {},
   "outputs": [],
   "source": [
    "huawei_with_ts_df.groupby(['data_tags_model_type']).size()"
   ]
  },
  {
   "cell_type": "code",
   "execution_count": null,
   "metadata": {},
   "outputs": [],
   "source": [
    "huawei_without_ts_df.groupby(['data_tags_model_type']).size()"
   ]
  },
  {
   "cell_type": "code",
   "execution_count": null,
   "metadata": {},
   "outputs": [],
   "source": [
    "stats_df = fetch_statistics('causal_Fast-IAMB-jt', check)\n",
    "# Separate into with_ts and without_ts\n",
    "huawei_stats_with_ts_df = stats_df[stats_df['Model'].str.contains('with_ts')]\n",
    "huawei_stats_without_ts_df = stats_df[stats_df['Model'].str.contains('without_ts')]"
   ]
  },
  {
   "cell_type": "code",
   "execution_count": null,
   "metadata": {},
   "outputs": [],
   "source": [
    "# Remove modifiers\n",
    "huawei_stats_with_ts_df['Model'] = huawei_stats_with_ts_df['Model'].apply(lambda x: x.replace('_with_ts', '').replace('_st', ''))\n",
    "huawei_stats_with_ts_df"
   ]
  },
  {
   "cell_type": "code",
   "execution_count": null,
   "metadata": {},
   "outputs": [],
   "source": [
    "# Add simple\n",
    "to_append = []\n",
    "for x in huawei_stats_with_ts_df['Model'].tolist():\n",
    "    s = x.split('_')[2]\n",
    "    name = f'simple_{s}'\n",
    "    v_in = huawei_stats_with_ts_df[huawei_stats_with_ts_df['Model'] == x]['V_in'].tolist()[0]\n",
    "    to_append.append({\n",
    "        'Model': name,\n",
    "        'V_G': v_in,\n",
    "        'V_in': v_in,\n",
    "        'V_hidden': 0,\n",
    "        'E_G': 0\n",
    "    })\n",
    "huawei_stats_with_ts_df = pd.concat([huawei_stats_with_ts_df, pd.DataFrame.from_records(to_append)]).reset_index(drop=True)\n",
    "huawei_stats_with_ts_df"
   ]
  },
  {
   "cell_type": "code",
   "execution_count": null,
   "metadata": {},
   "outputs": [],
   "source": [
    "huawei_ts_final_df = pd.merge(huawei_with_ts_df, huawei_stats_with_ts_df, how='left', left_on='data_tags_model_type', right_on='Model')"
   ]
  },
  {
   "cell_type": "code",
   "execution_count": null,
   "metadata": {},
   "outputs": [],
   "source": [
    "# Remove modifiers\n",
    "huawei_stats_without_ts_df['Model'] = huawei_stats_without_ts_df['Model'].apply(lambda x: x.replace('_without_ts', '').replace('_st', ''))\n",
    "huawei_stats_without_ts_df"
   ]
  },
  {
   "cell_type": "code",
   "execution_count": null,
   "metadata": {},
   "outputs": [],
   "source": [
    "# Add simple\n",
    "to_append = []\n",
    "for x in huawei_stats_without_ts_df['Model'].tolist():\n",
    "    s = x.split('_')[2]\n",
    "    name = f'simple_{s}'\n",
    "    v_in = huawei_stats_without_ts_df[huawei_stats_without_ts_df['Model'] == x]['V_in'].tolist()[0]\n",
    "    to_append.append({\n",
    "        'Model': name,\n",
    "        'V_G': v_in,\n",
    "        'V_in': v_in,\n",
    "        'V_hidden': 0,\n",
    "        'E_G': 0\n",
    "    })\n",
    "huawei_stats_without_ts_df = pd.concat([huawei_stats_without_ts_df, pd.DataFrame.from_records(to_append)]).reset_index(drop=True)\n",
    "huawei_stats_without_ts_df"
   ]
  },
  {
   "cell_type": "code",
   "execution_count": null,
   "metadata": {},
   "outputs": [],
   "source": [
    "huawei_no_ts_final_df = pd.merge(huawei_without_ts_df, huawei_stats_without_ts_df, how='left', left_on='data_tags_model_type', right_on='Model')"
   ]
  },
  {
   "cell_type": "code",
   "execution_count": null,
   "metadata": {},
   "outputs": [],
   "source": [
    "huawei_ts_final_df.groupby(['data_tags_model_type']).size()"
   ]
  },
  {
   "cell_type": "code",
   "execution_count": null,
   "metadata": {},
   "outputs": [],
   "source": [
    "huawei_no_ts_final_df.groupby(['data_tags_model_type']).size()"
   ]
  },
  {
   "cell_type": "markdown",
   "metadata": {},
   "source": [
    "### Huawei With Timestamps"
   ]
  },
  {
   "cell_type": "code",
   "execution_count": null,
   "metadata": {},
   "outputs": [],
   "source": [
    "test_df = huawei_ts_final_df.copy()\n",
    "test_df['algorithm_type'] = test_df['data_tags_model_type'].apply(lambda x: x.split('_')[0])"
   ]
  },
  {
   "cell_type": "code",
   "execution_count": null,
   "metadata": {},
   "outputs": [],
   "source": [
    "test_order = sorted(list(set(test_df['data_params_HuaweiPreprocessorConfigfine_drain_log_st'])))\n",
    "test_order"
   ]
  },
  {
   "cell_type": "code",
   "execution_count": null,
   "metadata": {},
   "outputs": [],
   "source": [
    "colors = {'causal': 'C0', 'simple': 'C1'}\n",
    "hue_order = ['causal', 'simple']"
   ]
  },
  {
   "cell_type": "code",
   "execution_count": null,
   "metadata": {},
   "outputs": [],
   "source": [
    "test_df['data_params_HuaweiPreprocessorConfigaggregated_log_file']"
   ]
  },
  {
   "cell_type": "code",
   "execution_count": null,
   "metadata": {},
   "outputs": [],
   "source": [
    "idx = test_df[(test_df['data_tags_model_type'].str.startswith('simple')) & (test_df['data_params_HuaweiPreprocessorConfigfine_drain_log_st'] == '0.7')]['val_top_5_categorical_accuracy_history_best'].idxmin()\n",
    "test_df.drop(idx, inplace=True)"
   ]
  },
  {
   "cell_type": "code",
   "execution_count": null,
   "metadata": {},
   "outputs": [],
   "source": [
    "plt.figure(figsize=(15,8))\n",
    "g = sns.boxplot(data=test_df,\n",
    "                x='data_params_HuaweiPreprocessorConfigfine_drain_log_st',\n",
    "                y='val_top_5_categorical_accuracy_history_best',\n",
    "                hue='algorithm_type',\n",
    "                order=test_order,\n",
    "                palette=colors,\n",
    "                hue_order=hue_order,)\n",
    "g.set_ylabel('Top 5 Categorical Accuracy')\n",
    "g.set_xlabel('Granularity Levels')\n",
    "g.set_xticklabels(['1', '2', '3', '4', '5', '6', '7'])\n",
    "g.legend(title='Domain Knowledge Type')\n",
    "sns.move_legend(g, 'upper left', bbox_to_anchor=(1, 1))\n",
    "g"
   ]
  },
  {
   "cell_type": "code",
   "execution_count": null,
   "metadata": {},
   "outputs": [],
   "source": [
    "test_df = huawei_no_ts_final_df.copy()\n",
    "test_df['algorithm_type'] = test_df['data_tags_model_type'].apply(lambda x: x.split('_')[0])"
   ]
  },
  {
   "cell_type": "code",
   "execution_count": null,
   "metadata": {},
   "outputs": [],
   "source": [
    "test_order = sorted(list(set(test_df['data_params_HuaweiPreprocessorConfigfine_drain_log_st'])))\n",
    "test_order"
   ]
  },
  {
   "cell_type": "code",
   "execution_count": null,
   "metadata": {},
   "outputs": [],
   "source": [
    "plt.figure(figsize=(15,8))\n",
    "g = sns.boxplot(data=test_df,\n",
    "                x='data_params_HuaweiPreprocessorConfigfine_drain_log_st',\n",
    "                y='val_top_5_categorical_accuracy_history_best',\n",
    "                hue='algorithm_type',\n",
    "                order=test_order,\n",
    "                palette=colors,\n",
    "                hue_order=hue_order)\n",
    "g.set_xlabel('Granularity Levels')\n",
    "g.set_xticklabels(['1', '2', '3', '4', '5', '6', '7'])\n",
    "g.legend(title='Domain Knowledge Type')\n",
    "sns.move_legend(g, 'upper left', bbox_to_anchor=(1, 1))\n",
    "g"
   ]
  },
  {
   "cell_type": "markdown",
   "metadata": {},
   "source": [
    "#### Full data"
   ]
  },
  {
   "cell_type": "code",
   "execution_count": null,
   "metadata": {},
   "outputs": [],
   "source": [
    "# Plot of all data points => No clear trend to see when looking at total number\n",
    "# of nodes\n",
    "g = sns.relplot(data=huawei_ts_final_df, x='val_top_5_categorical_accuracy_history_best', y='V_G', hue='data_tags_model_type', height=6, aspect=2)\n",
    "g.fig.suptitle('V_G vs Val Top 5 Accuracy For Huawei with timestamps')\n",
    "g.set_xlabels('Val Top 5 Accuracy')\n",
    "g"
   ]
  },
  {
   "cell_type": "code",
   "execution_count": null,
   "metadata": {},
   "outputs": [],
   "source": [
    "# Plot of all data points => No clear trend to see when looking at input nodes\n",
    "g = sns.relplot(data=huawei_ts_final_df, x='val_top_5_categorical_accuracy_history_best', y='V_in', hue='data_tags_model_type', height=6, aspect=2)\n",
    "g.fig.suptitle('V_in vs Val Top 5 Accuracy For Huawei with timestamps')\n",
    "g.set_xlabels('Val Top 5 Accuracy')\n",
    "g"
   ]
  },
  {
   "cell_type": "code",
   "execution_count": null,
   "metadata": {},
   "outputs": [],
   "source": [
    "# Plot of all data points => No clear trend to see when looking at hidden nodes\n",
    "g = sns.relplot(data=huawei_ts_final_df, x='val_top_5_categorical_accuracy_history_best', y='V_hidden', hue='data_tags_model_type', height=6, aspect=2)\n",
    "g.fig.suptitle('V_hidden vs Val Top 5 Accuracy For Huawei with timestamps')\n",
    "g.set_xlabels('Val Top 5 Accuracy')\n",
    "g"
   ]
  },
  {
   "cell_type": "markdown",
   "metadata": {},
   "source": [
    "#### Full data"
   ]
  },
  {
   "cell_type": "code",
   "execution_count": null,
   "metadata": {},
   "outputs": [],
   "source": [
    "# Plot of all data points => No clear trend to see when looking at total number\n",
    "# of nodes\n",
    "g = sns.relplot(data=huawei_ts_final_df, x='val_top_5_categorical_accuracy_history_best', y='V_G', hue='data_tags_model_type', height=6, aspect=2)\n",
    "g.fig.suptitle('V_G vs Val Top 5 Accuracy For Huawei with timestamps')\n",
    "g.set_xlabels('Val Top 5 Accuracy')\n",
    "g"
   ]
  },
  {
   "cell_type": "code",
   "execution_count": null,
   "metadata": {},
   "outputs": [],
   "source": [
    "# Plot of all data points => No clear trend to see when looking at input nodes\n",
    "g = sns.relplot(data=huawei_ts_final_df, x='val_top_5_categorical_accuracy_history_best', y='V_in', hue='data_tags_model_type', height=6, aspect=2)\n",
    "g.fig.suptitle('V_in vs Val Top 5 Accuracy For Huawei with timestamps')\n",
    "g.set_xlabels('Val Top 5 Accuracy')\n",
    "g"
   ]
  },
  {
   "cell_type": "code",
   "execution_count": null,
   "metadata": {},
   "outputs": [],
   "source": [
    "# Plot of all data points => No clear trend to see when looking at hidden nodes\n",
    "g = sns.relplot(data=huawei_ts_final_df, x='val_top_5_categorical_accuracy_history_best', y='V_hidden', hue='data_tags_model_type', height=6, aspect=2)\n",
    "g.fig.suptitle('V_hidden vs Val Top 5 Accuracy For Huawei with timestamps')\n",
    "g.set_xlabels('Val Top 5 Accuracy')\n",
    "g"
   ]
  },
  {
   "cell_type": "markdown",
   "metadata": {},
   "source": [
    "#### Simple vs Causal regardless of Drain"
   ]
  },
  {
   "cell_type": "code",
   "execution_count": null,
   "metadata": {},
   "outputs": [],
   "source": [
    "simple_causal_df = huawei_ts_final_df.copy()\n",
    "simple_causal_df['algorithm_type'] = simple_causal_df['data_tags_model_type'].apply(lambda x: x.split('_')[0])\n",
    "g = sns.relplot(data=simple_causal_df, x='val_top_5_categorical_accuracy_history_best', y='V_in', hue='algorithm_type', height=6, aspect=2)\n",
    "g.fig.suptitle('V_in vs Val Top 5 Accuracy For Huawei with timestamps')\n",
    "g.set_xlabels('Val Top 5 Accuracy')\n",
    "g"
   ]
  },
  {
   "cell_type": "code",
   "execution_count": null,
   "metadata": {},
   "outputs": [],
   "source": [
    "g = sns.relplot(data=simple_causal_df, x='val_top_5_categorical_accuracy_history_best', y='V_hidden', hue='algorithm_type', height=6, aspect=2)\n",
    "g.fig.suptitle('V_hidden vs Val Top 5 Accuracy For HDFS')\n",
    "g.set_xlabels('Val Top 5 Accuracy')\n",
    "g"
   ]
  },
  {
   "cell_type": "markdown",
   "metadata": {},
   "source": [
    "#### Simple vs other simples "
   ]
  },
  {
   "cell_type": "code",
   "execution_count": null,
   "metadata": {},
   "outputs": [],
   "source": [
    "# Note that for simple V_G = V_in\n",
    "simple_huawei = huawei_ts_final_df[huawei_ts_final_df['data_tags_model_type'].str.startswith('simple')]\n",
    "g = sns.relplot(data=simple_huawei, x='val_top_5_categorical_accuracy_history_best', y='V_in', hue='data_tags_model_type', height=6, aspect=2)\n",
    "g.fig.suptitle('V_in (V_G) vs Val Top 5 Accuracy For Huawei with timestamps')\n",
    "g.set_xlabels('Val Top 5 Accuracy')\n",
    "g"
   ]
  },
  {
   "cell_type": "markdown",
   "metadata": {},
   "source": [
    "#### Causal vs other causal"
   ]
  },
  {
   "cell_type": "code",
   "execution_count": null,
   "metadata": {},
   "outputs": [],
   "source": [
    "causal_huawei = huawei_ts_final_df[huawei_ts_final_df['data_tags_model_type'].str.startswith('causal')]\n",
    "g = sns.relplot(data=causal_huawei, x='val_top_5_categorical_accuracy_history_best', y='V_in', hue='data_tags_model_type', height=6, aspect=2)\n",
    "g.fig.suptitle('V_in vs Val Top 5 Accuracy For Huawei with timestamps')\n",
    "g.set_xlabels('Val Top 5 Accuracy')\n",
    "g"
   ]
  },
  {
   "cell_type": "code",
   "execution_count": null,
   "metadata": {},
   "outputs": [],
   "source": [
    "g = sns.relplot(data=causal_huawei, x='val_top_5_categorical_accuracy_history_best', y='V_hidden', hue='data_tags_model_type', height=6, aspect=2)\n",
    "g.fig.suptitle('V_hidden vs Val Top 5 Accuracy For HDFS')\n",
    "g.set_xlabels('Val Top 5 Accuracy')\n",
    "g"
   ]
  },
  {
   "cell_type": "markdown",
   "metadata": {},
   "source": [
    "#### Compare on basis of drain settings"
   ]
  },
  {
   "cell_type": "code",
   "execution_count": null,
   "metadata": {},
   "outputs": [],
   "source": [
    "g = sns.relplot(data=huawei_ts_final_df, x='val_top_5_categorical_accuracy_history_best', y='V_G', hue='data_params_HuaweiPreprocessorConfigfine_drain_log_st', height=6, aspect=2)\n",
    "g.fig.suptitle('V_G vs Val Top 5 Accuracy For Huawei with timestamps')\n",
    "g.set_xlabels('Val Top 5 Accuracy')\n",
    "g"
   ]
  },
  {
   "cell_type": "code",
   "execution_count": null,
   "metadata": {},
   "outputs": [],
   "source": [
    "g = sns.relplot(data=huawei_ts_final_df, x='val_top_5_categorical_accuracy_history_best', y='V_in', hue='data_params_HuaweiPreprocessorConfigfine_drain_log_st', height=6, aspect=2)\n",
    "g.fig.suptitle('V_in vs Val Top 5 Accuracy For Huawei with timestamps')\n",
    "g.set_xlabels('Val Top 5 Accuracy')\n",
    "g"
   ]
  },
  {
   "cell_type": "markdown",
   "metadata": {},
   "source": [
    "### Huawei Without Timestamps"
   ]
  },
  {
   "cell_type": "markdown",
   "metadata": {},
   "source": [
    "#### Full data"
   ]
  },
  {
   "cell_type": "code",
   "execution_count": null,
   "metadata": {},
   "outputs": [],
   "source": [
    "# Plot of all data points => No clear trend to see when looking at total number\n",
    "# of nodes\n",
    "g = sns.relplot(data=huawei_no_ts_final_df, x='val_top_5_categorical_accuracy_history_best', y='V_G', hue='data_tags_model_type', height=6, aspect=2)\n",
    "g.fig.suptitle('V_G vs Val Top 5 Accuracy For Huawei without timestamps')\n",
    "g.set_xlabels('Val Top 5 Accuracy')\n",
    "g"
   ]
  },
  {
   "cell_type": "code",
   "execution_count": null,
   "metadata": {},
   "outputs": [],
   "source": [
    "# Plot of all data points => No clear trend to see when looking at input nodes\n",
    "g = sns.relplot(data=huawei_no_ts_final_df, x='val_top_5_categorical_accuracy_history_best', y='V_in', hue='data_tags_model_type', height=6, aspect=2)\n",
    "g.fig.suptitle('V_in vs Val Top 5 Accuracy For Huawei without timestamps')\n",
    "g.set_xlabels('Val Top 5 Accuracy')\n",
    "g"
   ]
  },
  {
   "cell_type": "code",
   "execution_count": null,
   "metadata": {},
   "outputs": [],
   "source": [
    "# Plot of all data points => No clear trend to see when looking at hidden nodes\n",
    "g = sns.relplot(data=huawei_no_ts_final_df, x='val_top_5_categorical_accuracy_history_best', y='V_hidden', hue='data_tags_model_type', height=6, aspect=2)\n",
    "g.fig.suptitle('V_hidden vs Val Top 5 Accuracy For Huawei without timestamps')\n",
    "g.set_xlabels('Val Top 5 Accuracy')\n",
    "g"
   ]
  },
  {
   "cell_type": "markdown",
   "metadata": {},
   "source": [
    "#### Simple vs Causal regardless of Drain"
   ]
  },
  {
   "cell_type": "code",
   "execution_count": null,
   "metadata": {},
   "outputs": [],
   "source": [
    "simple_causal_df = huawei_no_ts_final_df.copy()\n",
    "simple_causal_df['algorithm_type'] = simple_causal_df['data_tags_model_type'].apply(lambda x: x.split('_')[0])\n",
    "g = sns.relplot(data=simple_causal_df, x='val_top_5_categorical_accuracy_history_best', y='V_in', hue='algorithm_type', height=6, aspect=2)\n",
    "g.fig.suptitle('V_in vs Val Top 5 Accuracy For Huawei without timestamps')\n",
    "g.set_xlabels('Val Top 5 Accuracy')\n",
    "g"
   ]
  },
  {
   "cell_type": "code",
   "execution_count": null,
   "metadata": {},
   "outputs": [],
   "source": [
    "g = sns.relplot(data=simple_causal_df, x='val_top_5_categorical_accuracy_history_best', y='V_hidden', hue='algorithm_type', height=6, aspect=2)\n",
    "g.fig.suptitle('V_hidden vs Val Top 5 Accuracy For Huawei without timestamps')\n",
    "g.set_xlabels('Val Top 5 Accuracy')\n",
    "g"
   ]
  },
  {
   "cell_type": "markdown",
   "metadata": {},
   "source": [
    "#### Simple vs other simples "
   ]
  },
  {
   "cell_type": "code",
   "execution_count": null,
   "metadata": {},
   "outputs": [],
   "source": [
    "# Note that for simple V_G = V_in\n",
    "simple_huawei = huawei_no_ts_final_df[huawei_no_ts_final_df['data_tags_model_type'].str.startswith('simple')]\n",
    "g = sns.relplot(data=simple_huawei, x='val_top_5_categorical_accuracy_history_best', y='V_in', hue='data_tags_model_type', height=6, aspect=2)\n",
    "g.fig.suptitle('V_in (V_G) vs Val Top 5 Accuracy For Huawei without timestamps')\n",
    "g.set_xlabels('Val Top 5 Accuracy')\n",
    "g"
   ]
  },
  {
   "cell_type": "markdown",
   "metadata": {},
   "source": [
    "#### Causal vs other causal"
   ]
  },
  {
   "cell_type": "code",
   "execution_count": null,
   "metadata": {},
   "outputs": [],
   "source": [
    "causal_huawei = huawei_no_ts_final_df[huawei_no_ts_final_df['data_tags_model_type'].str.startswith('causal')]\n",
    "g = sns.relplot(data=causal_huawei, x='val_top_5_categorical_accuracy_history_best', y='V_in', hue='data_tags_model_type', height=6, aspect=2)\n",
    "g.fig.suptitle('V_in vs Val Top 5 Accuracy For Huawei without timestamps')\n",
    "g.set_xlabels('Val Top 5 Accuracy')\n",
    "g"
   ]
  },
  {
   "cell_type": "code",
   "execution_count": null,
   "metadata": {},
   "outputs": [],
   "source": [
    "g = sns.relplot(data=causal_huawei, x='val_top_5_categorical_accuracy_history_best', y='V_hidden', hue='data_tags_model_type', height=6, aspect=2)\n",
    "g.fig.suptitle('V_hidden vs Val Top 5 Accuracy For Huawei without timestamps')\n",
    "g.set_xlabels('Val Top 5 Accuracy')\n",
    "g"
   ]
  },
  {
   "cell_type": "markdown",
   "metadata": {},
   "source": [
    "#### Compare on basis of drain settings"
   ]
  },
  {
   "cell_type": "code",
   "execution_count": null,
   "metadata": {},
   "outputs": [],
   "source": [
    "g = sns.relplot(data=huawei_no_ts_final_df, x='val_top_5_categorical_accuracy_history_best', y='V_G', hue='data_params_HuaweiPreprocessorConfigfine_drain_log_st', height=6, aspect=2)\n",
    "g.fig.suptitle('V_G vs Val Top 5 Accuracy For Huawei without timestamps')\n",
    "g.set_xlabels('Val Top 5 Accuracy')\n",
    "g"
   ]
  },
  {
   "cell_type": "code",
   "execution_count": null,
   "metadata": {},
   "outputs": [],
   "source": [
    "g = sns.relplot(data=huawei_no_ts_final_df, x='val_top_5_categorical_accuracy_history_best', y='V_in', hue='data_params_HuaweiPreprocessorConfigfine_drain_log_st', height=6, aspect=2)\n",
    "g.fig.suptitle('V_in vs Val Top 5 Accuracy For Huawei without timestamps')\n",
    "g.set_xlabels('Val Top 5 Accuracy')\n",
    "g"
   ]
  },
  {
   "cell_type": "markdown",
   "metadata": {},
   "source": [
    "### BGL"
   ]
  },
  {
   "cell_type": "code",
   "execution_count": null,
   "metadata": {},
   "outputs": [],
   "source": [
    "bgl_df = mlflow_helper.run_df[\n",
    "    (mlflow_helper.run_df['data_tags_sequence_type'] == 'bgl_logs')\n",
    "    & (mlflow_helper.run_df['data_tags_model_type'].isin(['simple', 'causal_Fast-IAMB-jt']))\n",
    "    & (mlflow_helper.run_df['data_params_BGLPreprocessorConfigaggregated_log_file'] == 'data/2k/bgl/BGL_2k.csv')\n",
    "    & (mlflow_helper.run_df[\"info_status\"] == \"FINISHED\")\n",
    "    & (mlflow_helper.run_df[\"data_params_BGLPreprocessorConfigfine_drain_log_st\"].astype(str).fillna(\"\").isin(check))\n",
    "    & (mlflow_helper.run_df['data_params_ExperimentConfigonly_generate_knowledge'] == 'False')\n",
    "]\n",
    "bgl_df = mlflow_helper.load_best_metrics_for_ids(set(bgl_df[\"info_run_id\"]))"
   ]
  },
  {
   "cell_type": "code",
   "execution_count": null,
   "metadata": {},
   "outputs": [],
   "source": [
    "bgl_df = classify_sp_df(bgl_df, check, dataset='BGL')\n",
    "bgl_df.groupby(['data_tags_model_type']).size()"
   ]
  },
  {
   "cell_type": "code",
   "execution_count": null,
   "metadata": {},
   "outputs": [],
   "source": [
    "bgl_stats_df = fetch_statistics('causal_Fast-IAMB-jt', check, dataset='bgl')\n",
    "bgl_stats_df"
   ]
  },
  {
   "cell_type": "code",
   "execution_count": null,
   "metadata": {},
   "outputs": [],
   "source": [
    "# Add simple\n",
    "to_append = []\n",
    "for x in bgl_stats_df['Model'].tolist():\n",
    "    s = x.split('_')[2]\n",
    "    name = f'simple_{s}'\n",
    "    v_in = bgl_stats_df[bgl_stats_df['Model'] == x]['V_in'].tolist()[0]\n",
    "    to_append.append({\n",
    "        'Model': name,\n",
    "        'V_G': v_in,\n",
    "        'V_in': v_in,\n",
    "        'V_hidden': 0,\n",
    "        'E_G': 0\n",
    "    })\n",
    "bgl_stats_df = pd.concat([bgl_stats_df, pd.DataFrame.from_records(to_append)]).reset_index(drop=True)\n",
    "bgl_stats_df"
   ]
  },
  {
   "cell_type": "code",
   "execution_count": null,
   "metadata": {},
   "outputs": [],
   "source": [
    "bgl_final_df = pd.merge(bgl_df, bgl_stats_df, how='left', left_on='data_tags_model_type', right_on='Model')"
   ]
  },
  {
   "cell_type": "code",
   "execution_count": null,
   "metadata": {},
   "outputs": [],
   "source": [
    "bgl_final_df.groupby(['data_tags_model_type']).size()"
   ]
  },
  {
   "cell_type": "markdown",
   "metadata": {},
   "source": [
    "### HDFS"
   ]
  },
  {
   "cell_type": "code",
   "execution_count": null,
   "metadata": {},
   "outputs": [],
   "source": [
    "hdfs_df = mlflow_helper.run_df[\n",
    "    (mlflow_helper.run_df['data_tags_sequence_type'] == 'hdfs_logs')\n",
    "    & (mlflow_helper.run_df['data_tags_model_type'].isin(['simple', 'causal_Fast-IAMB-jt']))\n",
    "    & (mlflow_helper.run_df['data_params_HDFSPreprocessorConfigaggregated_log_file'] == 'data/2k/hdfs/HDFS_2k.csv')\n",
    "    & (mlflow_helper.run_df[\"info_status\"] == \"FINISHED\")\n",
    "    & (mlflow_helper.run_df[\"data_params_HDFSPreprocessorConfigfine_drain_log_st\"].astype(str).fillna(\"\").isin(check))\n",
    "    & (mlflow_helper.run_df['data_params_ExperimentConfigonly_generate_knowledge'] == 'False')\n",
    "]\n",
    "hdfs_df = mlflow_helper.load_best_metrics_for_ids(set(hdfs_df[\"info_run_id\"]))"
   ]
  },
  {
   "cell_type": "code",
   "execution_count": null,
   "metadata": {},
   "outputs": [],
   "source": [
    "hdfs_df = classify_sp_df(hdfs_df, check, dataset='HDFS')\n",
    "hdfs_df.groupby(['data_tags_model_type']).size()"
   ]
  },
  {
   "cell_type": "code",
   "execution_count": null,
   "metadata": {},
   "outputs": [],
   "source": [
    "hdfs_stats_df = fetch_statistics('causal_Fast-IAMB-jt', check, dataset='hdfs')\n",
    "# Remove modifiers\n",
    "hdfs_stats_df['Model'] = hdfs_stats_df['Model'].apply(lambda x: x.replace('_st', ''))"
   ]
  },
  {
   "cell_type": "code",
   "execution_count": null,
   "metadata": {},
   "outputs": [],
   "source": [
    "# Add simple\n",
    "to_append = []\n",
    "for x in hdfs_stats_df['Model'].tolist():\n",
    "    s = x.split('_')[2]\n",
    "    name = f'simple_{s}'\n",
    "    v_in = hdfs_stats_df[hdfs_stats_df['Model'] == x]['V_in'].tolist()[0]\n",
    "    to_append.append({\n",
    "        'Model': name,\n",
    "        'V_G': v_in,\n",
    "        'V_in': v_in,\n",
    "        'V_hidden': 0,\n",
    "        'E_G': 0\n",
    "    })\n",
    "hdfs_stats_df = pd.concat([hdfs_stats_df, pd.DataFrame.from_records(to_append)]).reset_index(drop=True)\n",
    "hdfs_stats_df"
   ]
  },
  {
   "cell_type": "code",
   "execution_count": null,
   "metadata": {},
   "outputs": [],
   "source": [
    "hdfs_final_df = pd.merge(hdfs_df, hdfs_stats_df, how='left', left_on='data_tags_model_type', right_on='Model')"
   ]
  },
  {
   "cell_type": "code",
   "execution_count": null,
   "metadata": {},
   "outputs": [],
   "source": [
    "hdfs_final_df.groupby(['data_tags_model_type']).size()"
   ]
  },
  {
   "cell_type": "markdown",
   "metadata": {},
   "source": [
    "#### Full data"
   ]
  },
  {
   "cell_type": "code",
   "execution_count": null,
   "metadata": {},
   "outputs": [],
   "source": [
    "# Plot of all data points => No clear trend to see when looking at total number\n",
    "# of nodes\n",
    "g = sns.relplot(data=hdfs_final_df, x='val_top_5_categorical_accuracy_history_best', y='V_G', hue='data_tags_model_type', height=6, aspect=2)\n",
    "g.fig.suptitle('V_G vs Val Top 5 Accuracy For HDFS')\n",
    "g.set_xlabels('Val Top 5 Accuracy')\n",
    "g"
   ]
  },
  {
   "cell_type": "code",
   "execution_count": null,
   "metadata": {},
   "outputs": [],
   "source": [
    "# Plot of all data points => No clear trend to see when looking at input nodes\n",
    "g = sns.relplot(data=hdfs_final_df, x='val_top_5_categorical_accuracy_history_best', y='V_in', hue='data_tags_model_type', height=6, aspect=2)\n",
    "g.fig.suptitle('V_in vs Val Top 5 Accuracy For HDFS')\n",
    "g.set_xlabels('Val Top 5 Accuracy')\n",
    "g"
   ]
  },
  {
   "cell_type": "code",
   "execution_count": null,
   "metadata": {},
   "outputs": [],
   "source": [
    "# Plot of all data points => No clear trend to see when looking at hidden nodes\n",
    "g = sns.relplot(data=hdfs_final_df, x='val_top_5_categorical_accuracy_history_best', y='V_hidden', hue='data_tags_model_type', height=6, aspect=2)\n",
    "g.fig.suptitle('V_hidden vs Val Top 5 Accuracy For HDFS')\n",
    "g.set_xlabels('Val Top 5 Accuracy')\n",
    "g"
   ]
  },
  {
   "cell_type": "markdown",
   "metadata": {},
   "source": [
    "#### Simple vs Causal regardless of Drain"
   ]
  },
  {
   "cell_type": "code",
   "execution_count": null,
   "metadata": {},
   "outputs": [],
   "source": [
    "simple_causal_df = hdfs_final_df.copy()\n",
    "simple_causal_df['algorithm_type'] = simple_causal_df['data_tags_model_type'].apply(lambda x: x.split('_')[0])\n",
    "g = sns.relplot(data=simple_causal_df, x='val_top_5_categorical_accuracy_history_best', y='V_in', hue='algorithm_type', height=6, aspect=2)\n",
    "g.fig.suptitle('V_in vs Val Top 5 Accuracy For HDFS')\n",
    "g.set_xlabels('Val Top 5 Accuracy')\n",
    "g"
   ]
  },
  {
   "cell_type": "code",
   "execution_count": null,
   "metadata": {},
   "outputs": [],
   "source": [
    "g = sns.relplot(data=simple_causal_df, x='val_top_5_categorical_accuracy_history_best', y='V_hidden', hue='algorithm_type', height=6, aspect=2)\n",
    "g.fig.suptitle('V_hidden vs Val Top 5 Accuracy For HDFS')\n",
    "g.set_xlabels('Val Top 5 Accuracy')\n",
    "g"
   ]
  },
  {
   "cell_type": "markdown",
   "metadata": {},
   "source": [
    "#### Simple vs other simples "
   ]
  },
  {
   "cell_type": "code",
   "execution_count": null,
   "metadata": {},
   "outputs": [],
   "source": [
    "# Note that for simple V_G = V_in\n",
    "simple_hdfs = hdfs_final_df[hdfs_final_df['data_tags_model_type'].str.startswith('simple')]\n",
    "g = sns.relplot(data=simple_hdfs, x='val_top_5_categorical_accuracy_history_best', y='V_in', hue='data_tags_model_type', height=6, aspect=2)\n",
    "g.fig.suptitle('V_in (V_G) vs Val Top 5 Accuracy For HDFS')\n",
    "g.set_xlabels('Val Top 5 Accuracy')\n",
    "g"
   ]
  },
  {
   "cell_type": "markdown",
   "metadata": {},
   "source": [
    "#### Causal vs other causal"
   ]
  },
  {
   "cell_type": "code",
   "execution_count": null,
   "metadata": {},
   "outputs": [],
   "source": [
    "causal_hdfs = hdfs_final_df[hdfs_final_df['data_tags_model_type'].str.startswith('causal')]\n",
    "g = sns.relplot(data=causal_hdfs, x='val_top_5_categorical_accuracy_history_best', y='V_in', hue='data_tags_model_type', height=6, aspect=2)\n",
    "g.fig.suptitle('V_in vs Val Top 5 Accuracy For HDFS')\n",
    "g.set_xlabels('Val Top 5 Accuracy')\n",
    "g"
   ]
  },
  {
   "cell_type": "code",
   "execution_count": null,
   "metadata": {},
   "outputs": [],
   "source": [
    "causal_hdfs = hdfs_final_df[hdfs_final_df['data_tags_model_type'].str.startswith('causal')]\n",
    "g = sns.relplot(data=causal_hdfs, x='val_top_5_categorical_accuracy_history_best', y='V_hidden', hue='data_tags_model_type', height=6, aspect=2)\n",
    "g.fig.suptitle('V_hidden vs Val Top 5 Accuracy For HDFS')\n",
    "g.set_xlabels('Val Top 5 Accuracy')\n",
    "g"
   ]
  },
  {
   "cell_type": "markdown",
   "metadata": {},
   "source": [
    "#### Compare on basis of drain settings"
   ]
  },
  {
   "cell_type": "code",
   "execution_count": null,
   "metadata": {},
   "outputs": [],
   "source": [
    "g = sns.relplot(data=hdfs_final_df, x='val_top_5_categorical_accuracy_history_best', y='V_G', hue='data_params_HDFSPreprocessorConfigfine_drain_log_st', height=6, aspect=2)\n",
    "g.fig.suptitle('V_G vs Val Top 5 Accuracy For HDFS')\n",
    "g.set_xlabels('Val Top 5 Accuracy')\n",
    "g"
   ]
  },
  {
   "cell_type": "code",
   "execution_count": null,
   "metadata": {},
   "outputs": [],
   "source": [
    "g = sns.relplot(data=hdfs_final_df, x='val_top_5_categorical_accuracy_history_best', y='V_in', hue='data_params_HDFSPreprocessorConfigfine_drain_log_st', height=6, aspect=2)\n",
    "g.fig.suptitle('V_in vs Val Top 5 Accuracy For HDFS')\n",
    "g.set_xlabels('Val Top 5 Accuracy')\n",
    "g"
   ]
  },
  {
   "attachments": {},
   "cell_type": "markdown",
   "metadata": {},
   "source": [
    "## 10k"
   ]
  },
  {
   "cell_type": "markdown",
   "metadata": {},
   "source": [
    "### Huawei"
   ]
  },
  {
   "cell_type": "code",
   "execution_count": null,
   "metadata": {},
   "outputs": [],
   "source": [
    "check = ['0.4', '0.5', '0.65', '0.7', '0.75', '0.77', '0.8']\n",
    "huawei_df = mlflow_helper.run_df[\n",
    "    (mlflow_helper.run_df['data_tags_sequence_type'] == 'huawei_logs')\n",
    "    & (mlflow_helper.run_df['data_tags_model_type'].isin(['simple', 'causal_Fast-IAMB-jt']))\n",
    "    & (mlflow_helper.run_df['data_params_HuaweiPreprocessorConfigaggregated_log_file'] == 'data/10k/huawei/huawei_logs.csv')\n",
    "    & (mlflow_helper.run_df[\"info_status\"] == \"FINISHED\")\n",
    "    & (mlflow_helper.run_df[\"data_params_HuaweiPreprocessorConfigfine_drain_log_st\"].astype(str).fillna(\"\").isin(check))\n",
    "    & (mlflow_helper.run_df['data_params_ExperimentConfigonly_generate_knowledge'] == 'False')\n",
    "]\n",
    "huawei_df = mlflow_helper.load_best_metrics_for_ids(set(huawei_df[\"info_run_id\"]))\n",
    "huawei_with_ts_df = huawei_df[huawei_df['data_params_HuaweiPreprocessorConfigremove_dates_from_payload'] == 'False']\n",
    "huawei_without_ts_df = huawei_df[huawei_df['data_params_HuaweiPreprocessorConfigremove_dates_from_payload'] == 'True']"
   ]
  },
  {
   "cell_type": "code",
   "execution_count": null,
   "metadata": {},
   "outputs": [],
   "source": [
    "huawei_df = classify_sp_df(huawei_df, check)\n",
    "huawei_with_ts_df = huawei_df[huawei_df['data_params_HuaweiPreprocessorConfigremove_dates_from_payload'] == 'False']\n",
    "huawei_without_ts_df = huawei_df[huawei_df['data_params_HuaweiPreprocessorConfigremove_dates_from_payload'] == 'True']"
   ]
  },
  {
   "cell_type": "code",
   "execution_count": null,
   "metadata": {},
   "outputs": [],
   "source": [
    "huawei_with_ts_df.groupby(['data_tags_model_type']).size()"
   ]
  },
  {
   "cell_type": "code",
   "execution_count": null,
   "metadata": {},
   "outputs": [],
   "source": [
    "huawei_without_ts_df.groupby(['data_tags_model_type']).size()"
   ]
  },
  {
   "cell_type": "code",
   "execution_count": null,
   "metadata": {},
   "outputs": [],
   "source": [
    "stats_df = fetch_statistics('causal_Fast-IAMB-jt', check, size='10k')\n",
    "# Separate into with_ts and without_ts\n",
    "huawei_stats_with_ts_df = stats_df[stats_df['Model'].str.contains('with_ts')]\n",
    "huawei_stats_without_ts_df = stats_df[stats_df['Model'].str.contains('without_ts')]"
   ]
  },
  {
   "cell_type": "code",
   "execution_count": null,
   "metadata": {},
   "outputs": [],
   "source": [
    "# Remove modifiers\n",
    "huawei_stats_with_ts_df['Model'] = huawei_stats_with_ts_df['Model'].apply(lambda x: x.replace('_with_ts', '').replace('_st', ''))\n",
    "huawei_stats_with_ts_df"
   ]
  },
  {
   "cell_type": "code",
   "execution_count": null,
   "metadata": {},
   "outputs": [],
   "source": [
    "# Add simple\n",
    "to_append = []\n",
    "for x in huawei_stats_with_ts_df['Model'].tolist():\n",
    "    s = x.split('_')[2]\n",
    "    name = f'simple_{s}'\n",
    "    v_in = huawei_stats_with_ts_df[huawei_stats_with_ts_df['Model'] == x]['V_in'].tolist()[0]\n",
    "    to_append.append({\n",
    "        'Model': name,\n",
    "        'V_G': v_in,\n",
    "        'V_in': v_in,\n",
    "        'V_hidden': 0,\n",
    "        'E_G': 0\n",
    "    })\n",
    "huawei_stats_with_ts_df = pd.concat([huawei_stats_with_ts_df, pd.DataFrame.from_records(to_append)]).reset_index(drop=True)\n",
    "huawei_stats_with_ts_df"
   ]
  },
  {
   "cell_type": "code",
   "execution_count": null,
   "metadata": {},
   "outputs": [],
   "source": [
    "huawei_ts_final_df = pd.merge(huawei_with_ts_df, huawei_stats_with_ts_df, how='left', left_on='data_tags_model_type', right_on='Model')"
   ]
  },
  {
   "cell_type": "code",
   "execution_count": null,
   "metadata": {},
   "outputs": [],
   "source": [
    "# Remove modifiers\n",
    "huawei_stats_without_ts_df['Model'] = huawei_stats_without_ts_df['Model'].apply(lambda x: x.replace('_without_ts', '').replace('_st', ''))\n",
    "huawei_stats_without_ts_df"
   ]
  },
  {
   "cell_type": "code",
   "execution_count": null,
   "metadata": {},
   "outputs": [],
   "source": [
    "# Add simple\n",
    "to_append = []\n",
    "for x in huawei_stats_without_ts_df['Model'].tolist():\n",
    "    s = x.split('_')[2]\n",
    "    name = f'simple_{s}'\n",
    "    v_in = huawei_stats_without_ts_df[huawei_stats_without_ts_df['Model'] == x]['V_in'].tolist()[0]\n",
    "    to_append.append({\n",
    "        'Model': name,\n",
    "        'V_G': v_in,\n",
    "        'V_in': v_in,\n",
    "        'V_hidden': 0,\n",
    "        'E_G': 0\n",
    "    })\n",
    "huawei_stats_without_ts_df = pd.concat([huawei_stats_without_ts_df, pd.DataFrame.from_records(to_append)]).reset_index(drop=True)\n",
    "huawei_stats_without_ts_df"
   ]
  },
  {
   "cell_type": "code",
   "execution_count": null,
   "metadata": {},
   "outputs": [],
   "source": [
    "huawei_no_ts_final_df = pd.merge(huawei_without_ts_df, huawei_stats_without_ts_df, how='left', left_on='data_tags_model_type', right_on='Model')"
   ]
  },
  {
   "cell_type": "code",
   "execution_count": null,
   "metadata": {},
   "outputs": [],
   "source": [
    "huawei_ts_final_df.groupby(['data_tags_model_type']).size()"
   ]
  },
  {
   "cell_type": "code",
   "execution_count": null,
   "metadata": {},
   "outputs": [],
   "source": [
    "huawei_no_ts_final_df.groupby(['data_tags_model_type']).size()"
   ]
  },
  {
   "cell_type": "markdown",
   "metadata": {},
   "source": [
    "### Huawei With Timestamps"
   ]
  },
  {
   "cell_type": "markdown",
   "metadata": {},
   "source": [
    "#### Full data"
   ]
  },
  {
   "cell_type": "code",
   "execution_count": null,
   "metadata": {},
   "outputs": [],
   "source": [
    "# Plot of all data points => No clear trend to see when looking at total number\n",
    "# of nodes\n",
    "g = sns.relplot(data=huawei_ts_final_df, x='val_top_5_categorical_accuracy_history_best', y='V_G', hue='data_tags_model_type', height=6, aspect=2)\n",
    "g.fig.suptitle('V_G vs Val Top 5 Accuracy For Huawei with timestamps')\n",
    "g.set_xlabels('Val Top 5 Accuracy')\n",
    "g"
   ]
  },
  {
   "cell_type": "code",
   "execution_count": null,
   "metadata": {},
   "outputs": [],
   "source": [
    "# Plot of all data points => No clear trend to see when looking at input nodes\n",
    "g = sns.relplot(data=huawei_ts_final_df, x='val_top_5_categorical_accuracy_history_best', y='V_in', hue='data_tags_model_type', height=6, aspect=2)\n",
    "g.fig.suptitle('V_in vs Val Top 5 Accuracy For Huawei with timestamps')\n",
    "g.set_xlabels('Val Top 5 Accuracy')\n",
    "g"
   ]
  },
  {
   "cell_type": "code",
   "execution_count": null,
   "metadata": {},
   "outputs": [],
   "source": [
    "# Plot of all data points => No clear trend to see when looking at hidden nodes\n",
    "g = sns.relplot(data=huawei_ts_final_df, x='val_top_5_categorical_accuracy_history_best', y='V_hidden', hue='data_tags_model_type', height=6, aspect=2)\n",
    "g.fig.suptitle('V_hidden vs Val Top 5 Accuracy For Huawei with timestamps')\n",
    "g.set_xlabels('Val Top 5 Accuracy')\n",
    "g"
   ]
  },
  {
   "cell_type": "markdown",
   "metadata": {},
   "source": [
    "#### Simple vs Causal regardless of Drain"
   ]
  },
  {
   "cell_type": "code",
   "execution_count": null,
   "metadata": {},
   "outputs": [],
   "source": [
    "simple_causal_df = huawei_ts_final_df.copy()\n",
    "simple_causal_df['algorithm_type'] = simple_causal_df['data_tags_model_type'].apply(lambda x: x.split('_')[0])\n",
    "g = sns.relplot(data=simple_causal_df, x='val_top_5_categorical_accuracy_history_best', y='V_in', hue='algorithm_type', height=6, aspect=2)\n",
    "g.fig.suptitle('V_in vs Val Top 5 Accuracy For Huawei with timestamps')\n",
    "g.set_xlabels('Val Top 5 Accuracy')\n",
    "g"
   ]
  },
  {
   "cell_type": "code",
   "execution_count": null,
   "metadata": {},
   "outputs": [],
   "source": [
    "g = sns.relplot(data=simple_causal_df, x='val_top_5_categorical_accuracy_history_best', y='V_hidden', hue='algorithm_type', height=6, aspect=2)\n",
    "g.fig.suptitle('V_hidden vs Val Top 5 Accuracy For Huawei with timestamps')\n",
    "g.set_xlabels('Val Top 5 Accuracy')\n",
    "g"
   ]
  },
  {
   "cell_type": "markdown",
   "metadata": {},
   "source": [
    "#### Simple vs other simples "
   ]
  },
  {
   "cell_type": "code",
   "execution_count": null,
   "metadata": {},
   "outputs": [],
   "source": [
    "# Note that for simple V_G = V_in\n",
    "simple_hdfs = huawei_ts_final_df[huawei_ts_final_df['data_tags_model_type'].str.startswith('simple')]\n",
    "g = sns.relplot(data=simple_hdfs, x='val_top_5_categorical_accuracy_history_best', y='V_in', hue='data_tags_model_type', height=6, aspect=2)\n",
    "g.fig.suptitle('V_in (V_G) vs Val Top 5 Accuracy For Huawei with timestamps')\n",
    "g.set_xlabels('Val Top 5 Accuracy')\n",
    "g"
   ]
  },
  {
   "cell_type": "markdown",
   "metadata": {},
   "source": [
    "#### Causal vs other causal"
   ]
  },
  {
   "cell_type": "code",
   "execution_count": null,
   "metadata": {},
   "outputs": [],
   "source": [
    "causal_huawei = huawei_ts_final_df[huawei_ts_final_df['data_tags_model_type'].str.startswith('causal')]\n",
    "g = sns.relplot(data=causal_huawei, x='val_top_5_categorical_accuracy_history_best', y='V_in', hue='data_tags_model_type', height=6, aspect=2)\n",
    "g.fig.suptitle('V_in vs Val Top 5 Accuracy For Huawei with timestamps')\n",
    "g.set_xlabels('Val Top 5 Accuracy')\n",
    "g"
   ]
  },
  {
   "cell_type": "code",
   "execution_count": null,
   "metadata": {},
   "outputs": [],
   "source": [
    "g = sns.relplot(data=causal_huawei, x='val_top_5_categorical_accuracy_history_best', y='V_hidden', hue='data_tags_model_type', height=6, aspect=2)\n",
    "g.fig.suptitle('V_hidden vs Val Top 5 Accuracy For Huawei with timestamps')\n",
    "g.set_xlabels('Val Top 5 Accuracy')\n",
    "g"
   ]
  },
  {
   "cell_type": "markdown",
   "metadata": {},
   "source": [
    "#### Compare on basis of drain settings"
   ]
  },
  {
   "cell_type": "code",
   "execution_count": null,
   "metadata": {},
   "outputs": [],
   "source": [
    "g = sns.relplot(data=huawei_ts_final_df, x='val_top_5_categorical_accuracy_history_best', y='V_G', hue='data_params_HuaweiPreprocessorConfigfine_drain_log_st', height=6, aspect=2)\n",
    "g.fig.suptitle('V_G vs Val Top 5 Accuracy For Huawei with timestamps')\n",
    "g.set_xlabels('Val Top 5 Accuracy')\n",
    "g"
   ]
  },
  {
   "cell_type": "code",
   "execution_count": null,
   "metadata": {},
   "outputs": [],
   "source": [
    "g = sns.relplot(data=huawei_ts_final_df, x='val_top_5_categorical_accuracy_history_best', y='V_in', hue='data_params_HuaweiPreprocessorConfigfine_drain_log_st', height=6, aspect=2)\n",
    "g.fig.suptitle('V_in vs Val Top 5 Accuracy For Huawei with timestamps')\n",
    "g.set_xlabels('Val Top 5 Accuracy')\n",
    "g"
   ]
  },
  {
   "cell_type": "markdown",
   "metadata": {},
   "source": [
    "### Huawei Without Timestamps"
   ]
  },
  {
   "cell_type": "markdown",
   "metadata": {},
   "source": [
    "#### Full data"
   ]
  },
  {
   "cell_type": "code",
   "execution_count": null,
   "metadata": {},
   "outputs": [],
   "source": [
    "# Plot of all data points => No clear trend to see when looking at total number\n",
    "# of nodes\n",
    "g = sns.relplot(data=huawei_no_ts_final_df, x='val_top_5_categorical_accuracy_history_best', y='V_G', hue='data_tags_model_type', height=6, aspect=2)\n",
    "g.fig.suptitle('V_G vs Val Top 5 Accuracy For Huawei without timestamps')\n",
    "g.set_xlabels('Val Top 5 Accuracy')\n",
    "g"
   ]
  },
  {
   "cell_type": "code",
   "execution_count": null,
   "metadata": {},
   "outputs": [],
   "source": [
    "# Plot of all data points => No clear trend to see when looking at input nodes\n",
    "g = sns.relplot(data=huawei_no_ts_final_df, x='val_top_5_categorical_accuracy_history_best', y='V_in', hue='data_tags_model_type', height=6, aspect=2)\n",
    "g.fig.suptitle('V_in vs Val Top 5 Accuracy For Huawei without timestamps')\n",
    "g.set_xlabels('Val Top 5 Accuracy')\n",
    "g"
   ]
  },
  {
   "cell_type": "code",
   "execution_count": null,
   "metadata": {},
   "outputs": [],
   "source": [
    "# Plot of all data points => No clear trend to see when looking at hidden nodes\n",
    "g = sns.relplot(data=huawei_no_ts_final_df, x='val_top_5_categorical_accuracy_history_best', y='V_hidden', hue='data_tags_model_type', height=6, aspect=2)\n",
    "g.fig.suptitle('V_hidden vs Val Top 5 Accuracy For Huawei without timestamps')\n",
    "g.set_xlabels('Val Top 5 Accuracy')\n",
    "g"
   ]
  },
  {
   "cell_type": "markdown",
   "metadata": {},
   "source": [
    "#### Simple vs Causal regardless of Drain"
   ]
  },
  {
   "cell_type": "code",
   "execution_count": null,
   "metadata": {},
   "outputs": [],
   "source": [
    "simple_causal_df = huawei_no_ts_final_df.copy()\n",
    "simple_causal_df['algorithm_type'] = simple_causal_df['data_tags_model_type'].apply(lambda x: x.split('_')[0])\n",
    "g = sns.relplot(data=simple_causal_df, x='val_top_5_categorical_accuracy_history_best', y='V_in', hue='algorithm_type', height=6, aspect=2)\n",
    "g.fig.suptitle('V_in vs Val Top 5 Accuracy For Huawei without timestamps')\n",
    "g.set_xlabels('Val Top 5 Accuracy')\n",
    "g"
   ]
  },
  {
   "cell_type": "code",
   "execution_count": null,
   "metadata": {},
   "outputs": [],
   "source": [
    "g = sns.relplot(data=simple_causal_df, x='val_top_5_categorical_accuracy_history_best', y='V_hidden', hue='algorithm_type', height=6, aspect=2)\n",
    "g.fig.suptitle('V_hidden vs Val Top 5 Accuracy For Huawei without timestamps')\n",
    "g.set_xlabels('Val Top 5 Accuracy')\n",
    "g"
   ]
  },
  {
   "cell_type": "markdown",
   "metadata": {},
   "source": [
    "#### Simple vs other simples "
   ]
  },
  {
   "cell_type": "code",
   "execution_count": null,
   "metadata": {},
   "outputs": [],
   "source": [
    "# Note that for simple V_G = V_in\n",
    "simple_huawei = huawei_no_ts_final_df[huawei_no_ts_final_df['data_tags_model_type'].str.startswith('simple')]\n",
    "g = sns.relplot(data=simple_huawei, x='val_top_5_categorical_accuracy_history_best', y='V_in', hue='data_tags_model_type', height=6, aspect=2)\n",
    "g.fig.suptitle('V_in (V_G) vs Val Top 5 Accuracy For Huawei without timestamps')\n",
    "g.set_xlabels('Val Top 5 Accuracy')\n",
    "g"
   ]
  },
  {
   "cell_type": "markdown",
   "metadata": {},
   "source": [
    "#### Causal vs other causal"
   ]
  },
  {
   "cell_type": "code",
   "execution_count": null,
   "metadata": {},
   "outputs": [],
   "source": [
    "causal_huawei = huawei_no_ts_final_df[huawei_no_ts_final_df['data_tags_model_type'].str.startswith('causal')]\n",
    "g = sns.relplot(data=causal_huawei, x='val_top_5_categorical_accuracy_history_best', y='V_in', hue='data_tags_model_type', height=6, aspect=2)\n",
    "g.fig.suptitle('V_in vs Val Top 5 Accuracy For Huawei without timestamps')\n",
    "g.set_xlabels('Val Top 5 Accuracy')\n",
    "g"
   ]
  },
  {
   "cell_type": "code",
   "execution_count": null,
   "metadata": {},
   "outputs": [],
   "source": [
    "g = sns.relplot(data=causal_huawei, x='val_top_5_categorical_accuracy_history_best', y='V_hidden', hue='data_tags_model_type', height=6, aspect=2)\n",
    "g.fig.suptitle('V_hidden vs Val Top 5 Accuracy For Huawei without timestamps')\n",
    "g.set_xlabels('Val Top 5 Accuracy')\n",
    "g"
   ]
  },
  {
   "cell_type": "markdown",
   "metadata": {},
   "source": [
    "#### Compare on basis of drain settings"
   ]
  },
  {
   "cell_type": "code",
   "execution_count": null,
   "metadata": {},
   "outputs": [],
   "source": [
    "g = sns.relplot(data=huawei_no_ts_final_df, x='val_top_5_categorical_accuracy_history_best', y='V_G', hue='data_params_HuaweiPreprocessorConfigfine_drain_log_st', height=6, aspect=2)\n",
    "g.fig.suptitle('V_G vs Val Top 5 Accuracy For Huawei without timestamps')\n",
    "g.set_xlabels('Val Top 5 Accuracy')\n",
    "g"
   ]
  },
  {
   "cell_type": "code",
   "execution_count": null,
   "metadata": {},
   "outputs": [],
   "source": [
    "g = sns.relplot(data=huawei_no_ts_final_df, x='val_top_5_categorical_accuracy_history_best', y='V_in', hue='data_params_HuaweiPreprocessorConfigfine_drain_log_st', height=6, aspect=2)\n",
    "g.fig.suptitle('V_in vs Val Top 5 Accuracy For Huawei without timestamps')\n",
    "g.set_xlabels('Val Top 5 Accuracy')\n",
    "g"
   ]
  },
  {
   "cell_type": "markdown",
   "metadata": {},
   "source": [
    "### BGL"
   ]
  },
  {
   "cell_type": "code",
   "execution_count": null,
   "metadata": {},
   "outputs": [],
   "source": [
    "bgl_df = mlflow_helper.run_df[\n",
    "    (mlflow_helper.run_df['data_tags_sequence_type'] == 'bgl_logs')\n",
    "    & (mlflow_helper.run_df['data_tags_model_type'].isin(['simple', 'causal_Fast-IAMB-jt']))\n",
    "    & (mlflow_helper.run_df['data_params_BGLPreprocessorConfigaggregated_log_file'] == 'data/10k/bgl/BGL_10k.csv')\n",
    "    & (mlflow_helper.run_df[\"info_status\"] == \"FINISHED\")\n",
    "    & (mlflow_helper.run_df[\"data_params_BGLPreprocessorConfigfine_drain_log_st\"].astype(str).fillna(\"\").isin(check))\n",
    "    & (mlflow_helper.run_df['data_params_ExperimentConfigonly_generate_knowledge'] == 'False')\n",
    "]\n",
    "# bgl_df = mlflow_helper.load_best_metrics_for_ids(set(bgl_df[\"info_run_id\"]))\n",
    "bgl_df"
   ]
  },
  {
   "cell_type": "code",
   "execution_count": null,
   "metadata": {},
   "outputs": [],
   "source": [
    "bgl_df = classify_sp_df(bgl_df, check, dataset='BGL')\n",
    "bgl_df.groupby(['data_tags_model_type']).size()"
   ]
  },
  {
   "cell_type": "code",
   "execution_count": null,
   "metadata": {},
   "outputs": [],
   "source": [
    "bgl_stats_df = fetch_statistics('causal_Fast-IAMB-jt', check, dataset='bgl')\n",
    "bgl_stats_df"
   ]
  },
  {
   "cell_type": "code",
   "execution_count": null,
   "metadata": {},
   "outputs": [],
   "source": [
    "# Add simple\n",
    "to_append = []\n",
    "for x in bgl_stats_df['Model'].tolist():\n",
    "    s = x.split('_')[2]\n",
    "    name = f'simple_{s}'\n",
    "    v_in = bgl_stats_df[bgl_stats_df['Model'] == x]['V_in'].tolist()[0]\n",
    "    to_append.append({\n",
    "        'Model': name,\n",
    "        'V_G': v_in,\n",
    "        'V_in': v_in,\n",
    "        'V_hidden': 0,\n",
    "        'E_G': 0\n",
    "    })\n",
    "bgl_stats_df = pd.concat([bgl_stats_df, pd.DataFrame.from_records(to_append)]).reset_index(drop=True)\n",
    "bgl_stats_df"
   ]
  },
  {
   "cell_type": "code",
   "execution_count": null,
   "metadata": {},
   "outputs": [],
   "source": [
    "bgl_final_df = pd.merge(bgl_df, bgl_stats_df, how='left', left_on='data_tags_model_type', right_on='Model')"
   ]
  },
  {
   "cell_type": "code",
   "execution_count": null,
   "metadata": {},
   "outputs": [],
   "source": [
    "bgl_final_df.groupby(['data_tags_model_type']).size()"
   ]
  },
  {
   "cell_type": "markdown",
   "metadata": {},
   "source": [
    "### HDFS"
   ]
  },
  {
   "cell_type": "code",
   "execution_count": null,
   "metadata": {},
   "outputs": [],
   "source": [
    "hdfs_df = mlflow_helper.run_df[\n",
    "    (mlflow_helper.run_df['data_tags_sequence_type'] == 'hdfs_logs')\n",
    "    & (mlflow_helper.run_df['data_tags_model_type'].isin(['simple', 'causal_Fast-IAMB-jt']))\n",
    "    & (mlflow_helper.run_df['data_params_HDFSPreprocessorConfigaggregated_log_file'] == 'data/10k/hdfs/HDFS_10k.csv')\n",
    "    & (mlflow_helper.run_df[\"info_status\"] == \"FINISHED\")\n",
    "    & (mlflow_helper.run_df[\"data_params_HDFSPreprocessorConfigfine_drain_log_st\"].astype(str).fillna(\"\").isin(check))\n",
    "    & (mlflow_helper.run_df['data_params_ExperimentConfigonly_generate_knowledge'] == 'False')\n",
    "]\n",
    "hdfs_df = mlflow_helper.load_best_metrics_for_ids(set(hdfs_df[\"info_run_id\"]))"
   ]
  },
  {
   "cell_type": "code",
   "execution_count": null,
   "metadata": {},
   "outputs": [],
   "source": [
    "hdfs_df = classify_sp_df(hdfs_df, check, dataset='HDFS')\n",
    "hdfs_df.groupby(['data_tags_model_type']).size()"
   ]
  },
  {
   "cell_type": "code",
   "execution_count": null,
   "metadata": {},
   "outputs": [],
   "source": [
    "hdfs_stats_df = fetch_statistics('causal_Fast-IAMB-jt', check, dataset='hdfs', size='10k')\n",
    "# Remove modifiers\n",
    "hdfs_stats_df['Model'] = hdfs_stats_df['Model'].apply(lambda x: x.replace('_st', ''))"
   ]
  },
  {
   "cell_type": "code",
   "execution_count": null,
   "metadata": {},
   "outputs": [],
   "source": [
    "# Add simple\n",
    "to_append = []\n",
    "for x in hdfs_stats_df['Model'].tolist():\n",
    "    s = x.split('_')[2]\n",
    "    name = f'simple_{s}'\n",
    "    v_in = hdfs_stats_df[hdfs_stats_df['Model'] == x]['V_in'].tolist()[0]\n",
    "    to_append.append({\n",
    "        'Model': name,\n",
    "        'V_G': v_in,\n",
    "        'V_in': v_in,\n",
    "        'V_hidden': 0,\n",
    "        'E_G': 0\n",
    "    })\n",
    "hdfs_stats_df = pd.concat([hdfs_stats_df, pd.DataFrame.from_records(to_append)]).reset_index(drop=True)\n",
    "hdfs_stats_df"
   ]
  },
  {
   "cell_type": "code",
   "execution_count": null,
   "metadata": {},
   "outputs": [],
   "source": [
    "hdfs_final_df = pd.merge(hdfs_df, hdfs_stats_df, how='left', left_on='data_tags_model_type', right_on='Model')"
   ]
  },
  {
   "cell_type": "code",
   "execution_count": null,
   "metadata": {},
   "outputs": [],
   "source": [
    "hdfs_final_df.groupby(['data_tags_model_type']).size()"
   ]
  },
  {
   "cell_type": "markdown",
   "metadata": {},
   "source": [
    "#### Full data"
   ]
  },
  {
   "cell_type": "code",
   "execution_count": null,
   "metadata": {},
   "outputs": [],
   "source": [
    "# Plot of all data points => No clear trend to see when looking at total number\n",
    "# of nodes\n",
    "g = sns.relplot(data=hdfs_final_df, x='val_top_5_categorical_accuracy_history_best', y='V_G', hue='data_tags_model_type', height=6, aspect=2)\n",
    "g.fig.suptitle('V_G vs Val Top 5 Accuracy For HDFS')\n",
    "g.set_xlabels('Val Top 5 Accuracy')\n",
    "g"
   ]
  },
  {
   "cell_type": "code",
   "execution_count": null,
   "metadata": {},
   "outputs": [],
   "source": [
    "# Plot of all data points => No clear trend to see when looking at input nodes\n",
    "g = sns.relplot(data=hdfs_final_df, x='val_top_5_categorical_accuracy_history_best', y='V_in', hue='data_tags_model_type', height=6, aspect=2)\n",
    "g.fig.suptitle('V_in vs Val Top 5 Accuracy For HDFS')\n",
    "g.set_xlabels('Val Top 5 Accuracy')\n",
    "g"
   ]
  },
  {
   "cell_type": "code",
   "execution_count": null,
   "metadata": {},
   "outputs": [],
   "source": [
    "# Plot of all data points => No clear trend to see when looking at hidden nodes\n",
    "g = sns.relplot(data=hdfs_final_df, x='val_top_5_categorical_accuracy_history_best', y='V_hidden', hue='data_tags_model_type', height=6, aspect=2)\n",
    "g.fig.suptitle('V_hidden vs Val Top 5 Accuracy For HDFS')\n",
    "g.set_xlabels('Val Top 5 Accuracy')\n",
    "g"
   ]
  },
  {
   "cell_type": "markdown",
   "metadata": {},
   "source": [
    "#### Simple vs Causal regardless of Drain"
   ]
  },
  {
   "cell_type": "code",
   "execution_count": null,
   "metadata": {},
   "outputs": [],
   "source": [
    "simple_causal_df = hdfs_final_df.copy()\n",
    "simple_causal_df['algorithm_type'] = simple_causal_df['data_tags_model_type'].apply(lambda x: x.split('_')[0])\n",
    "g = sns.relplot(data=simple_causal_df, x='val_top_5_categorical_accuracy_history_best', y='V_in', hue='algorithm_type', height=6, aspect=2)\n",
    "g.fig.suptitle('V_in vs Val Top 5 Accuracy For HDFS')\n",
    "g.set_xlabels('Val Top 5 Accuracy')\n",
    "g"
   ]
  },
  {
   "cell_type": "code",
   "execution_count": null,
   "metadata": {},
   "outputs": [],
   "source": [
    "g = sns.relplot(data=simple_causal_df, x='val_top_5_categorical_accuracy_history_best', y='V_hidden', hue='algorithm_type', height=6, aspect=2)\n",
    "g.fig.suptitle('V_hidden vs Val Top 5 Accuracy For HDFS')\n",
    "g.set_xlabels('Val Top 5 Accuracy')\n",
    "g"
   ]
  },
  {
   "cell_type": "markdown",
   "metadata": {},
   "source": [
    "#### Simple vs other simples "
   ]
  },
  {
   "cell_type": "code",
   "execution_count": null,
   "metadata": {},
   "outputs": [],
   "source": [
    "# Note that for simple V_G = V_in\n",
    "simple_hdfs = hdfs_final_df[hdfs_final_df['data_tags_model_type'].str.startswith('simple')]\n",
    "g = sns.relplot(data=simple_hdfs, x='val_top_5_categorical_accuracy_history_best', y='V_in', hue='data_tags_model_type', height=6, aspect=2)\n",
    "g.fig.suptitle('V_in (V_G) vs Val Top 5 Accuracy For HDFS')\n",
    "g.set_xlabels('Val Top 5 Accuracy')\n",
    "g"
   ]
  },
  {
   "cell_type": "markdown",
   "metadata": {},
   "source": [
    "#### Causal vs other causal"
   ]
  },
  {
   "cell_type": "code",
   "execution_count": null,
   "metadata": {},
   "outputs": [],
   "source": [
    "causal_hdfs = hdfs_final_df[hdfs_final_df['data_tags_model_type'].str.startswith('causal')]\n",
    "g = sns.relplot(data=causal_hdfs, x='val_top_5_categorical_accuracy_history_best', y='V_in', hue='data_tags_model_type', height=6, aspect=2)\n",
    "g.fig.suptitle('V_in vs Val Top 5 Accuracy For HDFS')\n",
    "g.set_xlabels('Val Top 5 Accuracy')\n",
    "g"
   ]
  },
  {
   "cell_type": "code",
   "execution_count": null,
   "metadata": {},
   "outputs": [],
   "source": [
    "causal_hdfs = hdfs_final_df[hdfs_final_df['data_tags_model_type'].str.startswith('causal')]\n",
    "g = sns.relplot(data=causal_hdfs, x='val_top_5_categorical_accuracy_history_best', y='V_hidden', hue='data_tags_model_type', height=6, aspect=2)\n",
    "g.fig.suptitle('V_hidden vs Val Top 5 Accuracy For HDFS')\n",
    "g.set_xlabels('Val Top 5 Accuracy')\n",
    "g"
   ]
  },
  {
   "cell_type": "markdown",
   "metadata": {},
   "source": [
    "#### Compare on basis of drain settings"
   ]
  },
  {
   "cell_type": "code",
   "execution_count": null,
   "metadata": {},
   "outputs": [],
   "source": [
    "g = sns.relplot(data=hdfs_final_df, x='val_top_5_categorical_accuracy_history_best', y='V_G', hue='data_params_HDFSPreprocessorConfigfine_drain_log_st', height=6, aspect=2)\n",
    "g.fig.suptitle('V_G vs Val Top 5 Accuracy For HDFS')\n",
    "g.set_xlabels('Val Top 5 Accuracy')\n",
    "g"
   ]
  },
  {
   "cell_type": "code",
   "execution_count": null,
   "metadata": {},
   "outputs": [],
   "source": [
    "g = sns.relplot(data=hdfs_final_df, x='val_top_5_categorical_accuracy_history_best', y='V_in', hue='data_params_HDFSPreprocessorConfigfine_drain_log_st', height=6, aspect=2)\n",
    "g.fig.suptitle('V_in vs Val Top 5 Accuracy For HDFS')\n",
    "g.set_xlabels('Val Top 5 Accuracy')\n",
    "g"
   ]
  },
  {
   "attachments": {},
   "cell_type": "markdown",
   "metadata": {},
   "source": [
    "# Results - Performance"
   ]
  },
  {
   "attachments": {},
   "cell_type": "markdown",
   "metadata": {},
   "source": [
    "## Huawei"
   ]
  },
  {
   "cell_type": "code",
   "execution_count": null,
   "metadata": {},
   "outputs": [],
   "source": [
    "experimented_algos = [\"causal_Fast-IAMB-jt\", \"causal_Fast-IAMB-smc-cor\", \"causal_MMPC-cor\"]\n",
    "huawei_df = mlflow_helper.run_df[\n",
    "    (mlflow_helper.run_df['data_tags_sequence_type'] == 'huawei_logs')\n",
    "    & (mlflow_helper.run_df['data_params_ExperimentConfigmax_data_size'] == '-1')\n",
    "    & (mlflow_helper.run_df['data_tags_model_type'].isin(experimented_algos + ['simple']))\n",
    "    & (mlflow_helper.run_df['data_params_HuaweiPreprocessorConfigaggregated_log_file'] == 'data/logs_aggregated_concurrent_original.csv')\n",
    "    & (mlflow_helper.run_df[\"data_params_SequenceConfigtest_percentage\"].fillna(\"\").astype(str) == \"0.1\")\n",
    "    & (mlflow_helper.run_df[\"data_params_ModelConfigbest_model_metric\"] == \"val_loss\")\n",
    "    & (mlflow_helper.run_df[\"info_status\"] == \"FINISHED\")\n",
    "    & (mlflow_helper.run_df[\"data_params_ModelConfigrnn_dim\"] == \"200\")\n",
    "    & (mlflow_helper.run_df[\"data_params_ModelConfigoptimizer\"].fillna(\"adam\") == \"adam\")\n",
    "    & (mlflow_helper.run_df[\"data_params_ModelConfigdropout_rate\"].fillna(\"0.0\").astype(str) == \"0.5\")\n",
    "    & (mlflow_helper.run_df[\"data_params_ModelConfigrnn_dropout\"].fillna(\"0.0\").astype(str) == \"0.0\")\n",
    "    & (mlflow_helper.run_df[\"data_params_ModelConfigkernel_regularizer_scope\"].fillna(\"[]\") == \"[]\")\n",
    "    & (mlflow_helper.run_df[\"data_params_ExperimentConfigbatch_size\"].astype(str).fillna(\"\") == \"128\")\n",
    "    & (mlflow_helper.run_df['data_params_HuaweiPreprocessorConfigaggregated_log_file'] == 'data/logs_aggregated_concurrent_original.csv')\n",
    "    & (mlflow_helper.run_df['data_params_ExperimentConfigmax_data_size'] == '-1')\n",
    "    & (mlflow_helper.run_df['data_params_HuaweiPreprocessorConfigcausal_algorithm_alpha'].isin([np.nan, '0.05']))\n",
    "    & (mlflow_helper.run_df[\"data_params_HuaweiPreprocessorConfigfine_drain_log_st\"].astype(str).fillna(\"\").isin(['0.77', '0.75']))\n",
    "    & (mlflow_helper.run_df[\"data_params_HuaweiPreprocessorConfigfine_drain_log_depth\"].astype(str).fillna(\"\") == \"10\")\n",
    "    & (mlflow_helper.run_df['data_params_ExperimentConfigonly_generate_knowledge'] == 'False')\n",
    "]\n",
    "huawei_df = mlflow_helper.load_best_metrics_for_ids(set(huawei_df[\"info_run_id\"]))\n",
    "huawei_df = categorize_run_df(huawei_df)"
   ]
  },
  {
   "cell_type": "code",
   "execution_count": null,
   "metadata": {},
   "outputs": [],
   "source": [
    "count_attributes(huawei_df)"
   ]
  },
  {
   "cell_type": "code",
   "execution_count": null,
   "metadata": {},
   "outputs": [],
   "source": [
    "pd.options.display.max_colwidth = 100\n",
    "sorted_top_5_accuracy_median_df = pd.DataFrame(\n",
    "    huawei_df.groupby(['data_tags_model_type'])['val_top_5_categorical_accuracy_history_best']\n",
    "    .median()\n",
    "    .sort_values(ascending=False)).reset_index()\n",
    "sorted_top_5_accuracy_median_df"
   ]
  },
  {
   "cell_type": "code",
   "execution_count": null,
   "metadata": {},
   "outputs": [],
   "source": [
    "# Sort by mean top 5 categorical accuracy\n",
    "sorted_top_5_accuracy_mean_df = pd.DataFrame(\n",
    "    huawei_df.groupby(['data_tags_model_type'])['val_top_5_categorical_accuracy_history_best']\n",
    "    .mean()\n",
    "    .sort_values(ascending=False)).reset_index()\n",
    "sorted_top_5_accuracy_mean_df"
   ]
  },
  {
   "cell_type": "code",
   "execution_count": null,
   "metadata": {},
   "outputs": [],
   "source": [
    "k = 3\n",
    "# Without timestamps\n",
    "top_k_mean_no_ts = sorted_top_5_accuracy_mean_df['data_tags_model_type'].tolist()[:k]\n",
    "top_k_median_no_ts = sorted_top_5_accuracy_median_df['data_tags_model_type'].tolist()[:k]\n",
    "\n",
    "if \"simple_without_ts\" not in top_k_mean_no_ts:\n",
    "    top_k_mean_no_ts.append('simple_without_ts')\n",
    "\n",
    "if \"simple_without_ts\" not in top_k_median_no_ts:\n",
    "    top_k_median_no_ts.append('simple_without_ts')\n",
    "\n",
    "# With timestamps\n",
    "top_k_mean_ts = list(filter(lambda x: x.endswith('with_ts'),sorted_top_5_accuracy_mean_df['data_tags_model_type'].tolist()))[:k]\n",
    "top_k_median_ts = list(filter(lambda x: x.endswith('with_ts'),sorted_top_5_accuracy_median_df['data_tags_model_type'].tolist()))[:k]\n",
    "\n",
    "if \"simple_with_ts\" not in top_k_mean_ts:\n",
    "    top_k_mean_ts.append('simple_with_ts')\n",
    "\n",
    "if \"simple_with_ts\" not in top_k_median_ts:\n",
    "    top_k_median_ts.append('simple_with_ts')"
   ]
  },
  {
   "attachments": {},
   "cell_type": "markdown",
   "metadata": {},
   "source": [
    "### With Timestamps"
   ]
  },
  {
   "cell_type": "code",
   "execution_count": null,
   "metadata": {},
   "outputs": [],
   "source": [
    "plot_best_metric_bar(huawei_df, ['val_top_5_categorical_accuracy_history_best'],\n",
    "x_order = top_k_mean_ts,\n",
    "height=8,\n",
    "aspect=2)"
   ]
  },
  {
   "attachments": {},
   "cell_type": "markdown",
   "metadata": {},
   "source": [
    "### Without Timestamps"
   ]
  },
  {
   "cell_type": "code",
   "execution_count": null,
   "metadata": {},
   "outputs": [],
   "source": [
    "plot_best_metric_bar(huawei_df, ['val_top_5_categorical_accuracy_history_best'],\n",
    "x_order = top_k_mean_no_ts,\n",
    "height=8,\n",
    "aspect=2)"
   ]
  },
  {
   "attachments": {},
   "cell_type": "markdown",
   "metadata": {},
   "source": [
    "## BGL"
   ]
  },
  {
   "cell_type": "code",
   "execution_count": null,
   "metadata": {},
   "outputs": [],
   "source": [
    "bgl_df = mlflow_helper.run_df[\n",
    "    (mlflow_helper.run_df['data_tags_sequence_type'] == \"bgl_logs\")\n",
    "    & (mlflow_helper.run_df['data_params_BGLPreprocessorConfigaggregated_log_file'] == 'data/BGL_2k.csv')\n",
    "    & (mlflow_helper.run_df['data_params_ExperimentConfigonly_generate_knowledge'] == 'False')\n",
    "]\n",
    "# Categorize by templates\n",
    "bgl_df.loc[bgl_df['data_params_HuaweiPreprocessorConfigfine_drain_log_st'] == '0.77', 'data_tags_model_type'] = bgl_df.loc[\n",
    "    bgl_df['data_params_HuaweiPreprocessorConfigfine_drain_log_st'] == '0.77', 'data_tags_model_type'\n",
    "].apply(lambda x: x + \"_more_templates\")\n",
    "bgl_df.loc[bgl_df['data_params_HuaweiPreprocessorConfigfine_drain_log_st'] == '0.73', 'data_tags_model_type'] = bgl_df.loc[\n",
    "    bgl_df['data_params_HuaweiPreprocessorConfigfine_drain_log_st'] == '0.73', 'data_tags_model_type'\n",
    "].apply(lambda x: x + \"_less_templates\")\n",
    "bgl_df = mlflow_helper.load_best_metrics_for_ids(set(bgl_df['info_run_id']))"
   ]
  },
  {
   "cell_type": "code",
   "execution_count": null,
   "metadata": {},
   "outputs": [],
   "source": [
    "count_attributes(bgl_df)"
   ]
  },
  {
   "cell_type": "code",
   "execution_count": null,
   "metadata": {},
   "outputs": [],
   "source": [
    "model_types = list(set(bgl_df['data_tags_model_type']))\n",
    "plot_best_metric_bar(bgl_df, ['val_top_5_categorical_accuracy_history_best'], x_order=model_types, height=6, aspect=2)"
   ]
  },
  {
   "attachments": {},
   "cell_type": "markdown",
   "metadata": {},
   "source": [
    "## HDFS"
   ]
  },
  {
   "cell_type": "code",
   "execution_count": null,
   "metadata": {},
   "outputs": [],
   "source": [
    "hdfs_df = mlflow_helper.run_df[\n",
    "    (mlflow_helper.run_df['data_tags_sequence_type'] == \"hdfs_logs\")\n",
    "    & (mlflow_helper.run_df['data_params_HDFSPreprocessorConfigaggregated_log_file'] == 'data/HDFS_2k.csv')\n",
    "    & (mlflow_helper.run_df['data_params_ExperimentConfigonly_generate_knowledge'] == 'False')\n",
    "]\n",
    "hdfs_df = mlflow_helper.load_best_metrics_for_ids(set(hdfs_df['info_run_id']))\n",
    "# Categorize by templates\n",
    "hdfs_df.loc[hdfs_df['data_params_HuaweiPreprocessorConfigfine_drain_log_st'] == '0.77', 'data_tags_model_type'] = hdfs_df.loc[\n",
    "    hdfs_df['data_params_HuaweiPreprocessorConfigfine_drain_log_st'] == '0.77', 'data_tags_model_type'\n",
    "].apply(lambda x: x + \"_more_templates\")\n",
    "hdfs_df.loc[hdfs_df['data_params_HuaweiPreprocessorConfigfine_drain_log_st'] == '0.73', 'data_tags_model_type'] = hdfs_df.loc[\n",
    "    hdfs_df['data_params_HuaweiPreprocessorConfigfine_drain_log_st'] == '0.73', 'data_tags_model_type'\n",
    "].apply(lambda x: x + \"_less_templates\")"
   ]
  },
  {
   "cell_type": "code",
   "execution_count": null,
   "metadata": {},
   "outputs": [],
   "source": [
    "count_attributes(hdfs_df)"
   ]
  },
  {
   "cell_type": "code",
   "execution_count": null,
   "metadata": {},
   "outputs": [],
   "source": [
    "model_types = list(set(hdfs_df['data_tags_model_type']))\n",
    "plot_best_metric_bar(hdfs_df, ['val_top_5_categorical_accuracy_history_best'], x_order=model_types, height=6, aspect=2)"
   ]
  },
  {
   "attachments": {},
   "cell_type": "markdown",
   "metadata": {},
   "source": [
    "# Results - Scatter Plots"
   ]
  },
  {
   "cell_type": "code",
   "execution_count": null,
   "metadata": {},
   "outputs": [],
   "source": [
    "def read_knowledge_dataframes(knowledge_type):\n",
    "    knowledge_path = Path(f'/home/i40/almasrirz/Domain-Guided-Monitoring/data/knowledge_{knowledge_type}')\n",
    "    pathlist = knowledge_path.glob('**/*.csv')\n",
    "    dataframes = {}\n",
    "    for path in pathlist:\n",
    "        knowledge_name = path.name.split('_knowledge')[0]\n",
    "        dataframes[knowledge_name] = pd.read_csv(path)\n",
    "    return dataframes"
   ]
  },
  {
   "cell_type": "code",
   "execution_count": null,
   "metadata": {},
   "outputs": [],
   "source": [
    "def fetch_statistics(knowledge_type):\n",
    "    statistics_records = []\n",
    "    dataframes = read_knowledge_dataframes(knowledge_type)\n",
    "    for name, df in dataframes.items():\n",
    "        k = None\n",
    "        metadata = f'/home/i40/almasrirz/Domain-Guided-Monitoring/data/knowledge_{knowledge_type}/x_vocab'\n",
    "        if 'with_ts' in name:\n",
    "            metadata += '_with_ts'\n",
    "        if 'without_ts' in name:\n",
    "            metadata += '_without_ts'\n",
    "        if 'more_templates' in name:\n",
    "            metadata += '_more_templates'\n",
    "           \n",
    "        with open(metadata + '.json', 'r') as file:\n",
    "            metadata = json.load(file)\n",
    "\n",
    "        if name.startswith('causal'):\n",
    "            k = knowledge.CausalityKnowledge(knowledge.KnowledgeConfig())\n",
    "            k.build_causality_from_df(df, metadata)\n",
    "        elif name.startswith('hierarchy'):\n",
    "            k = knowledge.HierarchyKnowledge(knowledge.KnowledgeConfig())\n",
    "            k.build_hierarchy_from_df(df, metadata)\n",
    "        else:\n",
    "            k = knowledge.DescriptionKnowledge(knowledge.KnowledgeConfig())\n",
    "            k.build_knowledge_from_df(df, metadata)\n",
    "        v_in = len(k.vocab)\n",
    "        v_g = len(k.extended_vocab)\n",
    "        v_hidden = v_g - v_in\n",
    "        edges = set()\n",
    "        for i in range(len(k.vocab)):\n",
    "            connections = k.get_connections_for_idx(i)\n",
    "            for connection in connections:\n",
    "                edges.add((i, connection))\n",
    "        statistics_records.append({\n",
    "            'Model': name,\n",
    "            'V_G': v_g,\n",
    "            'V_in': v_in,\n",
    "            'V_hidden': v_hidden,\n",
    "            'E_G': len(edges)\n",
    "        })\n",
    "    return pd.DataFrame.from_records(statistics_records)"
   ]
  },
  {
   "attachments": {},
   "cell_type": "markdown",
   "metadata": {},
   "source": [
    "## BGL"
   ]
  },
  {
   "cell_type": "code",
   "execution_count": null,
   "metadata": {},
   "outputs": [],
   "source": [
    "bgl_stats_df = fetch_statistics('bgl')\n",
    "bgl_stats_df = bgl_stats_df[~(bgl_stats_df['Model'].str.endswith('label'))]\n",
    "bgl_stats_df"
   ]
  },
  {
   "cell_type": "code",
   "execution_count": null,
   "metadata": {},
   "outputs": [],
   "source": [
    "bgl_sp_df = pd.merge(bgl_df, bgl_stats_df, how='left', left_on='data_tags_model_type', right_on='Model')\n",
    "set(bgl_sp_df['data_tags_model_type'])"
   ]
  },
  {
   "cell_type": "code",
   "execution_count": null,
   "metadata": {},
   "outputs": [],
   "source": [
    "g = sns.relplot(data=bgl_sp_df, x='val_top_5_categorical_accuracy_history_best', y='V_G', hue='data_tags_model_type', height=6, aspect=2)\n",
    "g.fig.suptitle('V_G vs Val Top 5 Accuracy')\n",
    "g.set_xlabels('Val Top 5 Accuracy')\n",
    "g"
   ]
  },
  {
   "cell_type": "code",
   "execution_count": null,
   "metadata": {},
   "outputs": [],
   "source": [
    "g = sns.relplot(data=bgl_sp_df, x='val_top_5_categorical_accuracy_history_best', y='E_G', hue='data_tags_model_type', height=6, aspect=2)\n",
    "g.fig.suptitle('E_G vs Val Top 5 Accuracy')\n",
    "g.set_xlabels('Val Top 5 Accuracy')\n",
    "g"
   ]
  },
  {
   "attachments": {},
   "cell_type": "markdown",
   "metadata": {},
   "source": [
    "## HDFS"
   ]
  },
  {
   "cell_type": "code",
   "execution_count": null,
   "metadata": {},
   "outputs": [],
   "source": [
    "hdfs_stats_df = fetch_statistics('hdfs')\n",
    "hdfs_stats_df"
   ]
  },
  {
   "cell_type": "code",
   "execution_count": null,
   "metadata": {},
   "outputs": [],
   "source": [
    "hdfs_sp_df = pd.merge(hdfs_df, hdfs_stats_df, how='left', left_on='data_tags_model_type', right_on='Model')\n",
    "set(hdfs_sp_df['data_tags_model_type'])"
   ]
  },
  {
   "cell_type": "code",
   "execution_count": null,
   "metadata": {},
   "outputs": [],
   "source": [
    "g = sns.relplot(data=hdfs_sp_df, x='val_top_5_categorical_accuracy_history_best', y='V_G', hue='data_tags_model_type', height=6, aspect=2)\n",
    "g.fig.suptitle('V_G vs Val Top 5 Accuracy')\n",
    "g.set_xlabels('Val Top 5 Accuracy')\n",
    "g"
   ]
  },
  {
   "cell_type": "code",
   "execution_count": null,
   "metadata": {},
   "outputs": [],
   "source": [
    "g = sns.relplot(data=hdfs_sp_df, x='val_top_5_categorical_accuracy_history_best', y='E_G', hue='data_tags_model_type', height=6, aspect=2)\n",
    "g.fig.suptitle('E_G vs Val Top 5 Accuracy')\n",
    "g.set_xlabels('Val Top 5 Accuracy')\n",
    "g"
   ]
  },
  {
   "attachments": {},
   "cell_type": "markdown",
   "metadata": {},
   "source": [
    "## Huawei"
   ]
  },
  {
   "cell_type": "code",
   "execution_count": null,
   "metadata": {},
   "outputs": [],
   "source": [
    "knowledge_types_with_ts = ['simple_with_ts',\n",
    "                           'causal_heuristic_with_ts',\n",
    "                           'text_with_ts',\n",
    "                           'hierarchy_with_ts',\n",
    "                           'causal_Fast-IAMB-jt_with_ts_small_small',\n",
    "                           'causal_Fast-IAMB-jt_with_ts_more_templates_small_small']\n",
    "knowledge_types_without_ts = ['simple_without_ts',\n",
    "                           'causal_heuristic_without_ts',\n",
    "                           'text_without_ts',\n",
    "                           'text_without_ts_more_templates',\n",
    "                           'hierarchy_without_ts',\n",
    "                           'hierarchy_without_ts_more_templates',\n",
    "                           'causal_Fast-IAMB-jt_without_ts_small_small',\n",
    "                           'causal_Fast-IAMB-jt_without_ts_more_templates_small_small']"
   ]
  },
  {
   "cell_type": "code",
   "execution_count": null,
   "metadata": {},
   "outputs": [],
   "source": [
    "experimented_algos = [\"causal_Fast-IAMB-jt\", \"simple\", \"hierarchy\", \"text\", \"causal_heuristic\"]\n",
    "huawei_df = mlflow_helper.run_df[\n",
    "    (mlflow_helper.run_df['data_tags_sequence_type'] == 'huawei_logs')\n",
    "    & (mlflow_helper.run_df['data_params_ExperimentConfigmax_data_size'] == '-1')\n",
    "    & (mlflow_helper.run_df['data_tags_model_type'].isin(experimented_algos))\n",
    "    & (mlflow_helper.run_df[\"info_status\"] == \"FINISHED\")\n",
    "    & (mlflow_helper.run_df['data_params_ExperimentConfigmax_data_size'] == '-1')\n",
    "    & (mlflow_helper.run_df['data_params_HuaweiPreprocessorConfigaggregated_log_file'] == 'data/logs_aggregated_concurrent_original.csv')\n",
    "    & (mlflow_helper.run_df['data_params_HuaweiPreprocessorConfigmin_causality'] == '0.01')\n",
    "    & (mlflow_helper.run_df['data_params_HuaweiPreprocessorConfigcausal_algorithm_alpha'].isin([np.nan, '0.05']))\n",
    "    & (mlflow_helper.run_df[\"data_params_HuaweiPreprocessorConfigfine_drain_log_st\"].astype(str).fillna(\"\").isin(['0.77', '0.75']))\n",
    "    & (mlflow_helper.run_df[\"data_params_HuaweiPreprocessorConfigfine_drain_log_depth\"].astype(str).fillna(\"\") == \"10\")\n",
    "    & (mlflow_helper.run_df['data_params_ExperimentConfigonly_generate_knowledge'] == 'False')\n",
    "]\n",
    "huawei_df = mlflow_helper.load_best_metrics_for_ids(set(huawei_df[\"info_run_id\"]))\n",
    "huawei_df = categorize_run_df(huawei_df)"
   ]
  },
  {
   "cell_type": "code",
   "execution_count": null,
   "metadata": {},
   "outputs": [],
   "source": [
    "huawei_stats_df = fetch_statistics('huawei')"
   ]
  },
  {
   "cell_type": "code",
   "execution_count": null,
   "metadata": {},
   "outputs": [],
   "source": [
    "huawei_stats_with_ts_df = huawei_stats_df[huawei_stats_df['Model'].isin(knowledge_types_with_ts)]\n",
    "huawei_stats_with_ts_df"
   ]
  },
  {
   "cell_type": "code",
   "execution_count": null,
   "metadata": {},
   "outputs": [],
   "source": [
    "huawei_stats_without_ts_df = huawei_stats_df[huawei_stats_df['Model'].isin(knowledge_types_without_ts)]\n",
    "huawei_stats_without_ts_df"
   ]
  },
  {
   "cell_type": "code",
   "execution_count": null,
   "metadata": {},
   "outputs": [],
   "source": [
    "huawei_stats_filtered_df = pd.concat([huawei_stats_with_ts_df, huawei_stats_without_ts_df]).reset_index(drop=True)\n",
    "huawei_stats_filtered_df"
   ]
  },
  {
   "cell_type": "code",
   "execution_count": null,
   "metadata": {},
   "outputs": [],
   "source": [
    "# Need to replace the causal_Fast-IAMB-jt column name to match the huawei_df\n",
    "huawei_stats_filtered_df.replace({\n",
    "    'causal_Fast-IAMB-jt_with_ts_more_templates_small_small': 'causal_Fast-IAMB-jt+small-small_more_templates_with_ts',\n",
    "    'causal_Fast-IAMB-jt_without_ts_more_templates_small_small': 'causal_Fast-IAMB-jt+small-small_more_templates_without_ts',\n",
    "    'causal_Fast-IAMB-jt_with_ts_small_small': 'causal_Fast-IAMB-jt+small_small_with_ts',\n",
    "    'causal_Fast-IAMB-jt_without_ts_small_small': 'causal_Fast-IAMB-jt+small-small_without_ts',\n",
    "    'causal_Fast-IAMB-jt_with_ts_small_small': 'causal_Fast-IAMB-jt+small-small_with_ts',\n",
    "    'hierarchy_without_ts_more_templates': 'hierarchy_more_templates_without_ts',\n",
    "    'text_without_ts_more_templates': 'text_more_templates_without_ts',\n",
    "    }, inplace=True)\n",
    "huawei_stats_filtered_df"
   ]
  },
  {
   "cell_type": "code",
   "execution_count": null,
   "metadata": {},
   "outputs": [],
   "source": [
    "count_attributes(huawei_df)"
   ]
  },
  {
   "cell_type": "code",
   "execution_count": null,
   "metadata": {},
   "outputs": [],
   "source": [
    "huawei_filtered_df = huawei_df[huawei_df['data_tags_model_type'].isin(huawei_stats_filtered_df['Model'].tolist())]\n",
    "count_attributes(huawei_filtered_df)"
   ]
  },
  {
   "cell_type": "code",
   "execution_count": null,
   "metadata": {},
   "outputs": [],
   "source": [
    "huawei_merged_df = pd.merge(huawei_filtered_df, huawei_stats_filtered_df, how='left', left_on=['data_tags_model_type'], right_on=['Model'])"
   ]
  },
  {
   "cell_type": "code",
   "execution_count": null,
   "metadata": {},
   "outputs": [],
   "source": [
    "count_attributes(huawei_filtered_df)"
   ]
  },
  {
   "cell_type": "code",
   "execution_count": null,
   "metadata": {},
   "outputs": [],
   "source": [
    "g = sns.relplot(data=huawei_merged_df, x='val_top_5_categorical_accuracy_history_best', y='V_in', hue='data_tags_model_type', height=6, aspect=2)\n",
    "g.fig.suptitle('V_in vs Val Top 5 Accuracy')\n",
    "g.set_xlabels('Val Top 5 Accuracy')\n",
    "g"
   ]
  },
  {
   "cell_type": "code",
   "execution_count": null,
   "metadata": {},
   "outputs": [],
   "source": [
    "g = sns.relplot(data=huawei_merged_df, x='val_top_5_categorical_accuracy_history_best', y='V_G', hue='data_tags_model_type', height=6, aspect=2)\n",
    "g.fig.suptitle('V_G vs Val Top 5 Accuracy')\n",
    "g.set_xlabels('Val Top 5 Accuracy')\n",
    "g"
   ]
  },
  {
   "cell_type": "code",
   "execution_count": null,
   "metadata": {},
   "outputs": [],
   "source": [
    "g = sns.relplot(data=huawei_merged_df, x='val_top_5_categorical_accuracy_history_best', y='V_hidden', hue='data_tags_model_type', height=6, aspect=2)\n",
    "g.fig.suptitle('V_hidden vs Val Top 5 Accuracy')\n",
    "g.set_xlabels('Val Top 5 Accuracy')\n",
    "g"
   ]
  },
  {
   "cell_type": "code",
   "execution_count": null,
   "metadata": {},
   "outputs": [],
   "source": [
    "g = sns.relplot(data=huawei_merged_df, x='val_top_5_categorical_accuracy_history_best', y='E_G', hue='data_tags_model_type', height=6, aspect=2)\n",
    "g.fig.suptitle('E_G vs Val Top 5 Accuracy')\n",
    "g.set_xlabels('Val Top 5 Accuracy')\n",
    "g"
   ]
  },
  {
   "cell_type": "code",
   "execution_count": null,
   "metadata": {},
   "outputs": [],
   "source": [
    "df = huawei_merged_df[huawei_merged_df['data_tags_model_type'].str.startswith('causal_Fast-IAMB-jt')]\n",
    "g = sns.relplot(data=df, x='val_top_5_categorical_accuracy_history_best', y='V_G', hue='data_tags_model_type', height=6, aspect=2)\n",
    "g.fig.suptitle('V_in vs Val Top 5 Accuracy for Causal_Fast-IAMB-jt')\n",
    "g.set_xlabels('Val Top 5 Accuracy')\n",
    "g"
   ]
  },
  {
   "cell_type": "code",
   "execution_count": null,
   "metadata": {},
   "outputs": [],
   "source": [
    "df = huawei_merged_df[huawei_merged_df['data_tags_model_type'].str.startswith('hierarchy')]\n",
    "g = sns.relplot(data=df, x='val_top_5_categorical_accuracy_history_best', y='V_G', hue='data_tags_model_type', height=6, aspect=2)\n",
    "g.fig.suptitle('V_in vs Val Top 5 Accuracy for Hierarchy')\n",
    "g.set_xlabels('Val Top 5 Accuracy')\n",
    "g"
   ]
  },
  {
   "cell_type": "code",
   "execution_count": null,
   "metadata": {},
   "outputs": [],
   "source": [
    "df = huawei_merged_df[huawei_merged_df['data_tags_model_type'].str.startswith('text')]\n",
    "g = sns.relplot(data=df, x='val_top_5_categorical_accuracy_history_best', y='V_G', hue='data_tags_model_type', height=6, aspect=2)\n",
    "g.fig.suptitle('V_in vs Val Top 5 Accuracy for text')\n",
    "g.set_xlabels('Val Top 5 Accuracy')\n",
    "g"
   ]
  },
  {
   "cell_type": "code",
   "execution_count": null,
   "metadata": {},
   "outputs": [],
   "source": []
  }
 ],
 "metadata": {
  "kernelspec": {
   "display_name": "Python 3",
   "language": "python",
   "name": "python3"
  },
  "language_info": {
   "codemirror_mode": {
    "name": "ipython",
    "version": 3
   },
   "file_extension": ".py",
   "mimetype": "text/x-python",
   "name": "python",
   "nbconvert_exporter": "python",
   "pygments_lexer": "ipython3",
   "version": "3.8.15"
  },
  "orig_nbformat": 4,
  "vscode": {
   "interpreter": {
    "hash": "80d5d9b3524735f659a5adb9b2f8b758bc6f38bab46a1e1da290b7b375c07e0c"
   }
  }
 },
 "nbformat": 4,
 "nbformat_minor": 2
}
